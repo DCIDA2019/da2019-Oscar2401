{
 "cells": [
  {
   "cell_type": "code",
   "execution_count": 1,
   "metadata": {},
   "outputs": [],
   "source": [
    "import numpy as np\n",
    "import math as mt\n",
    "import matplotlib.pyplot as plt\n",
    "import pandas as pd"
   ]
  },
  {
   "cell_type": "markdown",
   "metadata": {},
   "source": [
    "### Ejercicioi (Ejercicio tomado de curso en Udacity):\n",
    "1.-Descarga el archivo http://video.udacity-data.com.s3.amazonaws.com/topher/2017/January/58733f30_weather-underground/weather-underground.csv\n",
    "\n",
    "2.-Responde a la siguientes preguntas:"
   ]
  },
  {
   "cell_type": "code",
   "execution_count": 5,
   "metadata": {},
   "outputs": [],
   "source": [
    "weather  = pd.read_csv('weather-underground.csv')"
   ]
  },
  {
   "cell_type": "code",
   "execution_count": 7,
   "metadata": {},
   "outputs": [
    {
     "data": {
      "text/plain": [
       "Index(['date', 'maxpressurem', 'maxdewptm', 'maxpressurei', 'maxdewpti',\n",
       "       'since1julheatingdegreedaysnormal', 'heatingdegreedaysnormal',\n",
       "       'since1sepcoolingdegreedaysnormal', 'hail', 'since1julsnowfallm',\n",
       "       'since1julheatingdegreedays', 'maxvisi',\n",
       "       'since1sepheatingdegreedaysnormal', 'heatingdegreedays', 'mindewptm',\n",
       "       'since1sepheatingdegreedays', 'maxwspdm', 'since1julsnowfalli',\n",
       "       'since1sepcoolingdegreedays', 'snow', 'meanvism', 'meandewptm',\n",
       "       'snowdepthm', 'meanvisi', 'fog', 'snowdepthi', 'minvism',\n",
       "       'since1jancoolingdegreedays', 'minvisi', 'coolingdegreedaysnormal',\n",
       "       'gdegreedays', 'maxwspdi', 'meanwindspdi', 'meanpressurei',\n",
       "       'monthtodateheatingdegreedaysnormal', 'meanwindspdm', 'meanpressurem',\n",
       "       'tornado', 'mindewpti', 'mintempi', 'meandewpti', 'rain', 'mintempm',\n",
       "       'minhumidity', 'precipsource', 'minwspdi', 'meanwdird', 'meanwdire',\n",
       "       'minwspdm', 'monthtodatesnowfalli',\n",
       "       'monthtodatecoolingdegreedaysnormal', 'monthtodatesnowfallm',\n",
       "       'maxhumidity', 'coolingdegreedays', 'maxtempm', 'minpressurei',\n",
       "       'monthtodatecoolingdegreedays', 'maxtempi', 'minpressurem', 'humidity',\n",
       "       'precipi', 'snowfalli', 'since1jancoolingdegreedaysnormal', 'precipm',\n",
       "       'snowfallm', 'thunder', 'monthtodateheatingdegreedays', 'meantempi',\n",
       "       'maxvism', 'meantempm'],\n",
       "      dtype='object')"
      ]
     },
     "execution_count": 7,
     "metadata": {},
     "output_type": "execute_result"
    }
   ],
   "source": [
    "weather.keys()"
   ]
  },
  {
   "cell_type": "markdown",
   "metadata": {},
   "source": [
    "#### ¿Cuantos días ha llovido?"
   ]
  },
  {
   "cell_type": "code",
   "execution_count": 117,
   "metadata": {},
   "outputs": [
    {
     "name": "stdout",
     "output_type": "stream",
     "text": [
      "Ha llovido 10 días\n"
     ]
    }
   ],
   "source": [
    "print('Ha llovido',weather.rain[weather.rain != 0].shape[0], 'días')"
   ]
  },
  {
   "cell_type": "markdown",
   "metadata": {},
   "source": [
    "#### ¿Cuál ha sido la temperatura máxima para días con neblina y dias sin neblina?"
   ]
  },
  {
   "cell_type": "code",
   "execution_count": 198,
   "metadata": {},
   "outputs": [
    {
     "data": {
      "text/plain": [
       "date        2011-05-24\n",
       "maxtempi            81\n",
       "dtype: object"
      ]
     },
     "execution_count": 198,
     "metadata": {},
     "output_type": "execute_result"
    }
   ],
   "source": [
    "weather[['date','maxtempi']][weather.fog != 0].max()"
   ]
  },
  {
   "cell_type": "code",
   "execution_count": 196,
   "metadata": {},
   "outputs": [
    {
     "data": {
      "text/plain": [
       "date        2011-05-30\n",
       "maxtempi            86\n",
       "dtype: object"
      ]
     },
     "execution_count": 196,
     "metadata": {},
     "output_type": "execute_result"
    }
   ],
   "source": [
    "weather[['date','maxtempi']][weather.fog == 0.].max()"
   ]
  },
  {
   "cell_type": "markdown",
   "metadata": {},
   "source": [
    "#### ¿Cuál es la temperatura promedio durante fines de semana?"
   ]
  },
  {
   "cell_type": "code",
   "execution_count": 135,
   "metadata": {},
   "outputs": [
    {
     "name": "stdout",
     "output_type": "stream",
     "text": [
      "la temperatura promedio durante fines de semana es:  18.33 F\n"
     ]
    }
   ],
   "source": [
    "T_mean_fds = np.round(pd.concat([weather[0::7].meantempm,weather[6::7].meantempm]).mean(),2)\n",
    "print('la temperatura promedio durante fines de semana es: ',T_mean_fds, 'F')"
   ]
  },
  {
   "cell_type": "code",
   "execution_count": 140,
   "metadata": {},
   "outputs": [
    {
     "name": "stdout",
     "output_type": "stream",
     "text": [
      "la temperatura promedio durante fines de semana es:  65.11 F\n"
     ]
    }
   ],
   "source": [
    "T_mean_fds = np.round(pd.concat([weather[0::7].meantempi,weather[6::7].meantempi]).mean(),2)\n",
    "print('la temperatura promedio durante fines de semana es: ',T_mean_fds, 'F')"
   ]
  },
  {
   "cell_type": "markdown",
   "metadata": {},
   "source": [
    "#### ¿Cuál es el promedio de la temperatura minima en días lluviosos que tienen una temperatura minima de 55 grados F?"
   ]
  },
  {
   "cell_type": "code",
   "execution_count": 200,
   "metadata": {},
   "outputs": [
    {
     "name": "stdout",
     "output_type": "stream",
     "text": [
      "La promedio de la temperatura minima en días lluviosos que tienen una temperatura minima de 55 grados F es 59.17\n"
     ]
    }
   ],
   "source": [
    "T_mean_55 = np.round(weather.mintempi[weather.rain != 0][weather.mintempi[weather.rain != 0]>=55].mean(),2)\n",
    "print('La promedio de la temperatura minima en días lluviosos que tienen una temperatura minima de 55 grados F es',T_mean_55)"
   ]
  },
  {
   "cell_type": "markdown",
   "metadata": {},
   "source": [
    "## Establece otras preguntas y a continuación respondelas. "
   ]
  },
  {
   "cell_type": "markdown",
   "metadata": {},
   "source": [
    "#### ¿Cual es la humedad minima y maxima promedio cuando llueve?"
   ]
  },
  {
   "cell_type": "code",
   "execution_count": 150,
   "metadata": {},
   "outputs": [
    {
     "data": {
      "text/plain": [
       "98.6"
      ]
     },
     "execution_count": 150,
     "metadata": {},
     "output_type": "execute_result"
    }
   ],
   "source": [
    "weather.maxhumidity[weather.rain != 0].mean()"
   ]
  },
  {
   "cell_type": "code",
   "execution_count": 151,
   "metadata": {},
   "outputs": [
    {
     "data": {
      "text/plain": [
       "74.9"
      ]
     },
     "execution_count": 151,
     "metadata": {},
     "output_type": "execute_result"
    }
   ],
   "source": [
    "weather.minhumidity[weather.rain != 0].mean()"
   ]
  },
  {
   "cell_type": "markdown",
   "metadata": {},
   "source": [
    "#### Días con maxima humedad en el mes"
   ]
  },
  {
   "cell_type": "code",
   "execution_count": 162,
   "metadata": {},
   "outputs": [
    {
     "data": {
      "text/plain": [
       "14    2011-05-15\n",
       "15    2011-05-16\n",
       "16    2011-05-17\n",
       "17    2011-05-18\n",
       "18    2011-05-19\n",
       "19    2011-05-20\n",
       "20    2011-05-21\n",
       "22    2011-05-23\n",
       "Name: date, dtype: object"
      ]
     },
     "execution_count": 162,
     "metadata": {},
     "output_type": "execute_result"
    }
   ],
   "source": [
    "weather.date[(weather.maxhumidity.max() == weather.maxhumidity) & (weather.rain != 0)]"
   ]
  },
  {
   "cell_type": "markdown",
   "metadata": {},
   "source": [
    "#### Temperatura minima cuando llueve en mayo"
   ]
  },
  {
   "cell_type": "code",
   "execution_count": 166,
   "metadata": {},
   "outputs": [
    {
     "data": {
      "text/plain": [
       "3    2011-05-04\n",
       "Name: date, dtype: object"
      ]
     },
     "execution_count": 166,
     "metadata": {},
     "output_type": "execute_result"
    }
   ],
   "source": [
    "weather.date[(weather.mintempi.min() == weather.mintempi) & (weather.rain != 0)]"
   ]
  },
  {
   "cell_type": "code",
   "execution_count": 168,
   "metadata": {},
   "outputs": [
    {
     "data": {
      "text/plain": [
       "46"
      ]
     },
     "execution_count": 168,
     "metadata": {},
     "output_type": "execute_result"
    }
   ],
   "source": [
    "weather.mintempi[weather.rain != 0].min()"
   ]
  },
  {
   "cell_type": "markdown",
   "metadata": {},
   "source": [
    "#### Día en que se registro la minima presión"
   ]
  },
  {
   "cell_type": "code",
   "execution_count": 175,
   "metadata": {},
   "outputs": [
    {
     "data": {
      "text/html": [
       "<div>\n",
       "<style scoped>\n",
       "    .dataframe tbody tr th:only-of-type {\n",
       "        vertical-align: middle;\n",
       "    }\n",
       "\n",
       "    .dataframe tbody tr th {\n",
       "        vertical-align: top;\n",
       "    }\n",
       "\n",
       "    .dataframe thead th {\n",
       "        text-align: right;\n",
       "    }\n",
       "</style>\n",
       "<table border=\"1\" class=\"dataframe\">\n",
       "  <thead>\n",
       "    <tr style=\"text-align: right;\">\n",
       "      <th></th>\n",
       "      <th>date</th>\n",
       "      <th>minpressurei</th>\n",
       "    </tr>\n",
       "  </thead>\n",
       "  <tbody>\n",
       "    <tr>\n",
       "      <th>23</th>\n",
       "      <td>2011-05-24</td>\n",
       "      <td>29.54</td>\n",
       "    </tr>\n",
       "  </tbody>\n",
       "</table>\n",
       "</div>"
      ],
      "text/plain": [
       "          date  minpressurei\n",
       "23  2011-05-24         29.54"
      ]
     },
     "execution_count": 175,
     "metadata": {},
     "output_type": "execute_result"
    }
   ],
   "source": [
    "weather[['date','minpressurei']][weather.minpressurei == weather.minpressurei.min()]"
   ]
  },
  {
   "cell_type": "code",
   "execution_count": 189,
   "metadata": {},
   "outputs": [
    {
     "data": {
      "image/png": "[encoded data removed]",
      "text/plain": [
       "<Figure size 432x288 with 1 Axes>"
      ]
     },
     "metadata": {},
     "output_type": "display_data"
    }
   ],
   "source": [
    "x= np.linspace(1,len(weather.date),len(weather.date))\n",
    "plt.plot(x,weather.meantempm)\n",
    "plt.xlabel('DIAS')\n",
    "plt.ylabel('MEAD TEM');"
   ]
  },
  {
   "cell_type": "code",
   "execution_count": 190,
   "metadata": {},
   "outputs": [
    {
     "data": {
      "image/png": "[encoded data removed]",
      "text/plain": [
       "<Figure size 432x288 with 1 Axes>"
      ]
     },
     "metadata": {},
     "output_type": "display_data"
    }
   ],
   "source": [
    "plt.plot(x,weather.meanpressurei)\n",
    "plt.xlabel('DIAS')\n",
    "plt.ylabel('MEAD PRESS');"
   ]
  },
  {
   "cell_type": "code",
   "execution_count": 201,
   "metadata": {},
   "outputs": [
    {
     "data": {
      "text/plain": [
       "\"\\ncast(strftime('%w',date) as integer) == 0 \\n\\n\""
      ]
     },
     "execution_count": 201,
     "metadata": {},
     "output_type": "execute_result"
    }
   ],
   "source": [
    "\"\"\"\n",
    "cast(strftime('%w',date) as integer) == 0 \n",
    "\n",
    "\"\"\"\n",
    "### cambia de str a integer "
   ]
  },
  {
   "cell_type": "code",
   "execution_count": 202,
   "metadata": {},
   "outputs": [],
   "source": [
    "from pandasql import sqldf\n",
    "from pandasql import *"
   ]
  },
  {
   "cell_type": "markdown",
   "metadata": {},
   "source": [
    "http://legacysurvey.org/dr8/catalogs/"
   ]
  },
  {
   "cell_type": "code",
   "execution_count": null,
   "metadata": {},
   "outputs": [],
   "source": []
  }
 ],
 "metadata": {
  "kernelspec": {
   "display_name": "Python 3",
   "language": "python",
   "name": "python3"
  },
  "language_info": {
   "codemirror_mode": {
    "name": "ipython",
    "version": 3
   },
   "file_extension": ".py",
   "mimetype": "text/x-python",
   "name": "python",
   "nbconvert_exporter": "python",
   "pygments_lexer": "ipython3",
   "version": "3.6.8"
  }
 },
 "nbformat": 4,
 "nbformat_minor": 2
}
