{
 "cells": [
  {
   "cell_type": "code",
   "execution_count": 1,
   "metadata": {},
   "outputs": [],
   "source": [
    "import numpy as np\n",
    "import math as mt\n",
    "import matplotlib.pyplot as plt\n",
    "import pandas as pd\n",
    "import requests\n",
    "import os\n",
    "import lxml.html as lh"
   ]
  },
  {
   "cell_type": "code",
   "execution_count": 2,
   "metadata": {},
   "outputs": [],
   "source": [
    "path_ll_18 = '/home/echeveste/Mis_trabajos/analisis_datos/da2019-Oscar2401/Semana2/Tareas/dato_temperaturas_lluvia/201801010000Lluv.csv'\n",
    "path_Mx_18 = '/home/echeveste/Mis_trabajos/analisis_datos/da2019-Oscar2401/Semana2/Tareas/dato_temperaturas_lluvia/201801010000TMax.csv'\n",
    "path_Mm_18 = '/home/echeveste/Mis_trabajos/analisis_datos/da2019-Oscar2401/Semana2/Tareas/dato_temperaturas_lluvia/201801010000TMin.csv'\n",
    "path_Md_18 = '/home/echeveste/Mis_trabajos/analisis_datos/da2019-Oscar2401/Semana2/Tareas/dato_temperaturas_lluvia/201801010000TMed.csv'\n",
    "path_ll_19 = '/home/echeveste/Mis_trabajos/analisis_datos/da2019-Oscar2401/Semana2/Tareas/dato_temperaturas_lluvia/201905010000Lluv.csv'\n",
    "path_Mx_19 = '/home/echeveste/Mis_trabajos/analisis_datos/da2019-Oscar2401/Semana2/Tareas/dato_temperaturas_lluvia/201901010000TMax.csv'\n",
    "path_Mm_19 = '/home/echeveste/Mis_trabajos/analisis_datos/da2019-Oscar2401/Semana2/Tareas/dato_temperaturas_lluvia/201901010000TMin.csv'\n",
    "path_Md_19 = '/home/echeveste/Mis_trabajos/analisis_datos/da2019-Oscar2401/Semana2/Tareas/dato_temperaturas_lluvia/201901010000TMed.csv'"
   ]
  },
  {
   "cell_type": "code",
   "execution_count": 24,
   "metadata": {},
   "outputs": [],
   "source": [
    "lluvias_2018 = pd.read_csv(path_ll_18,encoding='latin-1')\n",
    "Maxima_2018 = pd.read_csv(path_Mx_18,encoding='latin-1')\n",
    "Minima_2018 = pd.read_csv(path_Mm_18,encoding='latin-1')\n",
    "Media_2018 = pd.read_csv(path_Md_18,encoding='latin-1')\n",
    "#Cambiamos algunas etiquetas de columnas ESTADO por Edo\n",
    "lluvias_2018 = lluvias_2018.rename(columns={'LON':'Lon','LAT':'Lat','ESTADO':'Edo','CLAVE_SIH':'Clave','NOMBRE':'Est','ENE':'Ene/18'}) \n",
    "\n",
    "lluvias_2019 = pd.read_csv(path_ll_19,encoding='latin-1')\n",
    "Maxima_2019 = pd.read_csv(path_Mx_19,encoding='latin-1')\n",
    "Minima_2019 = pd.read_csv(path_Mm_19,encoding='latin-1')\n",
    "Media_2019 = pd.read_csv(path_Md_19,encoding='latin-1')\n",
    "#Cambiamos algunas etiquetas de columnas EDO por Edo\n",
    "lluvias_2019 = lluvias_2019.rename(columns={'LON':'Lon','LAT':'Lat','EDO':'Edo','CLAVE_SIH':'Clave','NOMBRE':'Est','MAY':'May/19'})"
   ]
  },
  {
   "cell_type": "code",
   "execution_count": 4,
   "metadata": {},
   "outputs": [],
   "source": [
    "#Combinamos las tablas en una sola base de datos:\n",
    "T_2018 = pd.merge(pd.merge(Media_2018,Maxima_2018),Minima_2018)\n",
    "T_2019 = pd.merge(pd.merge(Media_2019,Maxima_2019),Minima_2019)\n",
    "Temperatura = pd.concat([T_2018, T_2019], keys=['2018', '2019'],sort=False)[['Lon', 'Lat', 'Edo', 'Clave', 'Est', 'Tmed','Tmax','Tmin']]"
   ]
  },
  {
   "cell_type": "code",
   "execution_count": 37,
   "metadata": {},
   "outputs": [
    {
     "name": "stdout",
     "output_type": "stream",
     "text": [
      "Estados de 2018 --> ['AGS' 'BC' 'BCS' 'CAMP' 'CHIH' 'CHIS' 'COAH' 'COL' 'DF' 'DGO' 'GRO' 'GTO'\n",
      " 'HGO' 'JAL' 'MEX' 'MICH' 'MOR' 'NAY' 'NL' 'OAX' 'PUE' 'QRO' 'QROO' 'SIN'\n",
      " 'SLP' 'SON' 'TAB' 'TAMS' 'TLAX' 'VER' 'YUC' 'ZAC']\n",
      "Estados de 2019 --> ['AGS' 'BC' 'BCS' 'CAMP' 'CHIH' 'CHIS' 'COAH' 'COL' 'DF' 'DGO' 'GRO' 'GTO'\n",
      " 'HGO' 'JAL' 'MEX' 'MICH' 'MOR' 'NAY' 'NL' 'OAX' 'PUE' 'QRO' 'QROO' 'SIN'\n",
      " 'SLP' 'SON' 'TAB' 'TAMS' 'TLAX' 'VER' 'YUC' 'ZAC']\n",
      "[ True  True  True  True  True  True  True  True  True  True  True  True\n",
      "  True  True  True  True  True  True  True  True  True  True  True  True\n",
      "  True  True  True  True  True  True  True  True]\n"
     ]
    }
   ],
   "source": [
    "edos_2018 = np.unique(lluvias_2018['Edo'])\n",
    "edos_2019 = np.unique(lluvias_2019['Edo'])\n",
    "print('Estados de 2018 -->',edos_2018)\n",
    "print('Estados de 2019 -->',edos_2019)\n",
    "#Comparar si tenemos los mismos elementos \n",
    "print(np.in1d(edos_2018, edos_2019))"
   ]
  },
  {
   "cell_type": "code",
   "execution_count": 107,
   "metadata": {},
   "outputs": [
    {
     "name": "stdout",
     "output_type": "stream",
     "text": [
      "Edo mean_2019(May) mean_2018(Ene)\n"
     ]
    }
   ],
   "source": [
    "mean2019_edo_may = [] \n",
    "mean2018_edo_ene = [] \n",
    "print('Edo','mean_2019(May)','mean_2018(Ene)')\n",
    "for edo in edos_2019:\n",
    "    w = lluvias_2019['Edo'] == edo\n",
    "    w2 = lluvias_2018['Edo'] == edo\n",
    "    mean2019_edo_may.append(lluvias_2019[w]['May/19'].mean())\n",
    "    mean2018_edo_ene.append(lluvias_2018[w2]['Ene/18'].mean())\n",
    "    \n",
    "mean2018_edo_ene = np.asarray(mean2018_edo_ene)\n",
    "mean2019_edo_may = np.asarray(mean2019_edo_may)"
   ]
  },
  {
   "cell_type": "code",
   "execution_count": null,
   "metadata": {},
   "outputs": [],
   "source": []
  },
  {
   "cell_type": "code",
   "execution_count": 127,
   "metadata": {},
   "outputs": [
    {
     "name": "stdout",
     "output_type": "stream",
     "text": [
      "0.00023255813953488373\n"
     ]
    },
    {
     "data": {
      "text/plain": [
       "0.00023255813953488373"
      ]
     },
     "execution_count": 127,
     "metadata": {},
     "output_type": "execute_result"
    }
   ],
   "source": [
    "#for i in range(len(edos_2019)):\n",
    "#    print(edos_2019[i],mean2019_edo_may[i])\n",
    "\n",
    "print(min(mean2019_edo_may))\n",
    "min_may = min(mean2019_edo_may)\n",
    "indx = np.where(mean2019_edo_may == min_may)\n",
    "mean2019_edo_may[indx[0]][0]"
   ]
  },
  {
   "cell_type": "code",
   "execution_count": 56,
   "metadata": {},
   "outputs": [
    {
     "data": {
      "text/plain": [
       "Edo\n",
       "AGS      27.820408\n",
       "BC       12.509375\n",
       "BCS       0.959375\n",
       "CAMP     73.983333\n",
       "CHIH      0.252830\n",
       "CHIS     88.653731\n",
       "COAH      1.034884\n",
       "COL       4.565625\n",
       "DF       10.831061\n",
       "DGO       2.812500\n",
       "GRO       1.716092\n",
       "GTO       3.164384\n",
       "HGO      26.507895\n",
       "JAL      10.752174\n",
       "MEX      12.246250\n",
       "MICH     13.926154\n",
       "MOR       1.258065\n",
       "NAY       1.668182\n",
       "NL       19.781250\n",
       "OAX      35.540741\n",
       "PUE      63.418667\n",
       "QRO       0.446154\n",
       "QROO     77.323810\n",
       "SIN       0.258462\n",
       "SLP      21.120833\n",
       "SON       0.601471\n",
       "TAB     304.619231\n",
       "TAMS     20.932836\n",
       "TLAX      4.416667\n",
       "VER     106.777982\n",
       "YUC      41.983333\n",
       "ZAC      29.805479\n",
       "Name: Ene/18, dtype: float64"
      ]
     },
     "execution_count": 56,
     "metadata": {},
     "output_type": "execute_result"
    }
   ],
   "source": [
    "lluvias_2018.groupby('Edo')['Ene/18'].mean()"
   ]
  },
  {
   "cell_type": "code",
   "execution_count": null,
   "metadata": {},
   "outputs": [],
   "source": []
  }
 ],
 "metadata": {
  "kernelspec": {
   "display_name": "Python 3",
   "language": "python",
   "name": "python3"
  },
  "language_info": {
   "codemirror_mode": {
    "name": "ipython",
    "version": 3
   },
   "file_extension": ".py",
   "mimetype": "text/x-python",
   "name": "python",
   "nbconvert_exporter": "python",
   "pygments_lexer": "ipython3",
   "version": "3.6.8"
  }
 },
 "nbformat": 4,
 "nbformat_minor": 2
}
