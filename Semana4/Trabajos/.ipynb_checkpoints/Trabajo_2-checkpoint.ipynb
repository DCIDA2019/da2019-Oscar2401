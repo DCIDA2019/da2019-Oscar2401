{
 "cells": [
  {
   "cell_type": "code",
   "execution_count": 1,
   "metadata": {},
   "outputs": [],
   "source": [
    "import numpy as np\n",
    "import math as mt\n",
    "import matplotlib.pyplot as plt\n",
    "import pandas as pd\n",
    "import requests\n",
    "import os\n",
    "import lxml.html as lh"
   ]
  },
  {
   "cell_type": "code",
   "execution_count": 2,
   "metadata": {},
   "outputs": [],
   "source": [
    "sueldos  = pd.read_excel('/home/echeveste/Mis_trabajos/analisis_datos/da2019-Oscar2401/Semana2/Trabajos/tabulador_pe2019.xls',header=9)"
   ]
  },
  {
   "cell_type": "code",
   "execution_count": 3,
   "metadata": {},
   "outputs": [
    {
     "data": {
      "text/html": [
       "<div>\n",
       "<style scoped>\n",
       "    .dataframe tbody tr th:only-of-type {\n",
       "        vertical-align: middle;\n",
       "    }\n",
       "\n",
       "    .dataframe tbody tr th {\n",
       "        vertical-align: top;\n",
       "    }\n",
       "\n",
       "    .dataframe thead th {\n",
       "        text-align: right;\n",
       "    }\n",
       "</style>\n",
       "<table border=\"1\" class=\"dataframe\">\n",
       "  <thead>\n",
       "    <tr style=\"text-align: right;\">\n",
       "      <th></th>\n",
       "      <th>NIVEL</th>\n",
       "      <th>TIPO</th>\n",
       "      <th>PUESTO</th>\n",
       "      <th>SUELDO BASE</th>\n",
       "      <th>CUOTAS SEGURIDAD SOCIAL</th>\n",
       "      <th>PREVISIÓN SOCIAL</th>\n",
       "      <th>AYUDA X SERVICIOS</th>\n",
       "      <th>APOYO FAMILIAR</th>\n",
       "      <th>GRATIFICACIÓN QUINCENAL</th>\n",
       "      <th>SUELDO MENSUAL BRUTO</th>\n",
       "      <th>IMPTO MENSUAL</th>\n",
       "      <th>ISSEG</th>\n",
       "      <th>ISSSTE</th>\n",
       "      <th>SUELDO MENSUAL NETO</th>\n",
       "      <th>PRIMA VACACIONAL</th>\n",
       "      <th>AGUINALDO</th>\n",
       "    </tr>\n",
       "  </thead>\n",
       "  <tbody>\n",
       "    <tr>\n",
       "      <th>0</th>\n",
       "      <td>22</td>\n",
       "      <td>NaN</td>\n",
       "      <td>GOBERNADOR/A DEL ESTADO</td>\n",
       "      <td>59804.327930</td>\n",
       "      <td>5843.07</td>\n",
       "      <td>1913.1</td>\n",
       "      <td>25897</td>\n",
       "      <td>64294.837780</td>\n",
       "      <td>75373.99</td>\n",
       "      <td>233126.325711</td>\n",
       "      <td>69584.321342</td>\n",
       "      <td>5082.66</td>\n",
       "      <td>760.41</td>\n",
       "      <td>157698.934369</td>\n",
       "      <td>10 Días por Año</td>\n",
       "      <td>45 Días por Año</td>\n",
       "    </tr>\n",
       "    <tr>\n",
       "      <th>1</th>\n",
       "      <td>20</td>\n",
       "      <td>NaN</td>\n",
       "      <td>SECRETARIO/A DE ESTADO A</td>\n",
       "      <td>49025.945517</td>\n",
       "      <td>5843.07</td>\n",
       "      <td>1913.1</td>\n",
       "      <td>22783</td>\n",
       "      <td>48858.839699</td>\n",
       "      <td>67187.62</td>\n",
       "      <td>195611.575216</td>\n",
       "      <td>56829.306173</td>\n",
       "      <td>5082.66</td>\n",
       "      <td>760.41</td>\n",
       "      <td>132939.199042</td>\n",
       "      <td>10 Días por Año</td>\n",
       "      <td>45 Días por Año</td>\n",
       "    </tr>\n",
       "    <tr>\n",
       "      <th>2</th>\n",
       "      <td>19</td>\n",
       "      <td>NaN</td>\n",
       "      <td>DIRECTOR/A GENERAL PARAESTATAL A</td>\n",
       "      <td>40685.951590</td>\n",
       "      <td>5843.07</td>\n",
       "      <td>1913.1</td>\n",
       "      <td>18805</td>\n",
       "      <td>41397.705456</td>\n",
       "      <td>49230.82</td>\n",
       "      <td>157875.647046</td>\n",
       "      <td>43999.090596</td>\n",
       "      <td>5082.66</td>\n",
       "      <td>760.41</td>\n",
       "      <td>108033.486450</td>\n",
       "      <td>10 Días por Año</td>\n",
       "      <td>45 Días por Año</td>\n",
       "    </tr>\n",
       "    <tr>\n",
       "      <th>3</th>\n",
       "      <td>19</td>\n",
       "      <td>NaN</td>\n",
       "      <td>SECRETARIO/A DE ESTADO B</td>\n",
       "      <td>40685.951590</td>\n",
       "      <td>5843.07</td>\n",
       "      <td>1913.1</td>\n",
       "      <td>18805</td>\n",
       "      <td>41397.705456</td>\n",
       "      <td>49230.82</td>\n",
       "      <td>157875.647046</td>\n",
       "      <td>43999.090596</td>\n",
       "      <td>5082.66</td>\n",
       "      <td>760.41</td>\n",
       "      <td>108033.486450</td>\n",
       "      <td>10 Días por Año</td>\n",
       "      <td>45 Días por Año</td>\n",
       "    </tr>\n",
       "    <tr>\n",
       "      <th>4</th>\n",
       "      <td>18</td>\n",
       "      <td>NaN</td>\n",
       "      <td>SECRETARIO/A DE ESTADO C</td>\n",
       "      <td>37083.708634</td>\n",
       "      <td>5843.07</td>\n",
       "      <td>1913.1</td>\n",
       "      <td>16756</td>\n",
       "      <td>35924.238404</td>\n",
       "      <td>42651.90</td>\n",
       "      <td>140172.017038</td>\n",
       "      <td>37979.856393</td>\n",
       "      <td>5082.66</td>\n",
       "      <td>760.41</td>\n",
       "      <td>96349.090645</td>\n",
       "      <td>10 Días por Año</td>\n",
       "      <td>45 Días por Año</td>\n",
       "    </tr>\n",
       "  </tbody>\n",
       "</table>\n",
       "</div>"
      ],
      "text/plain": [
       "   NIVEL TIPO                            PUESTO   SUELDO BASE  \\\n",
       "0     22  NaN           GOBERNADOR/A DEL ESTADO  59804.327930   \n",
       "1     20  NaN          SECRETARIO/A DE ESTADO A  49025.945517   \n",
       "2     19  NaN  DIRECTOR/A GENERAL PARAESTATAL A  40685.951590   \n",
       "3     19  NaN          SECRETARIO/A DE ESTADO B  40685.951590   \n",
       "4     18  NaN          SECRETARIO/A DE ESTADO C  37083.708634   \n",
       "\n",
       "   CUOTAS SEGURIDAD SOCIAL  PREVISIÓN SOCIAL  AYUDA X SERVICIOS  \\\n",
       "0                  5843.07            1913.1              25897   \n",
       "1                  5843.07            1913.1              22783   \n",
       "2                  5843.07            1913.1              18805   \n",
       "3                  5843.07            1913.1              18805   \n",
       "4                  5843.07            1913.1              16756   \n",
       "\n",
       "   APOYO FAMILIAR  GRATIFICACIÓN QUINCENAL  SUELDO MENSUAL BRUTO  \\\n",
       "0    64294.837780                 75373.99         233126.325711   \n",
       "1    48858.839699                 67187.62         195611.575216   \n",
       "2    41397.705456                 49230.82         157875.647046   \n",
       "3    41397.705456                 49230.82         157875.647046   \n",
       "4    35924.238404                 42651.90         140172.017038   \n",
       "\n",
       "   IMPTO MENSUAL    ISSEG  ISSSTE  SUELDO MENSUAL NETO PRIMA VACACIONAL  \\\n",
       "0   69584.321342  5082.66  760.41        157698.934369  10 Días por Año   \n",
       "1   56829.306173  5082.66  760.41        132939.199042  10 Días por Año   \n",
       "2   43999.090596  5082.66  760.41        108033.486450  10 Días por Año   \n",
       "3   43999.090596  5082.66  760.41        108033.486450  10 Días por Año   \n",
       "4   37979.856393  5082.66  760.41         96349.090645  10 Días por Año   \n",
       "\n",
       "         AGUINALDO  \n",
       "0  45 Días por Año  \n",
       "1  45 Días por Año  \n",
       "2  45 Días por Año  \n",
       "3  45 Días por Año  \n",
       "4  45 Días por Año  "
      ]
     },
     "execution_count": 3,
     "metadata": {},
     "output_type": "execute_result"
    }
   ],
   "source": [
    "sueldos.head()"
   ]
  },
  {
   "cell_type": "markdown",
   "metadata": {},
   "source": [
    "#### ¿Cuál es promedio de las contribuciones del sueldo de un trabajador en esta dependencia?"
   ]
  },
  {
   "cell_type": "code",
   "execution_count": 4,
   "metadata": {},
   "outputs": [
    {
     "data": {
      "text/plain": [
       "49467.3759351061"
      ]
     },
     "execution_count": 4,
     "metadata": {},
     "output_type": "execute_result"
    }
   ],
   "source": [
    "sueldos.describe()['SUELDO MENSUAL BRUTO']['mean']"
   ]
  },
  {
   "cell_type": "code",
   "execution_count": 5,
   "metadata": {},
   "outputs": [
    {
     "data": {
      "text/plain": [
       "35829.35357437968"
      ]
     },
     "execution_count": 5,
     "metadata": {},
     "output_type": "execute_result"
    }
   ],
   "source": [
    "sueldos.describe()['SUELDO MENSUAL NETO']['mean']"
   ]
  },
  {
   "cell_type": "markdown",
   "metadata": {},
   "source": [
    "#### ¿Media y  Moda de las contribuciones del sueldo de un trabajador ? Rango interquartil de la distribución. "
   ]
  },
  {
   "cell_type": "code",
   "execution_count": 6,
   "metadata": {},
   "outputs": [
    {
     "data": {
      "text/plain": [
       "0    8294.835952\n",
       "1    9609.786902\n",
       "dtype: float64"
      ]
     },
     "execution_count": 6,
     "metadata": {},
     "output_type": "execute_result"
    }
   ],
   "source": [
    "sueldos['SUELDO MENSUAL NETO'].mode()"
   ]
  },
  {
   "cell_type": "code",
   "execution_count": 7,
   "metadata": {},
   "outputs": [
    {
     "data": {
      "text/plain": [
       "25%    10289.592141\n",
       "50%    22078.225282\n",
       "75%    50363.213596\n",
       "Name: SUELDO MENSUAL NETO, dtype: float64"
      ]
     },
     "execution_count": 7,
     "metadata": {},
     "output_type": "execute_result"
    }
   ],
   "source": [
    "sueldos.describe()['SUELDO MENSUAL NETO'].loc['25%':'75%']"
   ]
  },
  {
   "cell_type": "markdown",
   "metadata": {},
   "source": [
    "#### ¿Cuál es la dispersión de sueldos?"
   ]
  },
  {
   "cell_type": "code",
   "execution_count": 8,
   "metadata": {},
   "outputs": [
    {
     "name": "stdout",
     "output_type": "stream",
     "text": [
      "22078.22528193275\n"
     ]
    }
   ],
   "source": [
    "mediana_SN = sueldos['SUELDO MENSUAL NETO'].median()\n",
    "print(mediana_SN)"
   ]
  },
  {
   "cell_type": "code",
   "execution_count": 9,
   "metadata": {},
   "outputs": [
    {
     "data": {
      "image/png": "[encoded data removed]",
      "text/plain": [
       "<Figure size 432x288 with 1 Axes>"
      ]
     },
     "metadata": {},
     "output_type": "display_data"
    }
   ],
   "source": [
    "plt.hist(sueldos[sueldos['SUELDO MENSUAL NETO']< mediana_SN]['SUELDO MENSUAL NETO'],bins = 2,color='red',alpha = 0.5)\n",
    "plt.hist(sueldos[sueldos['SUELDO MENSUAL NETO']>= mediana_SN]['SUELDO MENSUAL NETO'],bins = 2,color='purple',alpha = 0.5)\n",
    "plt.plot(np.ones(100)*mediana_SN,np.linspace(0,35,100),'k');"
   ]
  },
  {
   "cell_type": "markdown",
   "metadata": {},
   "source": [
    "#### ¿Cuál es el sueldo base máximo? "
   ]
  },
  {
   "cell_type": "code",
   "execution_count": 10,
   "metadata": {},
   "outputs": [
    {
     "data": {
      "text/plain": [
       "59804.3279302758"
      ]
     },
     "execution_count": 10,
     "metadata": {},
     "output_type": "execute_result"
    }
   ],
   "source": [
    "sueldos.describe()['SUELDO BASE'].loc['max']"
   ]
  },
  {
   "cell_type": "markdown",
   "metadata": {},
   "source": [
    "#### ¿Cuál es el sueldo base mínimo?"
   ]
  },
  {
   "cell_type": "code",
   "execution_count": 11,
   "metadata": {},
   "outputs": [
    {
     "data": {
      "text/plain": [
       "3080.4"
      ]
     },
     "execution_count": 11,
     "metadata": {},
     "output_type": "execute_result"
    }
   ],
   "source": [
    "sueldos.describe()['SUELDO BASE'].loc['min']"
   ]
  },
  {
   "cell_type": "markdown",
   "metadata": {},
   "source": [
    "#### Porcentaje relativo de cada una de las componentes del sueldo mensual neto en cada uno de los puestos"
   ]
  },
  {
   "cell_type": "code",
   "execution_count": 12,
   "metadata": {},
   "outputs": [],
   "source": [
    "sueldos['%SUELDO NETO'] = 100*sueldos['IMPTO MENSUAL']/np.sum(sueldos['IMPTO MENSUAL'])"
   ]
  },
  {
   "cell_type": "code",
   "execution_count": 13,
   "metadata": {},
   "outputs": [
    {
     "data": {
      "text/html": [
       "<div>\n",
       "<style scoped>\n",
       "    .dataframe tbody tr th:only-of-type {\n",
       "        vertical-align: middle;\n",
       "    }\n",
       "\n",
       "    .dataframe tbody tr th {\n",
       "        vertical-align: top;\n",
       "    }\n",
       "\n",
       "    .dataframe thead th {\n",
       "        text-align: right;\n",
       "    }\n",
       "</style>\n",
       "<table border=\"1\" class=\"dataframe\">\n",
       "  <thead>\n",
       "    <tr style=\"text-align: right;\">\n",
       "      <th></th>\n",
       "      <th>NIVEL</th>\n",
       "      <th>TIPO</th>\n",
       "      <th>PUESTO</th>\n",
       "      <th>SUELDO BASE</th>\n",
       "      <th>CUOTAS SEGURIDAD SOCIAL</th>\n",
       "      <th>PREVISIÓN SOCIAL</th>\n",
       "      <th>AYUDA X SERVICIOS</th>\n",
       "      <th>APOYO FAMILIAR</th>\n",
       "      <th>GRATIFICACIÓN QUINCENAL</th>\n",
       "      <th>SUELDO MENSUAL BRUTO</th>\n",
       "      <th>IMPTO MENSUAL</th>\n",
       "      <th>ISSEG</th>\n",
       "      <th>ISSSTE</th>\n",
       "      <th>SUELDO MENSUAL NETO</th>\n",
       "      <th>PRIMA VACACIONAL</th>\n",
       "      <th>AGUINALDO</th>\n",
       "      <th>%SUELDO NETO</th>\n",
       "    </tr>\n",
       "  </thead>\n",
       "  <tbody>\n",
       "    <tr>\n",
       "      <th>0</th>\n",
       "      <td>22</td>\n",
       "      <td>NaN</td>\n",
       "      <td>GOBERNADOR/A DEL ESTADO</td>\n",
       "      <td>59804.327930</td>\n",
       "      <td>5843.07</td>\n",
       "      <td>1913.1</td>\n",
       "      <td>25897</td>\n",
       "      <td>64294.837780</td>\n",
       "      <td>75373.99</td>\n",
       "      <td>233126.325711</td>\n",
       "      <td>69584.321342</td>\n",
       "      <td>5082.66</td>\n",
       "      <td>760.41</td>\n",
       "      <td>157698.934369</td>\n",
       "      <td>10 Días por Año</td>\n",
       "      <td>45 Días por Año</td>\n",
       "      <td>7.944592</td>\n",
       "    </tr>\n",
       "    <tr>\n",
       "      <th>1</th>\n",
       "      <td>20</td>\n",
       "      <td>NaN</td>\n",
       "      <td>SECRETARIO/A DE ESTADO A</td>\n",
       "      <td>49025.945517</td>\n",
       "      <td>5843.07</td>\n",
       "      <td>1913.1</td>\n",
       "      <td>22783</td>\n",
       "      <td>48858.839699</td>\n",
       "      <td>67187.62</td>\n",
       "      <td>195611.575216</td>\n",
       "      <td>56829.306173</td>\n",
       "      <td>5082.66</td>\n",
       "      <td>760.41</td>\n",
       "      <td>132939.199042</td>\n",
       "      <td>10 Días por Año</td>\n",
       "      <td>45 Días por Año</td>\n",
       "      <td>6.488325</td>\n",
       "    </tr>\n",
       "    <tr>\n",
       "      <th>2</th>\n",
       "      <td>19</td>\n",
       "      <td>NaN</td>\n",
       "      <td>DIRECTOR/A GENERAL PARAESTATAL A</td>\n",
       "      <td>40685.951590</td>\n",
       "      <td>5843.07</td>\n",
       "      <td>1913.1</td>\n",
       "      <td>18805</td>\n",
       "      <td>41397.705456</td>\n",
       "      <td>49230.82</td>\n",
       "      <td>157875.647046</td>\n",
       "      <td>43999.090596</td>\n",
       "      <td>5082.66</td>\n",
       "      <td>760.41</td>\n",
       "      <td>108033.486450</td>\n",
       "      <td>10 Días por Año</td>\n",
       "      <td>45 Días por Año</td>\n",
       "      <td>5.023471</td>\n",
       "    </tr>\n",
       "    <tr>\n",
       "      <th>3</th>\n",
       "      <td>19</td>\n",
       "      <td>NaN</td>\n",
       "      <td>SECRETARIO/A DE ESTADO B</td>\n",
       "      <td>40685.951590</td>\n",
       "      <td>5843.07</td>\n",
       "      <td>1913.1</td>\n",
       "      <td>18805</td>\n",
       "      <td>41397.705456</td>\n",
       "      <td>49230.82</td>\n",
       "      <td>157875.647046</td>\n",
       "      <td>43999.090596</td>\n",
       "      <td>5082.66</td>\n",
       "      <td>760.41</td>\n",
       "      <td>108033.486450</td>\n",
       "      <td>10 Días por Año</td>\n",
       "      <td>45 Días por Año</td>\n",
       "      <td>5.023471</td>\n",
       "    </tr>\n",
       "    <tr>\n",
       "      <th>4</th>\n",
       "      <td>18</td>\n",
       "      <td>NaN</td>\n",
       "      <td>SECRETARIO/A DE ESTADO C</td>\n",
       "      <td>37083.708634</td>\n",
       "      <td>5843.07</td>\n",
       "      <td>1913.1</td>\n",
       "      <td>16756</td>\n",
       "      <td>35924.238404</td>\n",
       "      <td>42651.90</td>\n",
       "      <td>140172.017038</td>\n",
       "      <td>37979.856393</td>\n",
       "      <td>5082.66</td>\n",
       "      <td>760.41</td>\n",
       "      <td>96349.090645</td>\n",
       "      <td>10 Días por Año</td>\n",
       "      <td>45 Días por Año</td>\n",
       "      <td>4.336242</td>\n",
       "    </tr>\n",
       "  </tbody>\n",
       "</table>\n",
       "</div>"
      ],
      "text/plain": [
       "   NIVEL TIPO                            PUESTO   SUELDO BASE  \\\n",
       "0     22  NaN           GOBERNADOR/A DEL ESTADO  59804.327930   \n",
       "1     20  NaN          SECRETARIO/A DE ESTADO A  49025.945517   \n",
       "2     19  NaN  DIRECTOR/A GENERAL PARAESTATAL A  40685.951590   \n",
       "3     19  NaN          SECRETARIO/A DE ESTADO B  40685.951590   \n",
       "4     18  NaN          SECRETARIO/A DE ESTADO C  37083.708634   \n",
       "\n",
       "   CUOTAS SEGURIDAD SOCIAL  PREVISIÓN SOCIAL  AYUDA X SERVICIOS  \\\n",
       "0                  5843.07            1913.1              25897   \n",
       "1                  5843.07            1913.1              22783   \n",
       "2                  5843.07            1913.1              18805   \n",
       "3                  5843.07            1913.1              18805   \n",
       "4                  5843.07            1913.1              16756   \n",
       "\n",
       "   APOYO FAMILIAR  GRATIFICACIÓN QUINCENAL  SUELDO MENSUAL BRUTO  \\\n",
       "0    64294.837780                 75373.99         233126.325711   \n",
       "1    48858.839699                 67187.62         195611.575216   \n",
       "2    41397.705456                 49230.82         157875.647046   \n",
       "3    41397.705456                 49230.82         157875.647046   \n",
       "4    35924.238404                 42651.90         140172.017038   \n",
       "\n",
       "   IMPTO MENSUAL    ISSEG  ISSSTE  SUELDO MENSUAL NETO PRIMA VACACIONAL  \\\n",
       "0   69584.321342  5082.66  760.41        157698.934369  10 Días por Año   \n",
       "1   56829.306173  5082.66  760.41        132939.199042  10 Días por Año   \n",
       "2   43999.090596  5082.66  760.41        108033.486450  10 Días por Año   \n",
       "3   43999.090596  5082.66  760.41        108033.486450  10 Días por Año   \n",
       "4   37979.856393  5082.66  760.41         96349.090645  10 Días por Año   \n",
       "\n",
       "         AGUINALDO  %SUELDO NETO  \n",
       "0  45 Días por Año      7.944592  \n",
       "1  45 Días por Año      6.488325  \n",
       "2  45 Días por Año      5.023471  \n",
       "3  45 Días por Año      5.023471  \n",
       "4  45 Días por Año      4.336242  "
      ]
     },
     "execution_count": 13,
     "metadata": {},
     "output_type": "execute_result"
    }
   ],
   "source": [
    "sueldos.head()"
   ]
  },
  {
   "cell_type": "code",
   "execution_count": null,
   "metadata": {},
   "outputs": [],
   "source": []
  }
 ],
 "metadata": {
  "kernelspec": {
   "display_name": "Python 3",
   "language": "python",
   "name": "python3"
  },
  "language_info": {
   "codemirror_mode": {
    "name": "ipython",
    "version": 3
   },
   "file_extension": ".py",
   "mimetype": "text/x-python",
   "name": "python",
   "nbconvert_exporter": "python",
   "pygments_lexer": "ipython3",
   "version": "3.6.8"
  }
 },
 "nbformat": 4,
 "nbformat_minor": 2
}
