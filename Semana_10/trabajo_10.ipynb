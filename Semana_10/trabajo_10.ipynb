{
 "cells": [
  {
   "cell_type": "code",
   "execution_count": 1,
   "metadata": {},
   "outputs": [],
   "source": [
    "import numpy as np\n",
    "import math as mt\n",
    "import matplotlib.pyplot as plt\n",
    "import scipy \n",
    "from scipy.integrate import trapz,simps\n",
    "\n",
    "from colossus.cosmology import cosmology"
   ]
  },
  {
   "cell_type": "code",
   "execution_count": 2,
   "metadata": {},
   "outputs": [],
   "source": [
    "def model(Om,b2,beta,k,z=0.57):\n",
    "    cosmo = cosmology.setCosmology('planck15',)\n",
    "    cosmo.Om0 = Om\n",
    "    return (1-beta)*b2**2*cosmo.matterPowerSpectrum(k,z) #función"
   ]
  },
  {
   "cell_type": "code",
   "execution_count": 3,
   "metadata": {},
   "outputs": [],
   "source": [
    "#Funcion para calcular la chi cuadrada \n",
    "def chisq_2(theta,data):\n",
    "    om, b2, beta = theta\n",
    "    #Nuestros datos\n",
    "    x, y, yerr = data\n",
    "    sigma2 = yerr**2 \n",
    "    #Sumamos para encontrar el logaritmo del likelihood\n",
    "    return -0.5*np.sum((y-model(om,b2,beta,x,z=0.57))**2/sigma2 + np.log(sigma2))"
   ]
  },
  {
   "cell_type": "code",
   "execution_count": 4,
   "metadata": {},
   "outputs": [],
   "source": [
    "# Prior\n",
    "def log_prior(theta):\n",
    "    om, b2, beta = theta\n",
    "    if 0.05 < om < 1.0 and 0.05 < b2 < 5.0 and 0.001 < beta < 1.0:\n",
    "        return 0.0\n",
    "    return -np.inf"
   ]
  },
  {
   "cell_type": "code",
   "execution_count": 5,
   "metadata": {},
   "outputs": [],
   "source": [
    "def metrop_2(om_ini,b_ini,beta_ini,data,sigm,ite):\n",
    "    np.random.seed(1)\n",
    "    #Reordenamos el arreglo de a y b iniciales.\n",
    "    om_ini = om_ini.T.reshape((len(om_ini),1))\n",
    "    b_ini = b_ini.T.reshape((len(b_ini),1))\n",
    "    beta_ini = beta_ini.T.reshape((len(beta_ini),1))\n",
    "    data = np.array(data)\n",
    "    \n",
    "    ch_ini = [] #iniciamos lista para los valores de chi iniciales.\n",
    "    \n",
    "    #Llenamos chi_ini con los valores iniciales \n",
    "    for i in range(len(om_ini)):\n",
    "        ch_ini.append(chisq_2([om_ini[i][0],b_ini[i][0],beta_ini[i][0]],data)+ log_prior([om_ini[i][0],b_ini[i][0],beta_ini[i][0]])) #prior\n",
    "    \n",
    "    #Transformamos a_ini de array a list para usar la función append.\n",
    "    om = om_ini.tolist()\n",
    "    b = b_ini.tolist()\n",
    "    beta = beta_ini.tolist()\n",
    "    \n",
    "    for i in range(len(om_ini)):\n",
    "        ch_0 = ch_ini[i] \n",
    "        k = 0\n",
    "        for j in range(ite): \n",
    "            om_af = np.random.normal(om[i][k],sigm) #creamos un valor de a y b aleatorios\n",
    "            b_af = np.random.normal(b[i][k],sigm) #calculamos el logaritmo del likelihood de para los parametros aleatorios\n",
    "            beta_af = np.random.normal(beta[i][k],sigm) \n",
    "            \n",
    "            lg = log_prior([om_af,b_af,beta_af])\n",
    "            \n",
    "            if lg != 0:\n",
    "                ch = lg\n",
    "            else:\n",
    "                ch = chisq_2([om_af,b_af,beta_af],data) + lg\n",
    "            \n",
    "            if ch > ch_0: #Comparamos las dos dos logaritmos \n",
    "                om[i].append(om_af) #guardamos los parametros creados \n",
    "                b[i].append(b_af)\n",
    "                beta[i].append(beta_af)\n",
    "                k = k+1\n",
    "                ch_0 = ch # si el nuevo logaritmo es es mayor que el anterior lo tomamos como el nuevo\n",
    "            else:\n",
    "                r = np.log(np.random.uniform(0,1)) \n",
    "                diff = ch-ch_0\n",
    "                if diff > r: #Si la diferencia entre los logaritmos (anterior y nuevo) es menor al dicho valor\n",
    "                    om[i].append(om_af)\n",
    "                    b[i].append(b_af)\n",
    "                    beta[i].append(beta_af)\n",
    "                    k = k+1\n",
    "                    ch_0 = ch #Tomamos el nuevo logaritmo\n",
    "                else:  #si la direfencia es mayor, sólo guardamos los valores de a y b creados\n",
    "                    om[i].append(om[i][k]) \n",
    "                    b[i].append(b[i][k])\n",
    "                    beta[i].append(beta[i][k])\n",
    "                    k = k+1\n",
    "            \n",
    "\n",
    "    # Parte de grafico\n",
    "    plt.figure(figsize=(8,6))    \n",
    "    \n",
    "    #Gráfica de todos los puntos\n",
    "    for i in range(len(om_ini)):     \n",
    "        plt.scatter(om[i],b[i],s=1)\n",
    "    plt.ylabel('b',fontsize=18)\n",
    "    plt.xlabel('$\\Omega_m$',fontsize=18)\n",
    "    plt.title(\"Varios Caminadores\",fontsize=18)\n",
    "    return  om, b, beta"
   ]
  },
  {
   "cell_type": "code",
   "execution_count": 6,
   "metadata": {},
   "outputs": [],
   "source": [
    "#Función para solo tomar el cumulo de los caminadores y graficarlos con sus histograma\n",
    "def flags_data_1(a,b,beta,flags):\n",
    "    a_flg = np.array([])\n",
    "    b_flg = np.array([])\n",
    "    beta_flg = np.array([])\n",
    "    for i in range(len(a)): \n",
    "        a_flg = np.append(a_flg,a[i][flags:]) #Solo tomamos los valores de los parametros por arriba del número flags \n",
    "        b_flg = np.append(b_flg,b[i][flags:])\n",
    "        beta_flg = np.append(beta_flg,beta[i][flags:])\n",
    "    \n",
    "    flgs = np.array([a_flg,b_flg,beta_flg])\n",
    "    n = len(flgs)\n",
    "    m = []\n",
    "    mp = []\n",
    "    titulo = ['Histograma de $\\Omega_m$', 'Histograma de b','Histograma de $beta$']\n",
    "    \n",
    "    #Sección para graficar:\n",
    "    plt.figure(figsize=(10,10))  \n",
    "    for i in range(n):\n",
    "        for j in range(i+1):\n",
    "            k = i-j\n",
    "            if i == k:\n",
    "                plt.subplot(n,n,((i*n)+k+1))\n",
    "                hist = plt.hist(flgs[k], bins=20,facecolor='grey',alpha = 0.8)\n",
    "                m.append(np.mean(hist[1]))\n",
    "                mp.append(np.mean(hist[1]))\n",
    "                plt.axvline(m[i],color='r',label = np.round(m[i],4))\n",
    "                plt.title(titulo[i],fontsize=18)\n",
    "                plt.legend();\n",
    "            else:\n",
    "                plt.subplot(n,n,((i*n)+k+1))\n",
    "                plt.hexbin(flgs[k], flgs[i], gridsize=30, cmap='Greys')\n",
    "                plt.axvline(m[k],color='r',label = np.round(m[k],4))\n",
    "                plt.axhline(m[i],color='b',label = np.round(m[i],4))\n",
    "                plt.legend();\n",
    "    \n",
    "    return a_flg , b_flg, beta_flg, m"
   ]
  },
  {
   "cell_type": "markdown",
   "metadata": {},
   "source": [
    "#### Mostramos los datos"
   ]
  },
  {
   "cell_type": "code",
   "execution_count": 7,
   "metadata": {},
   "outputs": [
    {
     "data": {
      "text/plain": [
       "(100, 300000.0)"
      ]
     },
     "execution_count": 7,
     "metadata": {},
     "output_type": "execute_result"
    },
    {
     "data": {
      "image/png": "[encoded data removed]",
      "text/plain": [
       "<Figure size 432x288 with 1 Axes>"
      ]
     },
     "metadata": {},
     "output_type": "display_data"
    }
   ],
   "source": [
    "pk_cmasdr12 = np.loadtxt('GilMarin_boss_data/post-recon/cmass/GilMarin_2016_CMASSDR12_measurement_monopole_post_recon.txt').T\n",
    "\n",
    "plt.figure()\n",
    "plt.loglog()\n",
    "plt.errorbar(pk_cmasdr12[0],pk_cmasdr12[1],yerr=pk_cmasdr12[2],fmt='.')\n",
    "plt.xlim(1e-3,1)\n",
    "plt.ylim(100,3e5)"
   ]
  },
  {
   "cell_type": "markdown",
   "metadata": {},
   "source": [
    "#### Eliminamos los primeros y ultimos puntos"
   ]
  },
  {
   "cell_type": "code",
   "execution_count": 8,
   "metadata": {},
   "outputs": [
    {
     "data": {
      "text/plain": [
       "(1500, 300000.0)"
      ]
     },
     "execution_count": 8,
     "metadata": {},
     "output_type": "execute_result"
    },
    {
     "data": {
      "image/png": "[encoded data removed]",
      "text/plain": [
       "<Figure size 432x288 with 1 Axes>"
      ]
     },
     "metadata": {},
     "output_type": "display_data"
    }
   ],
   "source": [
    "li = 0\n",
    "ls = len(pk_cmasdr12[0])-0\n",
    "k, pk, pk_err = pk_cmasdr12[0][li:ls],pk_cmasdr12[1][li:ls],pk_cmasdr12[2][li:ls]\n",
    "\n",
    "plt.figure()\n",
    "plt.loglog()\n",
    "plt.errorbar(k,pk,yerr = pk_err,fmt='.')\n",
    "plt.xlim(1e-3,0.8)\n",
    "plt.ylim(1500,3e5)"
   ]
  },
  {
   "cell_type": "code",
   "execution_count": 9,
   "metadata": {},
   "outputs": [
    {
     "ename": "KeyboardInterrupt",
     "evalue": "",
     "output_type": "error",
     "traceback": [
      "\u001b[0;31m--------------------------------------------------------------------------\u001b[0m",
      "\u001b[0;31mKeyboardInterrupt\u001b[0m                        Traceback (most recent call last)",
      "\u001b[0;32m<ipython-input-9-63030c96ef56>\u001b[0m in \u001b[0;36m<module>\u001b[0;34m()\u001b[0m\n\u001b[1;32m      9\u001b[0m \u001b[0mite\u001b[0m \u001b[0;34m=\u001b[0m \u001b[0;36m1000\u001b[0m\u001b[0;34m\u001b[0m\u001b[0;34m\u001b[0m\u001b[0m\n\u001b[1;32m     10\u001b[0m \u001b[0;34m\u001b[0m\u001b[0m\n\u001b[0;32m---> 11\u001b[0;31m \u001b[0mom_2\u001b[0m\u001b[0;34m,\u001b[0m\u001b[0mb_2\u001b[0m\u001b[0;34m,\u001b[0m\u001b[0mbeta_2\u001b[0m\u001b[0;34m=\u001b[0m \u001b[0mmetrop_2\u001b[0m\u001b[0;34m(\u001b[0m\u001b[0mom_ini\u001b[0m\u001b[0;34m,\u001b[0m\u001b[0mb_ini\u001b[0m\u001b[0;34m,\u001b[0m\u001b[0mbeta_ini\u001b[0m\u001b[0;34m,\u001b[0m\u001b[0mdata\u001b[0m\u001b[0;34m,\u001b[0m\u001b[0msigma\u001b[0m\u001b[0;34m,\u001b[0m\u001b[0mite\u001b[0m\u001b[0;34m)\u001b[0m\u001b[0;34m\u001b[0m\u001b[0;34m\u001b[0m\u001b[0m\n\u001b[0m",
      "\u001b[0;32m<ipython-input-5-35d621d26ff3>\u001b[0m in \u001b[0;36mmetrop_2\u001b[0;34m(om_ini, b_ini, beta_ini, data, sigm, ite)\u001b[0m\n\u001b[1;32m     31\u001b[0m                 \u001b[0mch\u001b[0m \u001b[0;34m=\u001b[0m \u001b[0mlg\u001b[0m\u001b[0;34m\u001b[0m\u001b[0;34m\u001b[0m\u001b[0m\n\u001b[1;32m     32\u001b[0m             \u001b[0;32melse\u001b[0m\u001b[0;34m:\u001b[0m\u001b[0;34m\u001b[0m\u001b[0;34m\u001b[0m\u001b[0m\n\u001b[0;32m---> 33\u001b[0;31m                 \u001b[0mch\u001b[0m \u001b[0;34m=\u001b[0m \u001b[0mchisq_2\u001b[0m\u001b[0;34m(\u001b[0m\u001b[0;34m[\u001b[0m\u001b[0mom_af\u001b[0m\u001b[0;34m,\u001b[0m\u001b[0mb_af\u001b[0m\u001b[0;34m,\u001b[0m\u001b[0mbeta_af\u001b[0m\u001b[0;34m]\u001b[0m\u001b[0;34m,\u001b[0m\u001b[0mdata\u001b[0m\u001b[0;34m)\u001b[0m \u001b[0;34m+\u001b[0m \u001b[0mlg\u001b[0m\u001b[0;34m\u001b[0m\u001b[0;34m\u001b[0m\u001b[0m\n\u001b[0m\u001b[1;32m     34\u001b[0m \u001b[0;34m\u001b[0m\u001b[0m\n\u001b[1;32m     35\u001b[0m             \u001b[0;32mif\u001b[0m \u001b[0mch\u001b[0m \u001b[0;34m>\u001b[0m \u001b[0mch_0\u001b[0m\u001b[0;34m:\u001b[0m \u001b[0;31m#Comparamos las dos dos logaritmos\u001b[0m\u001b[0;34m\u001b[0m\u001b[0;34m\u001b[0m\u001b[0m\n",
      "\u001b[0;32m<ipython-input-3-4749ed9ef2fd>\u001b[0m in \u001b[0;36mchisq_2\u001b[0;34m(theta, data)\u001b[0m\n\u001b[1;32m      6\u001b[0m     \u001b[0msigma2\u001b[0m \u001b[0;34m=\u001b[0m \u001b[0myerr\u001b[0m\u001b[0;34m**\u001b[0m\u001b[0;36m2\u001b[0m\u001b[0;34m\u001b[0m\u001b[0;34m\u001b[0m\u001b[0m\n\u001b[1;32m      7\u001b[0m     \u001b[0;31m#Sumamos para encontrar el logaritmo del likelihood\u001b[0m\u001b[0;34m\u001b[0m\u001b[0;34m\u001b[0m\u001b[0;34m\u001b[0m\u001b[0m\n\u001b[0;32m----> 8\u001b[0;31m     \u001b[0;32mreturn\u001b[0m \u001b[0;34m-\u001b[0m\u001b[0;36m0.5\u001b[0m\u001b[0;34m*\u001b[0m\u001b[0mnp\u001b[0m\u001b[0;34m.\u001b[0m\u001b[0msum\u001b[0m\u001b[0;34m(\u001b[0m\u001b[0;34m(\u001b[0m\u001b[0my\u001b[0m\u001b[0;34m-\u001b[0m\u001b[0mmodel\u001b[0m\u001b[0;34m(\u001b[0m\u001b[0mom\u001b[0m\u001b[0;34m,\u001b[0m\u001b[0mb2\u001b[0m\u001b[0;34m,\u001b[0m\u001b[0mbeta\u001b[0m\u001b[0;34m,\u001b[0m\u001b[0mx\u001b[0m\u001b[0;34m,\u001b[0m\u001b[0mz\u001b[0m\u001b[0;34m=\u001b[0m\u001b[0;36m0.57\u001b[0m\u001b[0;34m)\u001b[0m\u001b[0;34m)\u001b[0m\u001b[0;34m**\u001b[0m\u001b[0;36m2\u001b[0m\u001b[0;34m/\u001b[0m\u001b[0msigma2\u001b[0m \u001b[0;34m+\u001b[0m \u001b[0mnp\u001b[0m\u001b[0;34m.\u001b[0m\u001b[0mlog\u001b[0m\u001b[0;34m(\u001b[0m\u001b[0msigma2\u001b[0m\u001b[0;34m)\u001b[0m\u001b[0;34m)\u001b[0m\u001b[0;34m\u001b[0m\u001b[0;34m\u001b[0m\u001b[0m\n\u001b[0m",
      "\u001b[0;32m<ipython-input-2-84bbca8fe3f3>\u001b[0m in \u001b[0;36mmodel\u001b[0;34m(Om, b2, beta, k, z)\u001b[0m\n\u001b[1;32m      2\u001b[0m     \u001b[0mcosmo\u001b[0m \u001b[0;34m=\u001b[0m \u001b[0mcosmology\u001b[0m\u001b[0;34m.\u001b[0m\u001b[0msetCosmology\u001b[0m\u001b[0;34m(\u001b[0m\u001b[0;34m'planck15'\u001b[0m\u001b[0;34m,\u001b[0m\u001b[0;34m)\u001b[0m\u001b[0;34m\u001b[0m\u001b[0;34m\u001b[0m\u001b[0m\n\u001b[1;32m      3\u001b[0m     \u001b[0mcosmo\u001b[0m\u001b[0;34m.\u001b[0m\u001b[0mOm0\u001b[0m \u001b[0;34m=\u001b[0m \u001b[0mOm\u001b[0m\u001b[0;34m\u001b[0m\u001b[0;34m\u001b[0m\u001b[0m\n\u001b[0;32m----> 4\u001b[0;31m     \u001b[0;32mreturn\u001b[0m \u001b[0;34m(\u001b[0m\u001b[0;36m1\u001b[0m\u001b[0;34m-\u001b[0m\u001b[0mbeta\u001b[0m\u001b[0;34m)\u001b[0m\u001b[0;34m*\u001b[0m\u001b[0mb2\u001b[0m\u001b[0;34m**\u001b[0m\u001b[0;36m2\u001b[0m\u001b[0;34m*\u001b[0m\u001b[0mcosmo\u001b[0m\u001b[0;34m.\u001b[0m\u001b[0mmatterPowerSpectrum\u001b[0m\u001b[0;34m(\u001b[0m\u001b[0mk\u001b[0m\u001b[0;34m,\u001b[0m\u001b[0mz\u001b[0m\u001b[0;34m)\u001b[0m \u001b[0;31m#función\u001b[0m\u001b[0;34m\u001b[0m\u001b[0;34m\u001b[0m\u001b[0m\n\u001b[0m",
      "\u001b[0;32m/usr/local/lib/python3.6/dist-packages/colossus/cosmology/cosmology.py\u001b[0m in \u001b[0;36mmatterPowerSpectrum\u001b[0;34m(self, k, z, model, path, derivative)\u001b[0m\n\u001b[1;32m   2096\u001b[0m \t\t\t\t\t\t\t\t\t\t\t\tignore_norm = False)\n\u001b[1;32m   2097\u001b[0m \u001b[0;34m\u001b[0m\u001b[0m\n\u001b[0;32m-> 2098\u001b[0;31m                 \u001b[0mPk\u001b[0m \u001b[0;34m*=\u001b[0m \u001b[0mself\u001b[0m\u001b[0;34m.\u001b[0m\u001b[0mgrowthFactor\u001b[0m\u001b[0;34m(\u001b[0m\u001b[0mz\u001b[0m\u001b[0;34m)\u001b[0m\u001b[0;34m**\u001b[0m\u001b[0;36m2\u001b[0m\u001b[0;34m\u001b[0m\u001b[0;34m\u001b[0m\u001b[0m\n\u001b[0m\u001b[1;32m   2099\u001b[0m \u001b[0;34m\u001b[0m\u001b[0m\n\u001b[1;32m   2100\u001b[0m                 \u001b[0;32mreturn\u001b[0m \u001b[0mPk\u001b[0m\u001b[0;34m\u001b[0m\u001b[0;34m\u001b[0m\u001b[0m\n",
      "\u001b[0;32m/usr/local/lib/python3.6/dist-packages/colossus/cosmology/cosmology.py\u001b[0m in \u001b[0;36mgrowthFactor\u001b[0;34m(self, z, derivative, inverse)\u001b[0m\n\u001b[1;32m   1823\u001b[0m                 \u001b[0;32melse\u001b[0m\u001b[0;34m:\u001b[0m\u001b[0;34m\u001b[0m\u001b[0;34m\u001b[0m\u001b[0m\n\u001b[1;32m   1824\u001b[0m \t\t\tD = self._zFunction('lnzp1_growthfactor', self._growthFactorExact, z, derivative = derivative,\n\u001b[0;32m-> 1825\u001b[0;31m \t\t\t\t\t\tinverse = inverse)\n\u001b[0m\u001b[1;32m   1826\u001b[0m \u001b[0;34m\u001b[0m\u001b[0m\n\u001b[1;32m   1827\u001b[0m                 \u001b[0;32mreturn\u001b[0m \u001b[0mD\u001b[0m\u001b[0;34m\u001b[0m\u001b[0;34m\u001b[0m\u001b[0m\n",
      "\u001b[0;32m/usr/local/lib/python3.6/dist-packages/colossus/cosmology/cosmology.py\u001b[0m in \u001b[0;36m_zFunction\u001b[0;34m(self, table_name, func, z, inverse, future, derivative)\u001b[0m\n\u001b[1;32m    877\u001b[0m \u001b[0;34m\u001b[0m\u001b[0m\n\u001b[1;32m    878\u001b[0m                         \u001b[0;31m# Get interpolator. If it does not exist, create it.\u001b[0m\u001b[0;34m\u001b[0m\u001b[0;34m\u001b[0m\u001b[0;34m\u001b[0m\u001b[0m\n\u001b[0;32m--> 879\u001b[0;31m                         \u001b[0minterpolator\u001b[0m \u001b[0;34m=\u001b[0m \u001b[0mself\u001b[0m\u001b[0;34m.\u001b[0m\u001b[0m_zInterpolator\u001b[0m\u001b[0;34m(\u001b[0m\u001b[0mtable_name\u001b[0m\u001b[0;34m,\u001b[0m \u001b[0mfunc\u001b[0m\u001b[0;34m,\u001b[0m \u001b[0minverse\u001b[0m \u001b[0;34m=\u001b[0m \u001b[0minverse\u001b[0m\u001b[0;34m,\u001b[0m \u001b[0mfuture\u001b[0m \u001b[0;34m=\u001b[0m \u001b[0mfuture\u001b[0m\u001b[0;34m)\u001b[0m\u001b[0;34m\u001b[0m\u001b[0;34m\u001b[0m\u001b[0m\n\u001b[0m\u001b[1;32m    880\u001b[0m \u001b[0;34m\u001b[0m\u001b[0m\n\u001b[1;32m    881\u001b[0m                         \u001b[0;31m# Check limits of z array. If inverse == True, we need to check the limits on\u001b[0m\u001b[0;34m\u001b[0m\u001b[0;34m\u001b[0m\u001b[0;34m\u001b[0m\u001b[0m\n",
      "\u001b[0;32m/usr/local/lib/python3.6/dist-packages/colossus/cosmology/cosmology.py\u001b[0m in \u001b[0;36m_zInterpolator\u001b[0;34m(self, table_name, func, inverse, future)\u001b[0m\n\u001b[1;32m    838\u001b[0m \u001b[0;34m\u001b[0m\u001b[0m\n\u001b[1;32m    839\u001b[0m                 \u001b[0mtable_name\u001b[0m \u001b[0;34m=\u001b[0m \u001b[0mtable_name\u001b[0m \u001b[0;34m+\u001b[0m \u001b[0;34m'_%s'\u001b[0m \u001b[0;34m%\u001b[0m \u001b[0;34m(\u001b[0m\u001b[0mself\u001b[0m\u001b[0;34m.\u001b[0m\u001b[0mname\u001b[0m\u001b[0;34m)\u001b[0m\u001b[0;34m\u001b[0m\u001b[0;34m\u001b[0m\u001b[0m\n\u001b[0;32m--> 840\u001b[0;31m                 \u001b[0minterpolator\u001b[0m \u001b[0;34m=\u001b[0m \u001b[0mself\u001b[0m\u001b[0;34m.\u001b[0m\u001b[0mstorageUser\u001b[0m\u001b[0;34m.\u001b[0m\u001b[0mgetStoredObject\u001b[0m\u001b[0;34m(\u001b[0m\u001b[0mtable_name\u001b[0m\u001b[0;34m,\u001b[0m \u001b[0minterpolator\u001b[0m \u001b[0;34m=\u001b[0m \u001b[0;32mTrue\u001b[0m\u001b[0;34m,\u001b[0m \u001b[0minverse\u001b[0m \u001b[0;34m=\u001b[0m \u001b[0minverse\u001b[0m\u001b[0;34m)\u001b[0m\u001b[0;34m\u001b[0m\u001b[0;34m\u001b[0m\u001b[0m\n\u001b[0m\u001b[1;32m    841\u001b[0m \u001b[0;34m\u001b[0m\u001b[0m\n\u001b[1;32m    842\u001b[0m                 \u001b[0;32mif\u001b[0m \u001b[0minterpolator\u001b[0m \u001b[0;32mis\u001b[0m \u001b[0;32mNone\u001b[0m\u001b[0;34m:\u001b[0m\u001b[0;34m\u001b[0m\u001b[0;34m\u001b[0m\u001b[0m\n",
      "\u001b[0;32m/usr/local/lib/python3.6/dist-packages/colossus/utils/storage.py\u001b[0m in \u001b[0;36mgetStoredObject\u001b[0;34m(self, object_name, interpolator, inverse, path, store_interpolator, store_path_data)\u001b[0m\n\u001b[1;32m    351\u001b[0m                 \u001b[0;31m# First, check for changes in the hash. If changes are detected, first call the user's\u001b[0m\u001b[0;34m\u001b[0m\u001b[0;34m\u001b[0m\u001b[0;34m\u001b[0m\u001b[0m\n\u001b[1;32m    352\u001b[0m                 \u001b[0;31m# change callback function and then reset the storage.\u001b[0m\u001b[0;34m\u001b[0m\u001b[0;34m\u001b[0m\u001b[0;34m\u001b[0m\u001b[0m\n\u001b[0;32m--> 353\u001b[0;31m                 \u001b[0;32mif\u001b[0m \u001b[0mself\u001b[0m\u001b[0;34m.\u001b[0m\u001b[0mcheckForChangedHash\u001b[0m\u001b[0;34m(\u001b[0m\u001b[0;34m)\u001b[0m\u001b[0;34m:\u001b[0m\u001b[0;34m\u001b[0m\u001b[0;34m\u001b[0m\u001b[0m\n\u001b[0m\u001b[1;32m    354\u001b[0m                         \u001b[0;32mif\u001b[0m \u001b[0mself\u001b[0m\u001b[0;34m.\u001b[0m\u001b[0mfunc_changed\u001b[0m \u001b[0;32mis\u001b[0m \u001b[0;32mnot\u001b[0m \u001b[0;32mNone\u001b[0m\u001b[0;34m:\u001b[0m\u001b[0;34m\u001b[0m\u001b[0;34m\u001b[0m\u001b[0m\n\u001b[1;32m    355\u001b[0m                                 \u001b[0mself\u001b[0m\u001b[0;34m.\u001b[0m\u001b[0mfunc_changed\u001b[0m\u001b[0;34m(\u001b[0m\u001b[0;34m)\u001b[0m\u001b[0;34m\u001b[0m\u001b[0;34m\u001b[0m\u001b[0m\n",
      "\u001b[0;32m/usr/local/lib/python3.6/dist-packages/colossus/utils/storage.py\u001b[0m in \u001b[0;36mcheckForChangedHash\u001b[0;34m(self)\u001b[0m\n\u001b[1;32m    192\u001b[0m \t\t\"\"\"\n\u001b[1;32m    193\u001b[0m \u001b[0;34m\u001b[0m\u001b[0m\n\u001b[0;32m--> 194\u001b[0;31m                 \u001b[0mhash_new\u001b[0m \u001b[0;34m=\u001b[0m \u001b[0mself\u001b[0m\u001b[0;34m.\u001b[0m\u001b[0mgetHash\u001b[0m\u001b[0;34m(\u001b[0m\u001b[0;34m)\u001b[0m\u001b[0;34m\u001b[0m\u001b[0;34m\u001b[0m\u001b[0m\n\u001b[0m\u001b[1;32m    195\u001b[0m                 \u001b[0mhas_changed\u001b[0m \u001b[0;34m=\u001b[0m \u001b[0;34m(\u001b[0m\u001b[0mhash_new\u001b[0m \u001b[0;34m!=\u001b[0m \u001b[0mself\u001b[0m\u001b[0;34m.\u001b[0m\u001b[0mhash_current\u001b[0m\u001b[0;34m)\u001b[0m\u001b[0;34m\u001b[0m\u001b[0;34m\u001b[0m\u001b[0m\n\u001b[1;32m    196\u001b[0m \u001b[0;34m\u001b[0m\u001b[0m\n",
      "\u001b[0;32m/usr/local/lib/python3.6/dist-packages/colossus/utils/storage.py\u001b[0m in \u001b[0;36mgetHash\u001b[0;34m(self)\u001b[0m\n\u001b[1;32m    160\u001b[0m \t\t\"\"\"\n\u001b[1;32m    161\u001b[0m \u001b[0;34m\u001b[0m\u001b[0m\n\u001b[0;32m--> 162\u001b[0;31m                 \u001b[0mhashable_string\u001b[0m \u001b[0;34m=\u001b[0m \u001b[0mself\u001b[0m\u001b[0;34m.\u001b[0m\u001b[0mfunc_hashstring\u001b[0m\u001b[0;34m(\u001b[0m\u001b[0;34m)\u001b[0m\u001b[0;34m\u001b[0m\u001b[0;34m\u001b[0m\u001b[0m\n\u001b[0m\u001b[1;32m    163\u001b[0m                 \u001b[0mhash\u001b[0m \u001b[0;34m=\u001b[0m \u001b[0mhashlib\u001b[0m\u001b[0;34m.\u001b[0m\u001b[0mmd5\u001b[0m\u001b[0;34m(\u001b[0m\u001b[0mhashable_string\u001b[0m\u001b[0;34m.\u001b[0m\u001b[0mencode\u001b[0m\u001b[0;34m(\u001b[0m\u001b[0;34m)\u001b[0m\u001b[0;34m)\u001b[0m\u001b[0;34m.\u001b[0m\u001b[0mhexdigest\u001b[0m\u001b[0;34m(\u001b[0m\u001b[0;34m)\u001b[0m\u001b[0;34m\u001b[0m\u001b[0;34m\u001b[0m\u001b[0m\n\u001b[1;32m    164\u001b[0m \u001b[0;34m\u001b[0m\u001b[0m\n",
      "\u001b[0;32m/usr/local/lib/python3.6/dist-packages/colossus/cosmology/cosmology.py\u001b[0m in \u001b[0;36m_getHashableString\u001b[0;34m(self)\u001b[0m\n\u001b[1;32m    539\u001b[0m                 \u001b[0mparam_string\u001b[0m \u001b[0;34m=\u001b[0m \u001b[0;34m'name_%s'\u001b[0m \u001b[0;34m%\u001b[0m \u001b[0;34m(\u001b[0m\u001b[0mself\u001b[0m\u001b[0;34m.\u001b[0m\u001b[0mname\u001b[0m\u001b[0;34m)\u001b[0m\u001b[0;34m\u001b[0m\u001b[0;34m\u001b[0m\u001b[0m\n\u001b[1;32m    540\u001b[0m                 \u001b[0mparam_string\u001b[0m \u001b[0;34m+=\u001b[0m \u001b[0;34m'_flat_%s'\u001b[0m \u001b[0;34m%\u001b[0m \u001b[0;34m(\u001b[0m\u001b[0mstr\u001b[0m\u001b[0;34m(\u001b[0m\u001b[0mself\u001b[0m\u001b[0;34m.\u001b[0m\u001b[0mflat\u001b[0m\u001b[0;34m)\u001b[0m\u001b[0;34m)\u001b[0m\u001b[0;34m\u001b[0m\u001b[0;34m\u001b[0m\u001b[0m\n\u001b[0;32m--> 541\u001b[0;31m                 \u001b[0mparam_string\u001b[0m \u001b[0;34m+=\u001b[0m \u001b[0;34m'_Om0_%.6f'\u001b[0m \u001b[0;34m%\u001b[0m \u001b[0;34m(\u001b[0m\u001b[0mself\u001b[0m\u001b[0;34m.\u001b[0m\u001b[0mOm0\u001b[0m\u001b[0;34m)\u001b[0m\u001b[0;34m\u001b[0m\u001b[0;34m\u001b[0m\u001b[0m\n\u001b[0m\u001b[1;32m    542\u001b[0m                 \u001b[0mparam_string\u001b[0m \u001b[0;34m+=\u001b[0m \u001b[0;34m'_Ode0_%.6f'\u001b[0m \u001b[0;34m%\u001b[0m \u001b[0;34m(\u001b[0m\u001b[0mself\u001b[0m\u001b[0;34m.\u001b[0m\u001b[0mOde0\u001b[0m\u001b[0;34m)\u001b[0m\u001b[0;34m\u001b[0m\u001b[0;34m\u001b[0m\u001b[0m\n\u001b[1;32m    543\u001b[0m                 \u001b[0mparam_string\u001b[0m \u001b[0;34m+=\u001b[0m \u001b[0;34m'_Ob0_%.6f'\u001b[0m \u001b[0;34m%\u001b[0m \u001b[0;34m(\u001b[0m\u001b[0mself\u001b[0m\u001b[0;34m.\u001b[0m\u001b[0mOb0\u001b[0m\u001b[0;34m)\u001b[0m\u001b[0;34m\u001b[0m\u001b[0;34m\u001b[0m\u001b[0m\n",
      "\u001b[0;31mKeyboardInterrupt\u001b[0m: "
     ]
    }
   ],
   "source": [
    "cosmo = cosmology.setCosmology('planck15',)\n",
    "\n",
    "data = [k,pk,pk_err]\n",
    "\n",
    "sigma = 0.05\n",
    "om_ini = np.array([0.3,0.2,0.6])\n",
    "b_ini = np.array([0.5,0.3,0.2])\n",
    "beta_ini = np.array([0.5,0.1,0.3])\n",
    "ite = 1000\n",
    "\n",
    "om_2,b_2,beta_2= metrop_2(om_ini,b_ini,beta_ini,data,sigma,ite)"
   ]
  },
  {
   "cell_type": "code",
   "execution_count": null,
   "metadata": {},
   "outputs": [],
   "source": [
    "flags = 1000\n",
    "omg_flg,b_flg,beta_flg, m = flags_data_1(om_2,b_2,beta_2,flags)"
   ]
  },
  {
   "cell_type": "code",
   "execution_count": 89,
   "metadata": {},
   "outputs": [
    {
     "data": {
      "text/plain": [
       "(1500, 300000.0)"
      ]
     },
     "execution_count": 89,
     "metadata": {},
     "output_type": "execute_result"
    },
    {
     "data": {
      "image/png": "[encoded data removed]",
      "text/plain": [
       "<Figure size 432x288 with 1 Axes>"
      ]
     },
     "metadata": {},
     "output_type": "display_data"
    }
   ],
   "source": [
    "k_m = 10**np.linspace(-6,5,100000)\n",
    "pk_m = model(m[0],m[1],m[2],k_m,z=0.57)\n",
    "\n",
    "plt.figure()\n",
    "plt.loglog()\n",
    "plt.errorbar(k,pk,yerr = pk_err,fmt='.')\n",
    "plt.plot(k_m,pk_m,'-')\n",
    "plt.xlim(1e-3,0.8)\n",
    "plt.ylim(1500,3e5)"
   ]
  },
  {
   "cell_type": "code",
   "execution_count": null,
   "metadata": {},
   "outputs": [],
   "source": []
  },
  {
   "cell_type": "markdown",
   "metadata": {},
   "source": [
    "Checa la Página Tutorial:\n",
    "https://bdiemer.bitbucket.io/colossus/_static/tutorial_cosmology.html"
   ]
  },
  {
   "cell_type": "code",
   "execution_count": 113,
   "metadata": {},
   "outputs": [
    {
     "name": "stdout",
     "output_type": "stream",
     "text": [
      "Cosmology \"planck15\" \n",
      "    flat = True, Om0 = 0.3089, Ode0 = 0.6910, Ob0 = 0.0486, H0 = 67.74, sigma8 = 0.8159, ns = 0.9667\n",
      "    de_model = lambda, relspecies = True, Tcmb0 = 2.7255, Neff = 3.0460, powerlaw = False\n"
     ]
    }
   ],
   "source": [
    "cosmo = cosmology.setCosmology('planck15',) #Se seleccionan el tranajo de planck\n",
    "print(cosmo)"
   ]
  },
  {
   "cell_type": "code",
   "execution_count": 114,
   "metadata": {},
   "outputs": [
    {
     "name": "stdout",
     "output_type": "stream",
     "text": [
      "Cosmology: Detected change in cosmological parameters.\n",
      "Cosmology \"planck15\" \n",
      "    flat = True, Om0 = 0.2900, Ode0 = 0.7100, Ob0 = 0.0486, H0 = 70.00, sigma8 = 0.8159, ns = 0.9700\n",
      "    de_model = lambda, relspecies = False, Tcmb0 = 2.7255, Neff = 3.0460, powerlaw = False\n"
     ]
    }
   ],
   "source": [
    "#Cambiamos los parametros para seleccionar la cosmologia\n",
    "cosmo.Om0 = 0.29\n",
    "cosmo.Omde = 0.71\n",
    "cosmo.ns = 0.97\n",
    "cosmo.H0 = 70\n",
    "cosmo.relspecies  = False\n",
    "cosmo.checkForChangedCosmology()\n",
    "print(cosmo)"
   ]
  },
  {
   "cell_type": "code",
   "execution_count": 115,
   "metadata": {},
   "outputs": [
    {
     "data": {
      "text/plain": [
       "[<matplotlib.lines.Line2D at 0x7f1914d61cf8>]"
      ]
     },
     "execution_count": 115,
     "metadata": {},
     "output_type": "execute_result"
    },
    {
     "data": {
      "image/png": "[encoded data removed]",
      "text/plain": [
       "<Figure size 432x288 with 1 Axes>"
      ]
     },
     "metadata": {},
     "output_type": "display_data"
    }
   ],
   "source": [
    "k = 10**np.linspace(-6,5,100000)\n",
    "Pk = cosmo.matterPowerSpectrum(k,0.57) #Redshft = 0.57\n",
    "\n",
    "plt.figure()\n",
    "plt.loglog()\n",
    "plt.xlabel('k(Mpc/c)')\n",
    "plt.ylabel('P(k)')\n",
    "plt.plot(k,Pk)"
   ]
  },
  {
   "cell_type": "markdown",
   "metadata": {},
   "source": [
    "Para descargar datos: http://www.sdss3.org/science/boss_publications.php"
   ]
  },
  {
   "cell_type": "code",
   "execution_count": 116,
   "metadata": {},
   "outputs": [
    {
     "data": {
      "text/plain": [
       "(100, 300000.0)"
      ]
     },
     "execution_count": 116,
     "metadata": {},
     "output_type": "execute_result"
    },
    {
     "data": {
      "image/png": "[encoded data removed]",
      "text/plain": [
       "<Figure size 432x288 with 1 Axes>"
      ]
     },
     "metadata": {},
     "output_type": "display_data"
    }
   ],
   "source": [
    "pk_cmasdr12 = np.loadtxt('GilMarin_boss_data/post-recon/cmass/GilMarin_2016_CMASSDR12_measurement_monopole_post_recon.txt').T\n",
    "\n",
    "plt.figure()\n",
    "plt.loglog()\n",
    "plt.errorbar(pk_cmasdr12[0],pk_cmasdr12[1],yerr=pk_cmasdr12[2],fmt='.')\n",
    "plt.plot(k,1.85**2*Pk,'-')\n",
    "plt.xlim(1e-3,1)\n",
    "plt.ylim(100,3e5)"
   ]
  },
  {
   "cell_type": "code",
   "execution_count": 59,
   "metadata": {},
   "outputs": [
    {
     "name": "stdout",
     "output_type": "stream",
     "text": [
      "Cosmology \"planck15\" \n",
      "    flat = True, Om0 = 0.3089, Ode0 = 0.6910, Ob0 = 0.0486, H0 = 67.74, sigma8 = 0.8159, ns = 0.9667\n",
      "    de_model = lambda, relspecies = True, Tcmb0 = 2.7255, Neff = 3.0460, powerlaw = False\n"
     ]
    }
   ],
   "source": [
    "cosmo = cosmology.setCosmology('planck15',) #Se inicia la clase de nuevo\n",
    "print(cosmo)\n",
    "\n",
    "def Pk_Om(Om,b2,k,z=0.57):\n",
    "    cosmo.Om0 = Om\n",
    "    return b2**2*cosmo.matterPowerSpectrum(k,z) #función"
   ]
  },
  {
   "cell_type": "code",
   "execution_count": 61,
   "metadata": {},
   "outputs": [
    {
     "data": {
      "image/png": "[encoded data removed]",
      "text/plain": [
       "<Figure size 432x288 with 1 Axes>"
      ]
     },
     "metadata": {},
     "output_type": "display_data"
    }
   ],
   "source": [
    "plt.figure()\n",
    "plt.loglog()\n",
    "#plt.errorbar(pk_cmasdr12[0],pk_cmasdr12[1],yerr=pk_cmasdr12[2],fmt='.')\n",
    "OM = (0.2,0.3,0.4)\n",
    "for om in OM:\n",
    "    plt.plot(k,1.85**2*Pk_Om(om,1.85,k),'-')\n",
    "    plt.plot(k,1.85**2*Pk_Om(om,3,k),'--')\n",
    "    plt.xlim(1e-3,1)\n",
    "    plt.ylim(100,1e7)"
   ]
  }
 ],
 "metadata": {
  "kernelspec": {
   "display_name": "Python 3",
   "language": "python",
   "name": "python3"
  },
  "language_info": {
   "codemirror_mode": {
    "name": "ipython",
    "version": 3
   },
   "file_extension": ".py",
   "mimetype": "text/x-python",
   "name": "python",
   "nbconvert_exporter": "python",
   "pygments_lexer": "ipython3",
   "version": "3.6.8"
  }
 },
 "nbformat": 4,
 "nbformat_minor": 2
}
