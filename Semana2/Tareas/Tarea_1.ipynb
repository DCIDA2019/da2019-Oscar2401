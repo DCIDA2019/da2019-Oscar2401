{
 "cells": [
  {
   "cell_type": "code",
   "execution_count": 1,
   "metadata": {},
   "outputs": [],
   "source": [
    "import numpy as np\n",
    "import math as mt\n",
    "import matplotlib.pyplot as plt\n",
    "import pandas as pd\n",
    "import requests\n",
    "import os"
   ]
  },
  {
   "cell_type": "markdown",
   "metadata": {},
   "source": [
    "### Create a single arrangement of years and one of sunspots with various ways"
   ]
  },
  {
   "cell_type": "markdown",
   "metadata": {},
   "source": [
    "#### 1) To make a cicle using 'usecols'"
   ]
  },
  {
   "cell_type": "code",
   "execution_count": 2,
   "metadata": {},
   "outputs": [],
   "source": [
    "def dow(x,y): # usamos una función para calcular el tiempo que se tarda haciedo el ciclo\n",
    "    for i in range(5):\n",
    "        x = np.concatenate((x,np.loadtxt('sunspots.txt',skiprows=4,usecols=(i*2),unpack=True)),axis = None)\n",
    "        y = np.concatenate((y,np.loadtxt('sunspots.txt',skiprows=4,usecols=((i*2)+1),unpack=True)),axis = None)\n",
    "    return x,y"
   ]
  },
  {
   "cell_type": "code",
   "execution_count": 3,
   "metadata": {},
   "outputs": [
    {
     "name": "stdout",
     "output_type": "stream",
     "text": [
      "CPU times: user 6.77 ms, sys: 7.81 ms, total: 14.6 ms\n",
      "Wall time: 16.7 ms\n"
     ]
    }
   ],
   "source": [
    "year_1 = np.array([])\n",
    "num_1 = np.array([])\n",
    "%time year_1, num_1 = dow(year_1,num_1)"
   ]
  },
  {
   "cell_type": "markdown",
   "metadata": {},
   "source": [
    "It is the slowest method that i used."
   ]
  },
  {
   "cell_type": "markdown",
   "metadata": {},
   "source": [
    "#### 2) To make a cicle but firts save the data in a single array"
   ]
  },
  {
   "cell_type": "code",
   "execution_count": 4,
   "metadata": {},
   "outputs": [
    {
     "name": "stdout",
     "output_type": "stream",
     "text": [
      "(10, 60)\n"
     ]
    }
   ],
   "source": [
    "sunspots = np.loadtxt('sunspots.txt',skiprows=4, unpack=True)\n",
    "print(sunspots.shape)"
   ]
  },
  {
   "cell_type": "code",
   "execution_count": 5,
   "metadata": {},
   "outputs": [],
   "source": [
    "def dow_1(s): # usamos una función para calcular el tiempo que se tarda haciedo el ciclo\n",
    "    x = np.array([])\n",
    "    y = np.array([])\n",
    "    for i in range(5):\n",
    "        x = np.concatenate((x,s[i*2,::2]),axis = None)\n",
    "        y = np.concatenate((y,s[(i*2)+1,::2]),axis = None)\n",
    "    return x,y"
   ]
  },
  {
   "cell_type": "code",
   "execution_count": 6,
   "metadata": {},
   "outputs": [
    {
     "name": "stdout",
     "output_type": "stream",
     "text": [
      "CPU times: user 793 µs, sys: 169 µs, total: 962 µs\n",
      "Wall time: 589 µs\n"
     ]
    }
   ],
   "source": [
    "%time year_2,num_2 = dow_1(sunspots)"
   ]
  },
  {
   "cell_type": "markdown",
   "metadata": {},
   "source": [
    "Is best save first  the data, its help to reduce time"
   ]
  },
  {
   "cell_type": "markdown",
   "metadata": {},
   "source": [
    "#### 3) Using feature of the arrays and np.reshape:"
   ]
  },
  {
   "cell_type": "code",
   "execution_count": 7,
   "metadata": {},
   "outputs": [
    {
     "name": "stdout",
     "output_type": "stream",
     "text": [
      "CPU times: user 2.95 ms, sys: 0 ns, total: 2.95 ms\n",
      "Wall time: 2.98 ms\n",
      "(10, 60)\n"
     ]
    }
   ],
   "source": [
    "%time sunspots = np.loadtxt('sunspots.txt',skiprows=4, unpack=True)\n",
    "print(sunspots.shape)"
   ]
  },
  {
   "cell_type": "code",
   "execution_count": 8,
   "metadata": {},
   "outputs": [
    {
     "name": "stdout",
     "output_type": "stream",
     "text": [
      "CPU times: user 111 µs, sys: 0 ns, total: 111 µs\n",
      "Wall time: 98.7 µs\n"
     ]
    }
   ],
   "source": [
    "%time year_3 , num_3 = np.reshape(sunspots[::2],(1,300)),np.reshape(sunspots[1::2],(1,300))"
   ]
  },
  {
   "cell_type": "markdown",
   "metadata": {},
   "source": [
    "Time is $\\mu s$, it's the best way I could do"
   ]
  },
  {
   "cell_type": "markdown",
   "metadata": {},
   "source": [
    "### 2.- Leer y realizar los ejemplos del capitulo 2 de https://jakevdp.github.io/PythonDataScienceHandbook/index.html Usando como base de datos alguno de los archivos descargados en el punto 1."
   ]
  },
  {
   "cell_type": "markdown",
   "metadata": {},
   "source": [
    "Ya descargados los archivos .txt los cargamos:"
   ]
  },
  {
   "cell_type": "code",
   "execution_count": 108,
   "metadata": {},
   "outputs": [],
   "source": [
    "path_ll = '/home/echeveste/Mis_trabajos/analisis_datos/da2019-Oscar2401/Semana2/Tareas/dato_temperaturas_lluvia/201801010000Lluv.csv'\n",
    "path_Mx = '/home/echeveste/Mis_trabajos/analisis_datos/da2019-Oscar2401/Semana2/Tareas/dato_temperaturas_lluvia/201801010000TMax.csv'\n",
    "path_Mm = '/home/echeveste/Mis_trabajos/analisis_datos/da2019-Oscar2401/Semana2/Tareas/dato_temperaturas_lluvia/201801010000TMin.csv'\n",
    "path_Md = '/home/echeveste/Mis_trabajos/analisis_datos/da2019-Oscar2401/Semana2/Tareas/dato_temperaturas_lluvia/201801010000TMed.csv'\n",
    "\n",
    "lluvias_2018 = pd.read_csv(path_ll,encoding='latin-1')\n",
    "Maxima_2018 = pd.read_csv(path_Mx,encoding='latin-1')\n",
    "Minima_2018 = pd.read_csv(path_Mm,encoding='latin-1')\n",
    "Media_2018 = pd.read_csv(path_Md,encoding='latin-1')"
   ]
  },
  {
   "cell_type": "markdown",
   "metadata": {},
   "source": [
    "## Objetos Series de Panda"
   ]
  },
  {
   "cell_type": "markdown",
   "metadata": {},
   "source": [
    "Mostramos los valores de uno de los archivos como una forma familiar de numpy"
   ]
  },
  {
   "cell_type": "code",
   "execution_count": 177,
   "metadata": {},
   "outputs": [
    {
     "name": "stdout",
     "output_type": "stream",
     "text": [
      "[[-102.309722 21.895 'AGS' 'AGSAG' 'Aguascalientes, Ags.' 25.8]\n",
      " [-102.466944 22.188610999999998 'AGS' 'ANVAG'\n",
      "  'Cincuenta Aniversario, Ags.' 58.6]\n",
      " [-102.712222 21.849167 'AGS' 'CALVILLO' 'Calvillo, Ags. SMN*' 56.0]\n",
      " ...\n",
      " [-101.2275 18.060556 'GRO' 'ZIHUAQUIOCFE' 'Coyuca de Catalán' 0.4]\n",
      " [-101.55488890000001 17.64505556 'GRO' 'ZIHUATANEJO'\n",
      "  'Zihuatanejo de Azueta' 2.2]\n",
      " [-99.39080556 20.74022222 'HGO' 'ZIMAPANSMN' 'Zimapán' 9.8]]\n",
      "--------------------------\n",
      "Cincuenta Aniversario, Ags.\n"
     ]
    }
   ],
   "source": [
    "print(lluvias_2018.values)\n",
    "print('--------------------------')\n",
    "print(lluvias_2018.values[1,4])"
   ]
  },
  {
   "cell_type": "code",
   "execution_count": 115,
   "metadata": {},
   "outputs": [
    {
     "name": "stdout",
     "output_type": "stream",
     "text": [
      "RangeIndex(start=0, stop=1099, step=1)\n"
     ]
    }
   ],
   "source": [
    "print(Maxima_2018.index)"
   ]
  },
  {
   "cell_type": "code",
   "execution_count": 170,
   "metadata": {},
   "outputs": [
    {
     "data": {
      "text/html": [
       "<div>\n",
       "<style scoped>\n",
       "    .dataframe tbody tr th:only-of-type {\n",
       "        vertical-align: middle;\n",
       "    }\n",
       "\n",
       "    .dataframe tbody tr th {\n",
       "        vertical-align: top;\n",
       "    }\n",
       "\n",
       "    .dataframe thead th {\n",
       "        text-align: right;\n",
       "    }\n",
       "</style>\n",
       "<table border=\"1\" class=\"dataframe\">\n",
       "  <thead>\n",
       "    <tr style=\"text-align: right;\">\n",
       "      <th></th>\n",
       "      <th>LON</th>\n",
       "      <th>LAT</th>\n",
       "      <th>ESTADO</th>\n",
       "      <th>CLAVE_SIH</th>\n",
       "      <th>NOMBRE</th>\n",
       "      <th>ENE</th>\n",
       "    </tr>\n",
       "  </thead>\n",
       "  <tbody>\n",
       "    <tr>\n",
       "      <th>4</th>\n",
       "      <td>-102.197222</td>\n",
       "      <td>22.007222</td>\n",
       "      <td>AGS</td>\n",
       "      <td>CHOAG</td>\n",
       "      <td>Cañada Honda, Ags.</td>\n",
       "      <td>17.2</td>\n",
       "    </tr>\n",
       "    <tr>\n",
       "      <th>6</th>\n",
       "      <td>-102.000000</td>\n",
       "      <td>21.896389</td>\n",
       "      <td>AGS</td>\n",
       "      <td>CNSAG</td>\n",
       "      <td>Los Conos, Ags.</td>\n",
       "      <td>51.5</td>\n",
       "    </tr>\n",
       "    <tr>\n",
       "      <th>8</th>\n",
       "      <td>-102.788333</td>\n",
       "      <td>21.807500</td>\n",
       "      <td>AGS</td>\n",
       "      <td>MNLAG</td>\n",
       "      <td>Media Luna, Ags.</td>\n",
       "      <td>48.9</td>\n",
       "    </tr>\n",
       "    <tr>\n",
       "      <th>10</th>\n",
       "      <td>-102.290556</td>\n",
       "      <td>21.850833</td>\n",
       "      <td>AGS</td>\n",
       "      <td>OBSAG</td>\n",
       "      <td>Observatorio, Ags.</td>\n",
       "      <td>20.9</td>\n",
       "    </tr>\n",
       "    <tr>\n",
       "      <th>12</th>\n",
       "      <td>-101.966667</td>\n",
       "      <td>21.916667</td>\n",
       "      <td>AGS</td>\n",
       "      <td>PALAG</td>\n",
       "      <td>Palo Alto, Ags.</td>\n",
       "      <td>19.0</td>\n",
       "    </tr>\n",
       "    <tr>\n",
       "      <th>14</th>\n",
       "      <td>-102.417222</td>\n",
       "      <td>22.141111</td>\n",
       "      <td>AGS</td>\n",
       "      <td>PECAG</td>\n",
       "      <td>Calles, Ags.</td>\n",
       "      <td>50.0</td>\n",
       "    </tr>\n",
       "    <tr>\n",
       "      <th>16</th>\n",
       "      <td>-102.437500</td>\n",
       "      <td>22.235000</td>\n",
       "      <td>AGS</td>\n",
       "      <td>PTRAG</td>\n",
       "      <td>Potrerillos, Ags.</td>\n",
       "      <td>52.8</td>\n",
       "    </tr>\n",
       "    <tr>\n",
       "      <th>18</th>\n",
       "      <td>-102.127778</td>\n",
       "      <td>21.807778</td>\n",
       "      <td>AGS</td>\n",
       "      <td>TNJAG</td>\n",
       "      <td>La Tinaja II, Ags.</td>\n",
       "      <td>10.0</td>\n",
       "    </tr>\n",
       "  </tbody>\n",
       "</table>\n",
       "</div>"
      ],
      "text/plain": [
       "           LON        LAT ESTADO CLAVE_SIH              NOMBRE   ENE\n",
       "4  -102.197222  22.007222    AGS     CHOAG  Cañada Honda, Ags.  17.2\n",
       "6  -102.000000  21.896389    AGS     CNSAG     Los Conos, Ags.  51.5\n",
       "8  -102.788333  21.807500    AGS     MNLAG    Media Luna, Ags.  48.9\n",
       "10 -102.290556  21.850833    AGS     OBSAG  Observatorio, Ags.  20.9\n",
       "12 -101.966667  21.916667    AGS     PALAG     Palo Alto, Ags.  19.0\n",
       "14 -102.417222  22.141111    AGS     PECAG        Calles, Ags.  50.0\n",
       "16 -102.437500  22.235000    AGS     PTRAG   Potrerillos, Ags.  52.8\n",
       "18 -102.127778  21.807778    AGS     TNJAG  La Tinaja II, Ags.  10.0"
      ]
     },
     "execution_count": 170,
     "metadata": {},
     "output_type": "execute_result"
    }
   ],
   "source": [
    "lluvias_2018[4:20:2] # Como en un arreglo, muestra del renglon 1 al 20 con saltos de 2"
   ]
  },
  {
   "cell_type": "code",
   "execution_count": 352,
   "metadata": {},
   "outputs": [
    {
     "data": {
      "text/html": [
       "<div>\n",
       "<style scoped>\n",
       "    .dataframe tbody tr th:only-of-type {\n",
       "        vertical-align: middle;\n",
       "    }\n",
       "\n",
       "    .dataframe tbody tr th {\n",
       "        vertical-align: top;\n",
       "    }\n",
       "\n",
       "    .dataframe thead th {\n",
       "        text-align: right;\n",
       "    }\n",
       "</style>\n",
       "<table border=\"1\" class=\"dataframe\">\n",
       "  <thead>\n",
       "    <tr style=\"text-align: right;\">\n",
       "      <th></th>\n",
       "      <th>Lon</th>\n",
       "      <th>Lat</th>\n",
       "      <th>Clave</th>\n",
       "      <th>Edo</th>\n",
       "      <th>Est</th>\n",
       "      <th>Tmed</th>\n",
       "    </tr>\n",
       "  </thead>\n",
       "  <tbody>\n",
       "    <tr>\n",
       "      <th>4</th>\n",
       "      <td>-92.80</td>\n",
       "      <td>16.55</td>\n",
       "      <td>ACACP</td>\n",
       "      <td>CHIS</td>\n",
       "      <td>ACALA</td>\n",
       "      <td>21.2</td>\n",
       "    </tr>\n",
       "    <tr>\n",
       "      <th>8</th>\n",
       "      <td>-96.84</td>\n",
       "      <td>19.70</td>\n",
       "      <td>ACAVC</td>\n",
       "      <td>VER</td>\n",
       "      <td>ACATLAN</td>\n",
       "      <td>12.8</td>\n",
       "    </tr>\n",
       "    <tr>\n",
       "      <th>12</th>\n",
       "      <td>-96.58</td>\n",
       "      <td>19.49</td>\n",
       "      <td>ACTVC</td>\n",
       "      <td>VER</td>\n",
       "      <td>ACTOPAN</td>\n",
       "      <td>20.0</td>\n",
       "    </tr>\n",
       "    <tr>\n",
       "      <th>16</th>\n",
       "      <td>-104.48</td>\n",
       "      <td>26.23</td>\n",
       "      <td>APRDR</td>\n",
       "      <td>DGO</td>\n",
       "      <td>AGUA PUERCA</td>\n",
       "      <td>10.5</td>\n",
       "    </tr>\n",
       "  </tbody>\n",
       "</table>\n",
       "</div>"
      ],
      "text/plain": [
       "       Lon    Lat  Clave   Edo          Est  Tmed\n",
       "4   -92.80  16.55  ACACP  CHIS        ACALA  21.2\n",
       "8   -96.84  19.70  ACAVC   VER      ACATLAN  12.8\n",
       "12  -96.58  19.49  ACTVC   VER      ACTOPAN  20.0\n",
       "16 -104.48  26.23  APRDR   DGO  AGUA PUERCA  10.5"
      ]
     },
     "execution_count": 352,
     "metadata": {},
     "output_type": "execute_result"
    }
   ],
   "source": [
    "Media_2018[4:20:4] "
   ]
  },
  {
   "cell_type": "markdown",
   "metadata": {},
   "source": [
    "Hago un arreglo propio:"
   ]
  },
  {
   "cell_type": "code",
   "execution_count": 190,
   "metadata": {},
   "outputs": [
    {
     "name": "stdout",
     "output_type": "stream",
     "text": [
      "Nombre    [Oscar, Cristian, Liliana]\n",
      "Edad                    [22, 27, 24]\n",
      "Sexo         [Hombre, Hombre, Mujer]\n",
      "Titulo          [False, True, False]\n",
      "dtype: object\n"
     ]
    }
   ],
   "source": [
    "My_exaple = pd.Series([['Oscar','Cristian','Liliana'], [22,27,24], ['Hombre','Hombre','Mujer'],[False,True,False]],\n",
    "                      index=['Nombre', 'Edad', 'Sexo', 'Titulo'])\n",
    "print(My_exaple)"
   ]
  },
  {
   "cell_type": "code",
   "execution_count": 191,
   "metadata": {},
   "outputs": [
    {
     "name": "stdout",
     "output_type": "stream",
     "text": [
      "[22, 27, 24]\n"
     ]
    }
   ],
   "source": [
    "print(My_exaple['Edad'])"
   ]
  },
  {
   "cell_type": "code",
   "execution_count": 192,
   "metadata": {},
   "outputs": [
    {
     "name": "stdout",
     "output_type": "stream",
     "text": [
      "{'Cristian': 27, 'Liliana': 24, 'Oscar': 22, 'Pascual': 57, 'Graciela': 52}\n"
     ]
    }
   ],
   "source": [
    "Edades = {'Cristian':27,'Liliana':24,'Oscar':22,'Pascual':57,'Graciela':52} \n",
    "print(Edades)"
   ]
  },
  {
   "cell_type": "code",
   "execution_count": 193,
   "metadata": {},
   "outputs": [
    {
     "name": "stdout",
     "output_type": "stream",
     "text": [
      "Cristian    27\n",
      "Liliana     24\n",
      "Oscar       22\n",
      "Pascual     57\n",
      "Graciela    52\n",
      "dtype: int64\n",
      "------------------\n",
      "Oscar:  22\n",
      "------------------\n",
      "Liliana    24\n",
      "Oscar      22\n",
      "Pascual    57\n",
      "dtype: int64\n"
     ]
    }
   ],
   "source": [
    "Edades_pd = pd.Series(Edades) #Transformamos un diccionario a una série\n",
    "print(Edades_pd)\n",
    "print('------------------')\n",
    "print('Oscar: ',Edades_pd['Oscar'])\n",
    "print('------------------')\n",
    "print(Edades_pd['Liliana':'Pascual'])"
   ]
  },
  {
   "cell_type": "code",
   "execution_count": 194,
   "metadata": {},
   "outputs": [
    {
     "data": {
      "text/plain": [
       "Liliana     24\n",
       "Graciela    52\n",
       "dtype: int64"
      ]
     },
     "execution_count": 194,
     "metadata": {},
     "output_type": "execute_result"
    }
   ],
   "source": [
    "pd.Series(Edades,index=['Liliana','Graciela'])"
   ]
  },
  {
   "cell_type": "markdown",
   "metadata": {},
   "source": [
    "### Objetos DataFrame de Panda"
   ]
  },
  {
   "cell_type": "markdown",
   "metadata": {},
   "source": [
    "Creamos un nuevos diccionarios que se aderirá al de edades para hacer uno solo"
   ]
  },
  {
   "cell_type": "code",
   "execution_count": 214,
   "metadata": {},
   "outputs": [],
   "source": [
    "Sexo = {'Cristian':'H','Liliana':'M','Oscar':'H','Pascual':'H','Graciela':'M'} \n",
    "Sexo_pd = pd.Series(Sexo)\n",
    "Trabajo = {'Cristian':True,'Liliana':False,'Oscar':False,'Pascual':True,'Graciela':False} \n",
    "Trabajo_pd = pd.Series(Trabajo)\n",
    "Estudio = {'Cristian':'Licenciatura','Liliana':'Licenciatura','Oscar':'Bachillerato','Pascual':'Secundaria','Graciela':'Primaria'} \n",
    "Estudio_pd = pd.Series(Estudio)"
   ]
  },
  {
   "cell_type": "code",
   "execution_count": 215,
   "metadata": {},
   "outputs": [
    {
     "name": "stdout",
     "output_type": "stream",
     "text": [
      "          EDAD SEXO  TRABAJO       ESTUDIO\n",
      "Cristian    27    H     True  Licenciatura\n",
      "Liliana     24    M    False  Licenciatura\n",
      "Oscar       22    H    False  Bachillerato\n",
      "Pascual     57    H     True    Secundaria\n",
      "Graciela    52    M    False      Primaria\n"
     ]
    }
   ],
   "source": [
    "family = pd.DataFrame({'EDAD':Edades_pd,'SEXO':Sexo_pd,'TRABAJO':Trabajo_pd,'ESTUDIO':Estudio_pd}) #Unimos las dos series de edad y sexo\n",
    "print(family)"
   ]
  },
  {
   "cell_type": "code",
   "execution_count": 216,
   "metadata": {},
   "outputs": [
    {
     "name": "stdout",
     "output_type": "stream",
     "text": [
      "Index(['Cristian', 'Liliana', 'Oscar', 'Pascual', 'Graciela'], dtype='object')\n",
      "Index(['EDAD', 'SEXO', 'TRABAJO', 'ESTUDIO'], dtype='object')\n"
     ]
    }
   ],
   "source": [
    "print(family.index)\n",
    "print(family.columns)"
   ]
  },
  {
   "cell_type": "code",
   "execution_count": 213,
   "metadata": {},
   "outputs": [
    {
     "data": {
      "text/plain": [
       "Cristian    Licenciatura\n",
       "Liliana     Licenciatura\n",
       "Oscar       Bachillerato\n",
       "Pascual       Secundaria\n",
       "Graciela        Primaria\n",
       "Name: ESTUDIO, dtype: object"
      ]
     },
     "execution_count": 213,
     "metadata": {},
     "output_type": "execute_result"
    }
   ],
   "source": [
    "family['ESTUDIO']"
   ]
  },
  {
   "cell_type": "code",
   "execution_count": 258,
   "metadata": {},
   "outputs": [
    {
     "data": {
      "text/html": [
       "<div>\n",
       "<style scoped>\n",
       "    .dataframe tbody tr th:only-of-type {\n",
       "        vertical-align: middle;\n",
       "    }\n",
       "\n",
       "    .dataframe tbody tr th {\n",
       "        vertical-align: top;\n",
       "    }\n",
       "\n",
       "    .dataframe thead th {\n",
       "        text-align: right;\n",
       "    }\n",
       "</style>\n",
       "<table border=\"1\" class=\"dataframe\">\n",
       "  <thead>\n",
       "    <tr style=\"text-align: right;\">\n",
       "      <th></th>\n",
       "      <th>$\\ x$</th>\n",
       "      <th>$\\cos(x)$</th>\n",
       "      <th>$\\sin(x)$</th>\n",
       "      <th>$e^{x}$</th>\n",
       "    </tr>\n",
       "  </thead>\n",
       "  <tbody>\n",
       "    <tr>\n",
       "      <th>0</th>\n",
       "      <td>0</td>\n",
       "      <td>1.000000</td>\n",
       "      <td>0.000000</td>\n",
       "      <td>1.000000</td>\n",
       "    </tr>\n",
       "    <tr>\n",
       "      <th>1</th>\n",
       "      <td>1</td>\n",
       "      <td>0.540302</td>\n",
       "      <td>0.841471</td>\n",
       "      <td>2.718282</td>\n",
       "    </tr>\n",
       "    <tr>\n",
       "      <th>2</th>\n",
       "      <td>2</td>\n",
       "      <td>-0.416147</td>\n",
       "      <td>0.909297</td>\n",
       "      <td>7.389056</td>\n",
       "    </tr>\n",
       "    <tr>\n",
       "      <th>3</th>\n",
       "      <td>3</td>\n",
       "      <td>-0.989992</td>\n",
       "      <td>0.141120</td>\n",
       "      <td>20.085537</td>\n",
       "    </tr>\n",
       "    <tr>\n",
       "      <th>4</th>\n",
       "      <td>4</td>\n",
       "      <td>-0.653644</td>\n",
       "      <td>-0.756802</td>\n",
       "      <td>54.598150</td>\n",
       "    </tr>\n",
       "    <tr>\n",
       "      <th>5</th>\n",
       "      <td>5</td>\n",
       "      <td>0.283662</td>\n",
       "      <td>-0.958924</td>\n",
       "      <td>148.413159</td>\n",
       "    </tr>\n",
       "    <tr>\n",
       "      <th>6</th>\n",
       "      <td>6</td>\n",
       "      <td>0.960170</td>\n",
       "      <td>-0.279415</td>\n",
       "      <td>403.428793</td>\n",
       "    </tr>\n",
       "    <tr>\n",
       "      <th>7</th>\n",
       "      <td>7</td>\n",
       "      <td>0.753902</td>\n",
       "      <td>0.656987</td>\n",
       "      <td>1096.633158</td>\n",
       "    </tr>\n",
       "  </tbody>\n",
       "</table>\n",
       "</div>"
      ],
      "text/plain": [
       "   $\\ x$  $\\cos(x)$  $\\sin(x)$      $e^{x}$\n",
       "0      0   1.000000   0.000000     1.000000\n",
       "1      1   0.540302   0.841471     2.718282\n",
       "2      2  -0.416147   0.909297     7.389056\n",
       "3      3  -0.989992   0.141120    20.085537\n",
       "4      4  -0.653644  -0.756802    54.598150\n",
       "5      5   0.283662  -0.958924   148.413159\n",
       "6      6   0.960170  -0.279415   403.428793\n",
       "7      7   0.753902   0.656987  1096.633158"
      ]
     },
     "execution_count": 258,
     "metadata": {},
     "output_type": "execute_result"
    }
   ],
   "source": [
    "func = [{'$\\ x$': i,'$\\sin(x)$':np.sin(i),'$\\cos(x)$':np.cos(i),'$e^{x}$':np.exp(i) } for i in range(8)]\n",
    "pd.DataFrame(func)"
   ]
  },
  {
   "cell_type": "code",
   "execution_count": 260,
   "metadata": {},
   "outputs": [],
   "source": [
    "a = pd.Index([2,9,5,9,5,8,6,5,6,8,4,5,2,4,4,5,52,5,2,4,4,5,9,6,5,2,5,4,5,63,1,89])\n",
    "b = pd.Index([2,9,7,3,5,1,7,8,6,8,4,6,5,8,55,6,3,7,44,6,9,32,7,5,5,5,8,6,9,7,6,9,8,5,120])"
   ]
  },
  {
   "cell_type": "code",
   "execution_count": 265,
   "metadata": {},
   "outputs": [
    {
     "name": "stdout",
     "output_type": "stream",
     "text": [
      "Int64Index([2, 9, 9, 9, 9, 5, 5, 5, 5, 5, 5, 8, 8, 8, 8, 8, 6, 6, 6, 6, 6, 6,\n",
      "            4, 1],\n",
      "           dtype='int64')\n",
      "Int64Index([3, 7, 32, 44, 52, 55, 63, 89, 120], dtype='int64')\n"
     ]
    }
   ],
   "source": [
    "print(a&b) #intersección\n",
    "print(a^b) #diferencias"
   ]
  },
  {
   "cell_type": "markdown",
   "metadata": {},
   "source": [
    "## Indización y selección de datos"
   ]
  },
  {
   "cell_type": "code",
   "execution_count": 356,
   "metadata": {},
   "outputs": [
    {
     "name": "stdout",
     "output_type": "stream",
     "text": [
      "Index(['LON', 'LAT', 'ESTADO', 'CLAVE_SIH', 'NOMBRE', 'ENE'], dtype='object')\n",
      "Index(['Lon', 'Lat', 'Clave', 'Edo', 'Est', 'Tmed'], dtype='object')\n",
      "Index(['Lon', 'Lat', 'Clave', 'Edo', 'Est', 'Tmax'], dtype='object')\n",
      "Index(['Lon', 'Lat', 'Clave', 'Edo', 'Est', 'Tmin'], dtype='object')\n"
     ]
    }
   ],
   "source": [
    "print(lluvias_2018.keys())\n",
    "print(Media_2018.keys())\n",
    "print(Maxima_2018.keys())\n",
    "print(Minima_2018.keys())"
   ]
  },
  {
   "cell_type": "code",
   "execution_count": 294,
   "metadata": {},
   "outputs": [
    {
     "name": "stdout",
     "output_type": "stream",
     "text": [
      "True\n",
      "True\n",
      "False\n"
     ]
    }
   ],
   "source": [
    "print('ESTADO' in lluvias_2018) #Si exixte el elemento Estado \n",
    "print('NOMBRE' in lluvias_2018)\n",
    "print('MES' in lluvias_2018)"
   ]
  },
  {
   "cell_type": "code",
   "execution_count": 299,
   "metadata": {},
   "outputs": [],
   "source": [
    "#list(lluvias_2018.items())"
   ]
  },
  {
   "cell_type": "code",
   "execution_count": 308,
   "metadata": {},
   "outputs": [
    {
     "data": {
      "text/plain": [
       "Index(['EDAD', 'SEXO', 'TRABAJO', 'ESTUDIO'], dtype='object')"
      ]
     },
     "execution_count": 308,
     "metadata": {},
     "output_type": "execute_result"
    }
   ],
   "source": [
    "family.keys()"
   ]
  },
  {
   "cell_type": "code",
   "execution_count": 341,
   "metadata": {},
   "outputs": [
    {
     "data": {
      "text/html": [
       "<div>\n",
       "<style scoped>\n",
       "    .dataframe tbody tr th:only-of-type {\n",
       "        vertical-align: middle;\n",
       "    }\n",
       "\n",
       "    .dataframe tbody tr th {\n",
       "        vertical-align: top;\n",
       "    }\n",
       "\n",
       "    .dataframe thead th {\n",
       "        text-align: right;\n",
       "    }\n",
       "</style>\n",
       "<table border=\"1\" class=\"dataframe\">\n",
       "  <thead>\n",
       "    <tr style=\"text-align: right;\">\n",
       "      <th></th>\n",
       "      <th>EDAD</th>\n",
       "      <th>SEXO</th>\n",
       "      <th>TRABAJO</th>\n",
       "      <th>ESTUDIO</th>\n",
       "    </tr>\n",
       "  </thead>\n",
       "  <tbody>\n",
       "    <tr>\n",
       "      <th>Cristian</th>\n",
       "      <td>10</td>\n",
       "      <td>H</td>\n",
       "      <td>False</td>\n",
       "      <td>Licenciatura</td>\n",
       "    </tr>\n",
       "    <tr>\n",
       "      <th>Liliana</th>\n",
       "      <td>10</td>\n",
       "      <td>M</td>\n",
       "      <td>False</td>\n",
       "      <td>Licenciatura</td>\n",
       "    </tr>\n",
       "    <tr>\n",
       "      <th>Oscar</th>\n",
       "      <td>10</td>\n",
       "      <td>H</td>\n",
       "      <td>False</td>\n",
       "      <td>Bachillerato</td>\n",
       "    </tr>\n",
       "    <tr>\n",
       "      <th>Pascual</th>\n",
       "      <td>10</td>\n",
       "      <td>H</td>\n",
       "      <td>False</td>\n",
       "      <td>Secundaria</td>\n",
       "    </tr>\n",
       "    <tr>\n",
       "      <th>Graciela</th>\n",
       "      <td>10</td>\n",
       "      <td>M</td>\n",
       "      <td>False</td>\n",
       "      <td>Primaria</td>\n",
       "    </tr>\n",
       "  </tbody>\n",
       "</table>\n",
       "</div>"
      ],
      "text/plain": [
       "          EDAD SEXO  TRABAJO       ESTUDIO\n",
       "Cristian    10    H    False  Licenciatura\n",
       "Liliana     10    M    False  Licenciatura\n",
       "Oscar       10    H    False  Bachillerato\n",
       "Pascual     10    H    False    Secundaria\n",
       "Graciela    10    M    False      Primaria"
      ]
     },
     "execution_count": 341,
     "metadata": {},
     "output_type": "execute_result"
    }
   ],
   "source": [
    "#Cambiamos las edaes y trabajos de toda la familia\n",
    "family['EDAD']  = 10\n",
    "family['TRABAJO'] = False\n",
    "family"
   ]
  },
  {
   "cell_type": "code",
   "execution_count": 342,
   "metadata": {},
   "outputs": [
    {
     "data": {
      "text/html": [
       "<div>\n",
       "<style scoped>\n",
       "    .dataframe tbody tr th:only-of-type {\n",
       "        vertical-align: middle;\n",
       "    }\n",
       "\n",
       "    .dataframe tbody tr th {\n",
       "        vertical-align: top;\n",
       "    }\n",
       "\n",
       "    .dataframe thead th {\n",
       "        text-align: right;\n",
       "    }\n",
       "</style>\n",
       "<table border=\"1\" class=\"dataframe\">\n",
       "  <thead>\n",
       "    <tr style=\"text-align: right;\">\n",
       "      <th></th>\n",
       "      <th>LON</th>\n",
       "      <th>LAT</th>\n",
       "      <th>ESTADO</th>\n",
       "      <th>CLAVE_SIH</th>\n",
       "      <th>NOMBRE</th>\n",
       "      <th>ENE</th>\n",
       "    </tr>\n",
       "  </thead>\n",
       "  <tbody>\n",
       "    <tr>\n",
       "      <th>261</th>\n",
       "      <td>-99.171667</td>\n",
       "      <td>19.453333</td>\n",
       "      <td>DF</td>\n",
       "      <td>CBIDF</td>\n",
       "      <td>ESC. NAL. DE CIENCIAS BIOLOGICAS IPN SMN</td>\n",
       "      <td>11.7</td>\n",
       "    </tr>\n",
       "    <tr>\n",
       "      <th>281</th>\n",
       "      <td>-99.057778</td>\n",
       "      <td>19.433333</td>\n",
       "      <td>DF</td>\n",
       "      <td>PBCDF</td>\n",
       "      <td>P. B. Churubusco L., D.F.</td>\n",
       "      <td>10.7</td>\n",
       "    </tr>\n",
       "    <tr>\n",
       "      <th>288</th>\n",
       "      <td>-99.068333</td>\n",
       "      <td>19.420278</td>\n",
       "      <td>DF</td>\n",
       "      <td>PLMDF</td>\n",
       "      <td>P. B. López Mateos, D.F.</td>\n",
       "      <td>10.7</td>\n",
       "    </tr>\n",
       "    <tr>\n",
       "      <th>301</th>\n",
       "      <td>-99.275000</td>\n",
       "      <td>19.328611</td>\n",
       "      <td>DF</td>\n",
       "      <td>SBADF</td>\n",
       "      <td>San Bartolo Ameyalco, D.F.</td>\n",
       "      <td>10.2</td>\n",
       "    </tr>\n",
       "    <tr>\n",
       "      <th>314</th>\n",
       "      <td>-99.212500</td>\n",
       "      <td>19.361944</td>\n",
       "      <td>DF</td>\n",
       "      <td>TRGDF</td>\n",
       "      <td>Tarango, D.F.</td>\n",
       "      <td>10.9</td>\n",
       "    </tr>\n",
       "    <tr>\n",
       "      <th>1300</th>\n",
       "      <td>-99.200342</td>\n",
       "      <td>19.311528</td>\n",
       "      <td>DF</td>\n",
       "      <td>CCHS</td>\n",
       "      <td>Coyoacán</td>\n",
       "      <td>10.8</td>\n",
       "    </tr>\n",
       "    <tr>\n",
       "      <th>1562</th>\n",
       "      <td>-99.069222</td>\n",
       "      <td>19.421088</td>\n",
       "      <td>DF</td>\n",
       "      <td>LOPEZMATEOS</td>\n",
       "      <td>Venustiano Carranza</td>\n",
       "      <td>10.4</td>\n",
       "    </tr>\n",
       "    <tr>\n",
       "      <th>1607</th>\n",
       "      <td>-99.127742</td>\n",
       "      <td>19.365688</td>\n",
       "      <td>DF</td>\n",
       "      <td>MUNICIPIOLIBRE</td>\n",
       "      <td>Iztapalapa</td>\n",
       "      <td>11.2</td>\n",
       "    </tr>\n",
       "    <tr>\n",
       "      <th>1703</th>\n",
       "      <td>-99.155414</td>\n",
       "      <td>19.515002</td>\n",
       "      <td>DF</td>\n",
       "      <td>REMEDIOS</td>\n",
       "      <td>Gustavo A. Madero</td>\n",
       "      <td>10.1</td>\n",
       "    </tr>\n",
       "    <tr>\n",
       "      <th>1796</th>\n",
       "      <td>-99.212690</td>\n",
       "      <td>19.360928</td>\n",
       "      <td>DF</td>\n",
       "      <td>TARANGO</td>\n",
       "      <td>Álvaro Obregón</td>\n",
       "      <td>10.7</td>\n",
       "    </tr>\n",
       "    <tr>\n",
       "      <th>1819</th>\n",
       "      <td>-99.099722</td>\n",
       "      <td>19.385278</td>\n",
       "      <td>DF</td>\n",
       "      <td>TEZONTLE</td>\n",
       "      <td>Iztacalco</td>\n",
       "      <td>10.6</td>\n",
       "    </tr>\n",
       "    <tr>\n",
       "      <th>1869</th>\n",
       "      <td>-99.144611</td>\n",
       "      <td>19.332867</td>\n",
       "      <td>DF</td>\n",
       "      <td>XOTEPINGO</td>\n",
       "      <td>Coyoacán</td>\n",
       "      <td>10.2</td>\n",
       "    </tr>\n",
       "  </tbody>\n",
       "</table>\n",
       "</div>"
      ],
      "text/plain": [
       "            LON        LAT ESTADO       CLAVE_SIH  \\\n",
       "261  -99.171667  19.453333     DF           CBIDF   \n",
       "281  -99.057778  19.433333     DF           PBCDF   \n",
       "288  -99.068333  19.420278     DF           PLMDF   \n",
       "301  -99.275000  19.328611     DF           SBADF   \n",
       "314  -99.212500  19.361944     DF           TRGDF   \n",
       "1300 -99.200342  19.311528     DF            CCHS   \n",
       "1562 -99.069222  19.421088     DF     LOPEZMATEOS   \n",
       "1607 -99.127742  19.365688     DF  MUNICIPIOLIBRE   \n",
       "1703 -99.155414  19.515002     DF        REMEDIOS   \n",
       "1796 -99.212690  19.360928     DF         TARANGO   \n",
       "1819 -99.099722  19.385278     DF        TEZONTLE   \n",
       "1869 -99.144611  19.332867     DF       XOTEPINGO   \n",
       "\n",
       "                                        NOMBRE   ENE  \n",
       "261   ESC. NAL. DE CIENCIAS BIOLOGICAS IPN SMN  11.7  \n",
       "281                  P. B. Churubusco L., D.F.  10.7  \n",
       "288                   P. B. López Mateos, D.F.  10.7  \n",
       "301                 San Bartolo Ameyalco, D.F.  10.2  \n",
       "314                              Tarango, D.F.  10.9  \n",
       "1300                                  Coyoacán  10.8  \n",
       "1562                       Venustiano Carranza  10.4  \n",
       "1607                                Iztapalapa  11.2  \n",
       "1703                         Gustavo A. Madero  10.1  \n",
       "1796                            Álvaro Obregón  10.7  \n",
       "1819                                 Iztacalco  10.6  \n",
       "1869                                  Coyoacán  10.2  "
      ]
     },
     "execution_count": 342,
     "metadata": {},
     "output_type": "execute_result"
    }
   ],
   "source": [
    "#Mascaras\n",
    "# Tomamos un rango de ENE y solo escojemos el estado del DF\n",
    "lluvias_2018[(lluvias_2018['ENE']> 10) & (lluvias_2018['ENE'] < 12) & (lluvias_2018['ESTADO'] == 'DF' )]"
   ]
  },
  {
   "cell_type": "code",
   "execution_count": 343,
   "metadata": {},
   "outputs": [
    {
     "data": {
      "text/html": [
       "<div>\n",
       "<style scoped>\n",
       "    .dataframe tbody tr th:only-of-type {\n",
       "        vertical-align: middle;\n",
       "    }\n",
       "\n",
       "    .dataframe tbody tr th {\n",
       "        vertical-align: top;\n",
       "    }\n",
       "\n",
       "    .dataframe thead th {\n",
       "        text-align: right;\n",
       "    }\n",
       "</style>\n",
       "<table border=\"1\" class=\"dataframe\">\n",
       "  <thead>\n",
       "    <tr style=\"text-align: right;\">\n",
       "      <th></th>\n",
       "      <th>LON</th>\n",
       "      <th>LAT</th>\n",
       "      <th>ESTADO</th>\n",
       "      <th>CLAVE_SIH</th>\n",
       "      <th>NOMBRE</th>\n",
       "      <th>ENE</th>\n",
       "    </tr>\n",
       "  </thead>\n",
       "  <tbody>\n",
       "    <tr>\n",
       "      <th>1395</th>\n",
       "      <td>-101.838389</td>\n",
       "      <td>21.048639</td>\n",
       "      <td>GTO</td>\n",
       "      <td>ELBARRIAL</td>\n",
       "      <td>Purísima del Rincón</td>\n",
       "      <td>3.8</td>\n",
       "    </tr>\n",
       "    <tr>\n",
       "      <th>1425</th>\n",
       "      <td>-101.889028</td>\n",
       "      <td>20.877861</td>\n",
       "      <td>GTO</td>\n",
       "      <td>ELTIGRE</td>\n",
       "      <td>Purísima del Rincón</td>\n",
       "      <td>1.2</td>\n",
       "    </tr>\n",
       "  </tbody>\n",
       "</table>\n",
       "</div>"
      ],
      "text/plain": [
       "             LON        LAT ESTADO  CLAVE_SIH               NOMBRE  ENE\n",
       "1395 -101.838389  21.048639    GTO  ELBARRIAL  Purísima del Rincón  3.8\n",
       "1425 -101.889028  20.877861    GTO    ELTIGRE  Purísima del Rincón  1.2"
      ]
     },
     "execution_count": 343,
     "metadata": {},
     "output_type": "execute_result"
    }
   ],
   "source": [
    "# Tomamos sólo los datos de Purísima del Rincón\n",
    "lluvias_2018[(lluvias_2018['ESTADO'] == 'GTO' ) & (lluvias_2018['NOMBRE'] == 'Purísima del Rincón')]"
   ]
  },
  {
   "cell_type": "code",
   "execution_count": 362,
   "metadata": {},
   "outputs": [
    {
     "data": {
      "text/html": [
       "<div>\n",
       "<style scoped>\n",
       "    .dataframe tbody tr th:only-of-type {\n",
       "        vertical-align: middle;\n",
       "    }\n",
       "\n",
       "    .dataframe tbody tr th {\n",
       "        vertical-align: top;\n",
       "    }\n",
       "\n",
       "    .dataframe thead th {\n",
       "        text-align: right;\n",
       "    }\n",
       "</style>\n",
       "<table border=\"1\" class=\"dataframe\">\n",
       "  <thead>\n",
       "    <tr style=\"text-align: right;\">\n",
       "      <th></th>\n",
       "      <th>Lon</th>\n",
       "      <th>Lat</th>\n",
       "      <th>Clave</th>\n",
       "      <th>Edo</th>\n",
       "      <th>Est</th>\n",
       "      <th>Tmed</th>\n",
       "    </tr>\n",
       "  </thead>\n",
       "  <tbody>\n",
       "    <tr>\n",
       "      <th>0</th>\n",
       "      <td>-101.51</td>\n",
       "      <td>20.43</td>\n",
       "      <td>ABSGJ</td>\n",
       "      <td>GTO</td>\n",
       "      <td>ABASOLO</td>\n",
       "      <td>16.2</td>\n",
       "    </tr>\n",
       "    <tr>\n",
       "      <th>115</th>\n",
       "      <td>-100.95</td>\n",
       "      <td>20.48</td>\n",
       "      <td>CRTGJ</td>\n",
       "      <td>GTO</td>\n",
       "      <td>CORTAZAR</td>\n",
       "      <td>15.1</td>\n",
       "    </tr>\n",
       "    <tr>\n",
       "      <th>125</th>\n",
       "      <td>-101.66</td>\n",
       "      <td>20.61</td>\n",
       "      <td>CRMGJ</td>\n",
       "      <td>GTO</td>\n",
       "      <td>CUERAMARO</td>\n",
       "      <td>15.6</td>\n",
       "    </tr>\n",
       "    <tr>\n",
       "      <th>201</th>\n",
       "      <td>-101.35</td>\n",
       "      <td>20.68</td>\n",
       "      <td>IRPGJ</td>\n",
       "      <td>GTO</td>\n",
       "      <td>IRAPUATO</td>\n",
       "      <td>15.4</td>\n",
       "    </tr>\n",
       "    <tr>\n",
       "      <th>229</th>\n",
       "      <td>-101.66</td>\n",
       "      <td>21.10</td>\n",
       "      <td>LENGJ</td>\n",
       "      <td>GTO</td>\n",
       "      <td>LEON</td>\n",
       "      <td>16.0</td>\n",
       "    </tr>\n",
       "    <tr>\n",
       "      <th>432</th>\n",
       "      <td>-100.75</td>\n",
       "      <td>20.28</td>\n",
       "      <td>TARGJ</td>\n",
       "      <td>GTO</td>\n",
       "      <td>TARIMORO</td>\n",
       "      <td>15.3</td>\n",
       "    </tr>\n",
       "    <tr>\n",
       "      <th>438</th>\n",
       "      <td>-101.30</td>\n",
       "      <td>20.60</td>\n",
       "      <td>TEMGJ</td>\n",
       "      <td>GTO</td>\n",
       "      <td>TEMASCATIO</td>\n",
       "      <td>16.5</td>\n",
       "    </tr>\n",
       "    <tr>\n",
       "      <th>543</th>\n",
       "      <td>-101.23</td>\n",
       "      <td>21.20</td>\n",
       "      <td>CSTGJ</td>\n",
       "      <td>GTO</td>\n",
       "      <td>LOS CASTILLOS</td>\n",
       "      <td>15.1</td>\n",
       "    </tr>\n",
       "    <tr>\n",
       "      <th>568</th>\n",
       "      <td>-101.20</td>\n",
       "      <td>20.56</td>\n",
       "      <td>SLMGJ</td>\n",
       "      <td>GTO</td>\n",
       "      <td>SALAMANCA</td>\n",
       "      <td>15.2</td>\n",
       "    </tr>\n",
       "    <tr>\n",
       "      <th>574</th>\n",
       "      <td>-101.20</td>\n",
       "      <td>20.90</td>\n",
       "      <td>ECHGJ</td>\n",
       "      <td>GTO</td>\n",
       "      <td>EL CHAPIN</td>\n",
       "      <td>15.2</td>\n",
       "    </tr>\n",
       "    <tr>\n",
       "      <th>592</th>\n",
       "      <td>-100.81</td>\n",
       "      <td>20.05</td>\n",
       "      <td>SLSGJ</td>\n",
       "      <td>GTO</td>\n",
       "      <td>PRESA SOLIS</td>\n",
       "      <td>15.2</td>\n",
       "    </tr>\n",
       "    <tr>\n",
       "      <th>659</th>\n",
       "      <td>-101.75</td>\n",
       "      <td>20.43</td>\n",
       "      <td>GLNGJ</td>\n",
       "      <td>GTO</td>\n",
       "      <td>PRESA LA GOLONDRINA</td>\n",
       "      <td>16.4</td>\n",
       "    </tr>\n",
       "    <tr>\n",
       "      <th>742</th>\n",
       "      <td>-100.68</td>\n",
       "      <td>20.53</td>\n",
       "      <td>AEGGJ</td>\n",
       "      <td>GTO</td>\n",
       "      <td>APASEO EL GRANDE</td>\n",
       "      <td>16.3</td>\n",
       "    </tr>\n",
       "    <tr>\n",
       "      <th>789</th>\n",
       "      <td>-101.36</td>\n",
       "      <td>20.28</td>\n",
       "      <td>LJIGJ</td>\n",
       "      <td>GTO</td>\n",
       "      <td>Las Jicamas Gto.</td>\n",
       "      <td>15.5</td>\n",
       "    </tr>\n",
       "    <tr>\n",
       "      <th>997</th>\n",
       "      <td>-101.25</td>\n",
       "      <td>21.02</td>\n",
       "      <td>GUANAJUATOOB</td>\n",
       "      <td>GTO</td>\n",
       "      <td>OBSERVATORIO GUANAJUATO</td>\n",
       "      <td>15.2</td>\n",
       "    </tr>\n",
       "  </tbody>\n",
       "</table>\n",
       "</div>"
      ],
      "text/plain": [
       "        Lon    Lat         Clave  Edo                      Est  Tmed\n",
       "0   -101.51  20.43         ABSGJ  GTO                  ABASOLO  16.2\n",
       "115 -100.95  20.48         CRTGJ  GTO                 CORTAZAR  15.1\n",
       "125 -101.66  20.61         CRMGJ  GTO                CUERAMARO  15.6\n",
       "201 -101.35  20.68         IRPGJ  GTO                 IRAPUATO  15.4\n",
       "229 -101.66  21.10         LENGJ  GTO                     LEON  16.0\n",
       "432 -100.75  20.28         TARGJ  GTO                 TARIMORO  15.3\n",
       "438 -101.30  20.60         TEMGJ  GTO               TEMASCATIO  16.5\n",
       "543 -101.23  21.20         CSTGJ  GTO            LOS CASTILLOS  15.1\n",
       "568 -101.20  20.56         SLMGJ  GTO                SALAMANCA  15.2\n",
       "574 -101.20  20.90         ECHGJ  GTO                EL CHAPIN  15.2\n",
       "592 -100.81  20.05         SLSGJ  GTO              PRESA SOLIS  15.2\n",
       "659 -101.75  20.43         GLNGJ  GTO      PRESA LA GOLONDRINA  16.4\n",
       "742 -100.68  20.53         AEGGJ  GTO         APASEO EL GRANDE  16.3\n",
       "789 -101.36  20.28         LJIGJ  GTO         Las Jicamas Gto.  15.5\n",
       "997 -101.25  21.02  GUANAJUATOOB  GTO  OBSERVATORIO GUANAJUATO  15.2"
      ]
     },
     "execution_count": 362,
     "metadata": {},
     "output_type": "execute_result"
    }
   ],
   "source": [
    "Media_2018[(Media_2018['Tmed']>15 ) & (Media_2018['Edo'] == 'GTO')]"
   ]
  },
  {
   "cell_type": "markdown",
   "metadata": {},
   "source": [
    "### loc, iloc, and ix"
   ]
  },
  {
   "cell_type": "code",
   "execution_count": 363,
   "metadata": {},
   "outputs": [
    {
     "data": {
      "text/plain": [
       "LON                       -102.31\n",
       "LAT                        21.895\n",
       "ESTADO                        AGS\n",
       "CLAVE_SIH                   AGSAG\n",
       "NOMBRE       Aguascalientes, Ags.\n",
       "ENE                          25.8\n",
       "Name: 0, dtype: object"
      ]
     },
     "execution_count": 363,
     "metadata": {},
     "output_type": "execute_result"
    }
   ],
   "source": [
    "lluvias_2018.loc[0] #Muestra los datos de cada renglon"
   ]
  },
  {
   "cell_type": "code",
   "execution_count": 368,
   "metadata": {},
   "outputs": [
    {
     "data": {
      "text/plain": [
       "Lon      -101.51\n",
       "Lat        20.43\n",
       "Clave      ABSGJ\n",
       "Edo          GTO\n",
       "Est      ABASOLO\n",
       "Tmed        16.2\n",
       "Name: 0, dtype: object"
      ]
     },
     "execution_count": 368,
     "metadata": {},
     "output_type": "execute_result"
    }
   ],
   "source": [
    "Media_2018.loc[0]"
   ]
  },
  {
   "cell_type": "code",
   "execution_count": 379,
   "metadata": {},
   "outputs": [
    {
     "data": {
      "text/plain": [
       "0    16.2\n",
       "1    15.0\n",
       "2    16.7\n",
       "3    12.3\n",
       "4    21.2\n",
       "5    15.0\n",
       "6    27.2\n",
       "7    25.4\n",
       "Name: Tmed, dtype: float64"
      ]
     },
     "execution_count": 379,
     "metadata": {},
     "output_type": "execute_result"
    }
   ],
   "source": [
    "Media_2018.Tmed[0:8] # Es igual que Media_2018['Tmed'] (se cortó para que no despliegue todo el contenido)"
   ]
  },
  {
   "cell_type": "markdown",
   "metadata": {},
   "source": [
    "#### DataFrame como arreglo de 2 dimeciones"
   ]
  },
  {
   "cell_type": "markdown",
   "metadata": {},
   "source": [
    "Podemos intercambiar renglones por columnas"
   ]
  },
  {
   "cell_type": "code",
   "execution_count": 419,
   "metadata": {},
   "outputs": [
    {
     "data": {
      "text/html": [
       "<div>\n",
       "<style scoped>\n",
       "    .dataframe tbody tr th:only-of-type {\n",
       "        vertical-align: middle;\n",
       "    }\n",
       "\n",
       "    .dataframe tbody tr th {\n",
       "        vertical-align: top;\n",
       "    }\n",
       "\n",
       "    .dataframe thead th {\n",
       "        text-align: right;\n",
       "    }\n",
       "</style>\n",
       "<table border=\"1\" class=\"dataframe\">\n",
       "  <thead>\n",
       "    <tr style=\"text-align: right;\">\n",
       "      <th></th>\n",
       "      <th>0</th>\n",
       "      <th>1</th>\n",
       "      <th>2</th>\n",
       "      <th>3</th>\n",
       "      <th>4</th>\n",
       "    </tr>\n",
       "  </thead>\n",
       "  <tbody>\n",
       "    <tr>\n",
       "      <th>LON</th>\n",
       "      <td>-102.31</td>\n",
       "      <td>-102.467</td>\n",
       "      <td>-102.712</td>\n",
       "      <td>-102.677</td>\n",
       "      <td>-102.197</td>\n",
       "    </tr>\n",
       "    <tr>\n",
       "      <th>LAT</th>\n",
       "      <td>21.895</td>\n",
       "      <td>22.1886</td>\n",
       "      <td>21.8492</td>\n",
       "      <td>21.9975</td>\n",
       "      <td>22.0072</td>\n",
       "    </tr>\n",
       "    <tr>\n",
       "      <th>ESTADO</th>\n",
       "      <td>AGS</td>\n",
       "      <td>AGS</td>\n",
       "      <td>AGS</td>\n",
       "      <td>AGS</td>\n",
       "      <td>AGS</td>\n",
       "    </tr>\n",
       "    <tr>\n",
       "      <th>CLAVE_SIH</th>\n",
       "      <td>AGSAG</td>\n",
       "      <td>ANVAG</td>\n",
       "      <td>CALVILLO</td>\n",
       "      <td>CDRAG</td>\n",
       "      <td>CHOAG</td>\n",
       "    </tr>\n",
       "    <tr>\n",
       "      <th>NOMBRE</th>\n",
       "      <td>Aguascalientes, Ags.</td>\n",
       "      <td>Cincuenta Aniversario, Ags.</td>\n",
       "      <td>Calvillo, Ags. SMN*</td>\n",
       "      <td>La Codorniz, Ags.</td>\n",
       "      <td>Cañada Honda, Ags.</td>\n",
       "    </tr>\n",
       "    <tr>\n",
       "      <th>ENE</th>\n",
       "      <td>25.8</td>\n",
       "      <td>58.6</td>\n",
       "      <td>56</td>\n",
       "      <td>50</td>\n",
       "      <td>17.2</td>\n",
       "    </tr>\n",
       "  </tbody>\n",
       "</table>\n",
       "</div>"
      ],
      "text/plain": [
       "                              0                            1  \\\n",
       "LON                     -102.31                     -102.467   \n",
       "LAT                      21.895                      22.1886   \n",
       "ESTADO                      AGS                          AGS   \n",
       "CLAVE_SIH                 AGSAG                        ANVAG   \n",
       "NOMBRE     Aguascalientes, Ags.  Cincuenta Aniversario, Ags.   \n",
       "ENE                        25.8                         58.6   \n",
       "\n",
       "                             2                  3                   4  \n",
       "LON                   -102.712           -102.677            -102.197  \n",
       "LAT                    21.8492            21.9975             22.0072  \n",
       "ESTADO                     AGS                AGS                 AGS  \n",
       "CLAVE_SIH             CALVILLO              CDRAG               CHOAG  \n",
       "NOMBRE     Calvillo, Ags. SMN*  La Codorniz, Ags.  Cañada Honda, Ags.  \n",
       "ENE                         56                 50                17.2  "
      ]
     },
     "execution_count": 419,
     "metadata": {},
     "output_type": "execute_result"
    }
   ],
   "source": [
    "lluvias_2018[:5].T "
   ]
  },
  {
   "cell_type": "code",
   "execution_count": 436,
   "metadata": {},
   "outputs": [
    {
     "data": {
      "text/html": [
       "<div>\n",
       "<style scoped>\n",
       "    .dataframe tbody tr th:only-of-type {\n",
       "        vertical-align: middle;\n",
       "    }\n",
       "\n",
       "    .dataframe tbody tr th {\n",
       "        vertical-align: top;\n",
       "    }\n",
       "\n",
       "    .dataframe thead th {\n",
       "        text-align: right;\n",
       "    }\n",
       "</style>\n",
       "<table border=\"1\" class=\"dataframe\">\n",
       "  <thead>\n",
       "    <tr style=\"text-align: right;\">\n",
       "      <th></th>\n",
       "      <th>0</th>\n",
       "      <th>1</th>\n",
       "      <th>2</th>\n",
       "      <th>3</th>\n",
       "      <th>4</th>\n",
       "      <th>5</th>\n",
       "      <th>6</th>\n",
       "      <th>7</th>\n",
       "      <th>8</th>\n",
       "      <th>9</th>\n",
       "      <th>10</th>\n",
       "      <th>11</th>\n",
       "      <th>12</th>\n",
       "      <th>13</th>\n",
       "      <th>14</th>\n",
       "      <th>15</th>\n",
       "      <th>16</th>\n",
       "      <th>17</th>\n",
       "      <th>18</th>\n",
       "      <th>19</th>\n",
       "    </tr>\n",
       "  </thead>\n",
       "  <tbody>\n",
       "    <tr>\n",
       "      <th>Edo</th>\n",
       "      <td>GTO</td>\n",
       "      <td>TAMPS</td>\n",
       "      <td>BC</td>\n",
       "      <td>PUE</td>\n",
       "      <td>CHIS</td>\n",
       "      <td>GTO</td>\n",
       "      <td>GRO</td>\n",
       "      <td>GRO</td>\n",
       "      <td>VER</td>\n",
       "      <td>ZAC</td>\n",
       "      <td>SON</td>\n",
       "      <td>HGO</td>\n",
       "      <td>VER</td>\n",
       "      <td>SIN</td>\n",
       "      <td>GRO</td>\n",
       "      <td>COAH</td>\n",
       "      <td>DGO</td>\n",
       "      <td>GTO</td>\n",
       "      <td>AGS</td>\n",
       "      <td>AGS</td>\n",
       "    </tr>\n",
       "    <tr>\n",
       "      <th>Tmed</th>\n",
       "      <td>16.2</td>\n",
       "      <td>15</td>\n",
       "      <td>16.7</td>\n",
       "      <td>12.3</td>\n",
       "      <td>21.2</td>\n",
       "      <td>15</td>\n",
       "      <td>27.2</td>\n",
       "      <td>25.4</td>\n",
       "      <td>12.8</td>\n",
       "      <td>12.8</td>\n",
       "      <td>14.8</td>\n",
       "      <td>13.3</td>\n",
       "      <td>20</td>\n",
       "      <td>20.1</td>\n",
       "      <td>21.3</td>\n",
       "      <td>10</td>\n",
       "      <td>10.5</td>\n",
       "      <td>13.5</td>\n",
       "      <td>13.2</td>\n",
       "      <td>14</td>\n",
       "    </tr>\n",
       "  </tbody>\n",
       "</table>\n",
       "</div>"
      ],
      "text/plain": [
       "        0      1     2     3     4    5     6     7     8     9     10    11  \\\n",
       "Edo    GTO  TAMPS    BC   PUE  CHIS  GTO   GRO   GRO   VER   ZAC   SON   HGO   \n",
       "Tmed  16.2     15  16.7  12.3  21.2   15  27.2  25.4  12.8  12.8  14.8  13.3   \n",
       "\n",
       "       12    13    14    15    16    17    18   19  \n",
       "Edo   VER   SIN   GRO  COAH   DGO   GTO   AGS  AGS  \n",
       "Tmed   20  20.1  21.3    10  10.5  13.5  13.2   14  "
      ]
     },
     "execution_count": 436,
     "metadata": {},
     "output_type": "execute_result"
    }
   ],
   "source": [
    "Media_2018.iloc[:20,3:6:2].T #Solo mostramos El estado y Temperatura media \n",
    "#Usamos iloc para poder arreglar los datos como un arreglo"
   ]
  },
  {
   "cell_type": "code",
   "execution_count": 467,
   "metadata": {},
   "outputs": [
    {
     "data": {
      "text/html": [
       "<div>\n",
       "<style scoped>\n",
       "    .dataframe tbody tr th:only-of-type {\n",
       "        vertical-align: middle;\n",
       "    }\n",
       "\n",
       "    .dataframe tbody tr th {\n",
       "        vertical-align: top;\n",
       "    }\n",
       "\n",
       "    .dataframe thead th {\n",
       "        text-align: right;\n",
       "    }\n",
       "</style>\n",
       "<table border=\"1\" class=\"dataframe\">\n",
       "  <thead>\n",
       "    <tr style=\"text-align: right;\">\n",
       "      <th></th>\n",
       "      <th>0</th>\n",
       "      <th>1</th>\n",
       "      <th>2</th>\n",
       "      <th>3</th>\n",
       "      <th>4</th>\n",
       "      <th>5</th>\n",
       "      <th>6</th>\n",
       "      <th>7</th>\n",
       "      <th>8</th>\n",
       "      <th>9</th>\n",
       "      <th>...</th>\n",
       "      <th>11</th>\n",
       "      <th>12</th>\n",
       "      <th>13</th>\n",
       "      <th>14</th>\n",
       "      <th>15</th>\n",
       "      <th>16</th>\n",
       "      <th>17</th>\n",
       "      <th>18</th>\n",
       "      <th>19</th>\n",
       "      <th>20</th>\n",
       "    </tr>\n",
       "  </thead>\n",
       "  <tbody>\n",
       "    <tr>\n",
       "      <th>Edo</th>\n",
       "      <td>GTO</td>\n",
       "      <td>TAMPS</td>\n",
       "      <td>BC</td>\n",
       "      <td>PUE</td>\n",
       "      <td>CHIS</td>\n",
       "      <td>GTO</td>\n",
       "      <td>GRO</td>\n",
       "      <td>GRO</td>\n",
       "      <td>VER</td>\n",
       "      <td>ZAC</td>\n",
       "      <td>...</td>\n",
       "      <td>HGO</td>\n",
       "      <td>VER</td>\n",
       "      <td>SIN</td>\n",
       "      <td>GRO</td>\n",
       "      <td>COAH</td>\n",
       "      <td>DGO</td>\n",
       "      <td>GTO</td>\n",
       "      <td>AGS</td>\n",
       "      <td>AGS</td>\n",
       "      <td>DGO</td>\n",
       "    </tr>\n",
       "    <tr>\n",
       "      <th>Tmed</th>\n",
       "      <td>16.2</td>\n",
       "      <td>15</td>\n",
       "      <td>16.7</td>\n",
       "      <td>12.3</td>\n",
       "      <td>21.2</td>\n",
       "      <td>15</td>\n",
       "      <td>27.2</td>\n",
       "      <td>25.4</td>\n",
       "      <td>12.8</td>\n",
       "      <td>12.8</td>\n",
       "      <td>...</td>\n",
       "      <td>13.3</td>\n",
       "      <td>20</td>\n",
       "      <td>20.1</td>\n",
       "      <td>21.3</td>\n",
       "      <td>10</td>\n",
       "      <td>10.5</td>\n",
       "      <td>13.5</td>\n",
       "      <td>13.2</td>\n",
       "      <td>14</td>\n",
       "      <td>12.5</td>\n",
       "    </tr>\n",
       "  </tbody>\n",
       "</table>\n",
       "<p>2 rows × 21 columns</p>\n",
       "</div>"
      ],
      "text/plain": [
       "        0      1     2     3     4    5     6     7     8     9   ...    11  \\\n",
       "Edo    GTO  TAMPS    BC   PUE  CHIS  GTO   GRO   GRO   VER   ZAC  ...   HGO   \n",
       "Tmed  16.2     15  16.7  12.3  21.2   15  27.2  25.4  12.8  12.8  ...  13.3   \n",
       "\n",
       "       12    13    14    15    16    17    18   19    20  \n",
       "Edo   VER   SIN   GRO  COAH   DGO   GTO   AGS  AGS   DGO  \n",
       "Tmed   20  20.1  21.3    10  10.5  13.5  13.2   14  12.5  \n",
       "\n",
       "[2 rows x 21 columns]"
      ]
     },
     "execution_count": 467,
     "metadata": {},
     "output_type": "execute_result"
    }
   ],
   "source": [
    "Media_2018.T.loc['Edo':'Tmed':2,:20]\n",
    "#Usamos loc para poder arreglar los datos como un arreglo Pero usando caracteres"
   ]
  },
  {
   "cell_type": "code",
   "execution_count": null,
   "metadata": {},
   "outputs": [],
   "source": []
  }
 ],
 "metadata": {
  "kernelspec": {
   "display_name": "Python 3",
   "language": "python",
   "name": "python3"
  },
  "language_info": {
   "codemirror_mode": {
    "name": "ipython",
    "version": 3
   },
   "file_extension": ".py",
   "mimetype": "text/x-python",
   "name": "python",
   "nbconvert_exporter": "python",
   "pygments_lexer": "ipython3",
   "version": "3.6.8"
  }
 },
 "nbformat": 4,
 "nbformat_minor": 2
}
