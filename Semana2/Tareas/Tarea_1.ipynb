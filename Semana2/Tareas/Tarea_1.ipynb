{
 "cells": [
  {
   "cell_type": "code",
   "execution_count": 1,
   "metadata": {},
   "outputs": [],
   "source": [
    "import numpy as np\n",
    "import math as mt\n",
    "import matplotlib.pyplot as plt\n",
    "import pandas as pd\n",
    "import requests\n",
    "import os"
   ]
  },
  {
   "cell_type": "markdown",
   "metadata": {},
   "source": [
    "### Create a single arrangement of years and one of sunspots with various ways"
   ]
  },
  {
   "cell_type": "markdown",
   "metadata": {},
   "source": [
    "#### 1) To make a cicle using 'usecols'"
   ]
  },
  {
   "cell_type": "code",
   "execution_count": 2,
   "metadata": {},
   "outputs": [],
   "source": [
    "def dow(x,y): # usamos una función para calcular el tiempo que se tarda haciedo el ciclo\n",
    "    for i in range(5):\n",
    "        x = np.concatenate((x,np.loadtxt('sunspots.txt',skiprows=4,usecols=(i*2),unpack=True)),axis = None)\n",
    "        y = np.concatenate((y,np.loadtxt('sunspots.txt',skiprows=4,usecols=((i*2)+1),unpack=True)),axis = None)\n",
    "    return x,y"
   ]
  },
  {
   "cell_type": "code",
   "execution_count": 3,
   "metadata": {},
   "outputs": [
    {
     "name": "stdout",
     "output_type": "stream",
     "text": [
      "CPU times: user 7.38 ms, sys: 0 ns, total: 7.38 ms\n",
      "Wall time: 45.6 ms\n"
     ]
    }
   ],
   "source": [
    "year_1 = np.array([])\n",
    "num_1 = np.array([])\n",
    "%time year_1, num_1 = dow(year_1,num_1)"
   ]
  },
  {
   "cell_type": "markdown",
   "metadata": {},
   "source": [
    "It is the slowest method that i used."
   ]
  },
  {
   "cell_type": "markdown",
   "metadata": {},
   "source": [
    "#### 2) To make a cicle but firts save the data in a single array"
   ]
  },
  {
   "cell_type": "code",
   "execution_count": 4,
   "metadata": {},
   "outputs": [
    {
     "name": "stdout",
     "output_type": "stream",
     "text": [
      "(10, 60)\n"
     ]
    }
   ],
   "source": [
    "sunspots = np.loadtxt('sunspots.txt',skiprows=4, unpack=True)\n",
    "print(sunspots.shape)"
   ]
  },
  {
   "cell_type": "code",
   "execution_count": 5,
   "metadata": {},
   "outputs": [],
   "source": [
    "def dow_1(s): # usamos una función para calcular el tiempo que se tarda haciedo el ciclo\n",
    "    x = np.array([])\n",
    "    y = np.array([])\n",
    "    for i in range(5):\n",
    "        x = np.concatenate((x,s[i*2,::2]),axis = None)\n",
    "        y = np.concatenate((y,s[(i*2)+1,::2]),axis = None)\n",
    "    return x,y"
   ]
  },
  {
   "cell_type": "code",
   "execution_count": 6,
   "metadata": {},
   "outputs": [
    {
     "name": "stdout",
     "output_type": "stream",
     "text": [
      "CPU times: user 973 µs, sys: 217 µs, total: 1.19 ms\n",
      "Wall time: 599 µs\n"
     ]
    }
   ],
   "source": [
    "%time year_2,num_2 = dow_1(sunspots)"
   ]
  },
  {
   "cell_type": "markdown",
   "metadata": {},
   "source": [
    "Is best save first  the data, its help to reduce time"
   ]
  },
  {
   "cell_type": "markdown",
   "metadata": {},
   "source": [
    "#### 3) Using feature of the arrays and np.reshape:"
   ]
  },
  {
   "cell_type": "code",
   "execution_count": 7,
   "metadata": {},
   "outputs": [
    {
     "name": "stdout",
     "output_type": "stream",
     "text": [
      "CPU times: user 0 ns, sys: 1.92 ms, total: 1.92 ms\n",
      "Wall time: 1.61 ms\n",
      "(10, 60)\n"
     ]
    }
   ],
   "source": [
    "%time sunspots = np.loadtxt('sunspots.txt',skiprows=4, unpack=True)\n",
    "print(sunspots.shape)"
   ]
  },
  {
   "cell_type": "code",
   "execution_count": 8,
   "metadata": {},
   "outputs": [
    {
     "name": "stdout",
     "output_type": "stream",
     "text": [
      "CPU times: user 53 µs, sys: 12 µs, total: 65 µs\n",
      "Wall time: 56.5 µs\n"
     ]
    }
   ],
   "source": [
    "%time year_3 , num_3 = np.reshape(sunspots[::2],(1,300)),np.reshape(sunspots[1::2],(1,300))"
   ]
  },
  {
   "cell_type": "markdown",
   "metadata": {},
   "source": [
    "Time is $\\mu s$, it's the best way I could do"
   ]
  },
  {
   "cell_type": "markdown",
   "metadata": {},
   "source": [
    "### 2.- Leer y realizar los ejemplos del capitulo 2 de https://jakevdp.github.io/PythonDataScienceHandbook/index.html Usando como base de datos alguno de los archivos descargados en el punto 1."
   ]
  },
  {
   "cell_type": "markdown",
   "metadata": {},
   "source": [
    "Ya descargados los archivos .txt los cargamos:"
   ]
  },
  {
   "cell_type": "code",
   "execution_count": 9,
   "metadata": {},
   "outputs": [],
   "source": [
    "path_ll_18 = '/home/echeveste/Mis_trabajos/analisis_datos/da2019-Oscar2401/Semana2/Tareas/dato_temperaturas_lluvia/201801010000Lluv.csv'\n",
    "path_Mx_18 = '/home/echeveste/Mis_trabajos/analisis_datos/da2019-Oscar2401/Semana2/Tareas/dato_temperaturas_lluvia/201801010000TMax.csv'\n",
    "path_Mm_18 = '/home/echeveste/Mis_trabajos/analisis_datos/da2019-Oscar2401/Semana2/Tareas/dato_temperaturas_lluvia/201801010000TMin.csv'\n",
    "path_Md_18 = '/home/echeveste/Mis_trabajos/analisis_datos/da2019-Oscar2401/Semana2/Tareas/dato_temperaturas_lluvia/201801010000TMed.csv'\n",
    "path_ll_19 = '/home/echeveste/Mis_trabajos/analisis_datos/da2019-Oscar2401/Semana2/Tareas/dato_temperaturas_lluvia/201905010000Lluv.csv'\n",
    "path_Mx_19 = '/home/echeveste/Mis_trabajos/analisis_datos/da2019-Oscar2401/Semana2/Tareas/dato_temperaturas_lluvia/201901010000TMax.csv'\n",
    "path_Mm_19 = '/home/echeveste/Mis_trabajos/analisis_datos/da2019-Oscar2401/Semana2/Tareas/dato_temperaturas_lluvia/201901010000TMin.csv'\n",
    "path_Md_19 = '/home/echeveste/Mis_trabajos/analisis_datos/da2019-Oscar2401/Semana2/Tareas/dato_temperaturas_lluvia/201901010000TMed.csv'\n",
    "\n",
    "\n",
    "lluvias_2018 = pd.read_csv(path_ll_18,encoding='latin-1')\n",
    "Maxima_2018 = pd.read_csv(path_Mx_18,encoding='latin-1')\n",
    "Minima_2018 = pd.read_csv(path_Mm_18,encoding='latin-1')\n",
    "Media_2018 = pd.read_csv(path_Md_18,encoding='latin-1')\n",
    "lluvias_2019 = pd.read_csv(path_ll_19,encoding='latin-1')\n",
    "Maxima_2019 = pd.read_csv(path_Mx_19,encoding='latin-1')\n",
    "Minima_2019 = pd.read_csv(path_Mm_19,encoding='latin-1')\n",
    "Media_2019 = pd.read_csv(path_Md_19,encoding='latin-1')"
   ]
  },
  {
   "cell_type": "markdown",
   "metadata": {},
   "source": [
    "## 1. Objetos Series de Panda"
   ]
  },
  {
   "cell_type": "markdown",
   "metadata": {},
   "source": [
    "Mostramos los valores de uno de los archivos como una forma familiar de numpy"
   ]
  },
  {
   "cell_type": "code",
   "execution_count": 10,
   "metadata": {},
   "outputs": [
    {
     "name": "stdout",
     "output_type": "stream",
     "text": [
      "[[-102.309722 21.895 'AGS' 'AGSAG' 'Aguascalientes, Ags.' 25.8]\n",
      " [-102.466944 22.188610999999998 'AGS' 'ANVAG'\n",
      "  'Cincuenta Aniversario, Ags.' 58.6]\n",
      " [-102.712222 21.849167 'AGS' 'CALVILLO' 'Calvillo, Ags. SMN*' 56.0]\n",
      " ...\n",
      " [-101.2275 18.060556 'GRO' 'ZIHUAQUIOCFE' 'Coyuca de Catalán' 0.4]\n",
      " [-101.55488890000001 17.64505556 'GRO' 'ZIHUATANEJO'\n",
      "  'Zihuatanejo de Azueta' 2.2]\n",
      " [-99.39080556 20.74022222 'HGO' 'ZIMAPANSMN' 'Zimapán' 9.8]]\n",
      "--------------------------\n",
      "Cincuenta Aniversario, Ags.\n"
     ]
    }
   ],
   "source": [
    "print(lluvias_2018.values)\n",
    "print('--------------------------')\n",
    "print(lluvias_2018.values[1,4])"
   ]
  },
  {
   "cell_type": "code",
   "execution_count": 11,
   "metadata": {},
   "outputs": [
    {
     "name": "stdout",
     "output_type": "stream",
     "text": [
      "RangeIndex(start=0, stop=1099, step=1)\n"
     ]
    }
   ],
   "source": [
    "print(Maxima_2018.index)"
   ]
  },
  {
   "cell_type": "code",
   "execution_count": 12,
   "metadata": {},
   "outputs": [
    {
     "data": {
      "text/html": [
       "<div>\n",
       "<style scoped>\n",
       "    .dataframe tbody tr th:only-of-type {\n",
       "        vertical-align: middle;\n",
       "    }\n",
       "\n",
       "    .dataframe tbody tr th {\n",
       "        vertical-align: top;\n",
       "    }\n",
       "\n",
       "    .dataframe thead th {\n",
       "        text-align: right;\n",
       "    }\n",
       "</style>\n",
       "<table border=\"1\" class=\"dataframe\">\n",
       "  <thead>\n",
       "    <tr style=\"text-align: right;\">\n",
       "      <th></th>\n",
       "      <th>LON</th>\n",
       "      <th>LAT</th>\n",
       "      <th>ESTADO</th>\n",
       "      <th>CLAVE_SIH</th>\n",
       "      <th>NOMBRE</th>\n",
       "      <th>ENE</th>\n",
       "    </tr>\n",
       "  </thead>\n",
       "  <tbody>\n",
       "    <tr>\n",
       "      <th>4</th>\n",
       "      <td>-102.197222</td>\n",
       "      <td>22.007222</td>\n",
       "      <td>AGS</td>\n",
       "      <td>CHOAG</td>\n",
       "      <td>Cañada Honda, Ags.</td>\n",
       "      <td>17.2</td>\n",
       "    </tr>\n",
       "    <tr>\n",
       "      <th>6</th>\n",
       "      <td>-102.000000</td>\n",
       "      <td>21.896389</td>\n",
       "      <td>AGS</td>\n",
       "      <td>CNSAG</td>\n",
       "      <td>Los Conos, Ags.</td>\n",
       "      <td>51.5</td>\n",
       "    </tr>\n",
       "    <tr>\n",
       "      <th>8</th>\n",
       "      <td>-102.788333</td>\n",
       "      <td>21.807500</td>\n",
       "      <td>AGS</td>\n",
       "      <td>MNLAG</td>\n",
       "      <td>Media Luna, Ags.</td>\n",
       "      <td>48.9</td>\n",
       "    </tr>\n",
       "    <tr>\n",
       "      <th>10</th>\n",
       "      <td>-102.290556</td>\n",
       "      <td>21.850833</td>\n",
       "      <td>AGS</td>\n",
       "      <td>OBSAG</td>\n",
       "      <td>Observatorio, Ags.</td>\n",
       "      <td>20.9</td>\n",
       "    </tr>\n",
       "    <tr>\n",
       "      <th>12</th>\n",
       "      <td>-101.966667</td>\n",
       "      <td>21.916667</td>\n",
       "      <td>AGS</td>\n",
       "      <td>PALAG</td>\n",
       "      <td>Palo Alto, Ags.</td>\n",
       "      <td>19.0</td>\n",
       "    </tr>\n",
       "    <tr>\n",
       "      <th>14</th>\n",
       "      <td>-102.417222</td>\n",
       "      <td>22.141111</td>\n",
       "      <td>AGS</td>\n",
       "      <td>PECAG</td>\n",
       "      <td>Calles, Ags.</td>\n",
       "      <td>50.0</td>\n",
       "    </tr>\n",
       "    <tr>\n",
       "      <th>16</th>\n",
       "      <td>-102.437500</td>\n",
       "      <td>22.235000</td>\n",
       "      <td>AGS</td>\n",
       "      <td>PTRAG</td>\n",
       "      <td>Potrerillos, Ags.</td>\n",
       "      <td>52.8</td>\n",
       "    </tr>\n",
       "    <tr>\n",
       "      <th>18</th>\n",
       "      <td>-102.127778</td>\n",
       "      <td>21.807778</td>\n",
       "      <td>AGS</td>\n",
       "      <td>TNJAG</td>\n",
       "      <td>La Tinaja II, Ags.</td>\n",
       "      <td>10.0</td>\n",
       "    </tr>\n",
       "  </tbody>\n",
       "</table>\n",
       "</div>"
      ],
      "text/plain": [
       "           LON        LAT ESTADO CLAVE_SIH              NOMBRE   ENE\n",
       "4  -102.197222  22.007222    AGS     CHOAG  Cañada Honda, Ags.  17.2\n",
       "6  -102.000000  21.896389    AGS     CNSAG     Los Conos, Ags.  51.5\n",
       "8  -102.788333  21.807500    AGS     MNLAG    Media Luna, Ags.  48.9\n",
       "10 -102.290556  21.850833    AGS     OBSAG  Observatorio, Ags.  20.9\n",
       "12 -101.966667  21.916667    AGS     PALAG     Palo Alto, Ags.  19.0\n",
       "14 -102.417222  22.141111    AGS     PECAG        Calles, Ags.  50.0\n",
       "16 -102.437500  22.235000    AGS     PTRAG   Potrerillos, Ags.  52.8\n",
       "18 -102.127778  21.807778    AGS     TNJAG  La Tinaja II, Ags.  10.0"
      ]
     },
     "execution_count": 12,
     "metadata": {},
     "output_type": "execute_result"
    }
   ],
   "source": [
    "lluvias_2018[4:20:2] # Como en un arreglo, muestra del renglon 1 al 20 con saltos de 2"
   ]
  },
  {
   "cell_type": "code",
   "execution_count": 13,
   "metadata": {},
   "outputs": [
    {
     "data": {
      "text/html": [
       "<div>\n",
       "<style scoped>\n",
       "    .dataframe tbody tr th:only-of-type {\n",
       "        vertical-align: middle;\n",
       "    }\n",
       "\n",
       "    .dataframe tbody tr th {\n",
       "        vertical-align: top;\n",
       "    }\n",
       "\n",
       "    .dataframe thead th {\n",
       "        text-align: right;\n",
       "    }\n",
       "</style>\n",
       "<table border=\"1\" class=\"dataframe\">\n",
       "  <thead>\n",
       "    <tr style=\"text-align: right;\">\n",
       "      <th></th>\n",
       "      <th>Lon</th>\n",
       "      <th>Lat</th>\n",
       "      <th>Clave</th>\n",
       "      <th>Edo</th>\n",
       "      <th>Est</th>\n",
       "      <th>Tmed</th>\n",
       "    </tr>\n",
       "  </thead>\n",
       "  <tbody>\n",
       "    <tr>\n",
       "      <th>4</th>\n",
       "      <td>-92.80</td>\n",
       "      <td>16.55</td>\n",
       "      <td>ACACP</td>\n",
       "      <td>CHIS</td>\n",
       "      <td>ACALA</td>\n",
       "      <td>21.2</td>\n",
       "    </tr>\n",
       "    <tr>\n",
       "      <th>8</th>\n",
       "      <td>-96.84</td>\n",
       "      <td>19.70</td>\n",
       "      <td>ACAVC</td>\n",
       "      <td>VER</td>\n",
       "      <td>ACATLAN</td>\n",
       "      <td>12.8</td>\n",
       "    </tr>\n",
       "    <tr>\n",
       "      <th>12</th>\n",
       "      <td>-96.58</td>\n",
       "      <td>19.49</td>\n",
       "      <td>ACTVC</td>\n",
       "      <td>VER</td>\n",
       "      <td>ACTOPAN</td>\n",
       "      <td>20.0</td>\n",
       "    </tr>\n",
       "    <tr>\n",
       "      <th>16</th>\n",
       "      <td>-104.48</td>\n",
       "      <td>26.23</td>\n",
       "      <td>APRDR</td>\n",
       "      <td>DGO</td>\n",
       "      <td>AGUA PUERCA</td>\n",
       "      <td>10.5</td>\n",
       "    </tr>\n",
       "  </tbody>\n",
       "</table>\n",
       "</div>"
      ],
      "text/plain": [
       "       Lon    Lat  Clave   Edo          Est  Tmed\n",
       "4   -92.80  16.55  ACACP  CHIS        ACALA  21.2\n",
       "8   -96.84  19.70  ACAVC   VER      ACATLAN  12.8\n",
       "12  -96.58  19.49  ACTVC   VER      ACTOPAN  20.0\n",
       "16 -104.48  26.23  APRDR   DGO  AGUA PUERCA  10.5"
      ]
     },
     "execution_count": 13,
     "metadata": {},
     "output_type": "execute_result"
    }
   ],
   "source": [
    "Media_2018[4:20:4] "
   ]
  },
  {
   "cell_type": "markdown",
   "metadata": {},
   "source": [
    "Hago un arreglo propio:"
   ]
  },
  {
   "cell_type": "code",
   "execution_count": 14,
   "metadata": {},
   "outputs": [
    {
     "name": "stdout",
     "output_type": "stream",
     "text": [
      "Nombre    [Oscar, Cristian, Liliana]\n",
      "Edad                    [22, 27, 24]\n",
      "Sexo         [Hombre, Hombre, Mujer]\n",
      "Titulo          [False, True, False]\n",
      "dtype: object\n"
     ]
    }
   ],
   "source": [
    "My_exaple = pd.Series([['Oscar','Cristian','Liliana'], [22,27,24], ['Hombre','Hombre','Mujer'],[False,True,False]],\n",
    "                      index=['Nombre', 'Edad', 'Sexo', 'Titulo'])\n",
    "print(My_exaple)"
   ]
  },
  {
   "cell_type": "code",
   "execution_count": 15,
   "metadata": {},
   "outputs": [
    {
     "name": "stdout",
     "output_type": "stream",
     "text": [
      "[22, 27, 24]\n"
     ]
    }
   ],
   "source": [
    "print(My_exaple['Edad']) #Vemos solo la linea de edades"
   ]
  },
  {
   "cell_type": "code",
   "execution_count": 16,
   "metadata": {},
   "outputs": [
    {
     "name": "stdout",
     "output_type": "stream",
     "text": [
      "{'Cristian': 27, 'Liliana': 24, 'Oscar': 22, 'Pascual': 57, 'Graciela': 52}\n"
     ]
    }
   ],
   "source": [
    "Edades = {'Cristian':27,'Liliana':24,'Oscar':22,'Pascual':57,'Graciela':52} \n",
    "print(Edades)"
   ]
  },
  {
   "cell_type": "code",
   "execution_count": 17,
   "metadata": {},
   "outputs": [
    {
     "name": "stdout",
     "output_type": "stream",
     "text": [
      "Cristian    27\n",
      "Liliana     24\n",
      "Oscar       22\n",
      "Pascual     57\n",
      "Graciela    52\n",
      "dtype: int64\n",
      "------------------\n",
      "Oscar:  22\n",
      "------------------\n",
      "Liliana    24\n",
      "Oscar      22\n",
      "Pascual    57\n",
      "dtype: int64\n"
     ]
    }
   ],
   "source": [
    "Edades_pd = pd.Series(Edades) #Transformamos un diccionario a una série\n",
    "print(Edades_pd)\n",
    "print('------------------')\n",
    "print('Oscar: ',Edades_pd['Oscar']) #Vemos la edad de Oscar\n",
    "print('------------------')\n",
    "print(Edades_pd['Liliana':'Pascual']) #vemos las edades de Liliana a Pascual"
   ]
  },
  {
   "cell_type": "code",
   "execution_count": 18,
   "metadata": {},
   "outputs": [
    {
     "data": {
      "text/plain": [
       "Liliana     24\n",
       "Graciela    52\n",
       "dtype: int64"
      ]
     },
     "execution_count": 18,
     "metadata": {},
     "output_type": "execute_result"
    }
   ],
   "source": [
    "pd.Series(Edades,index=['Liliana','Graciela']) #Vemos las edades solo de Liliana y Graciela"
   ]
  },
  {
   "cell_type": "markdown",
   "metadata": {},
   "source": [
    "### Objetos DataFrame de Panda"
   ]
  },
  {
   "cell_type": "markdown",
   "metadata": {},
   "source": [
    "Creamos un nuevos diccionarios que se aderirá al de edades para hacer uno solo"
   ]
  },
  {
   "cell_type": "code",
   "execution_count": 90,
   "metadata": {},
   "outputs": [],
   "source": [
    "Sexo = {'Cristian':'H','Liliana':'M','Oscar':'H','Pascual':'H','Graciela':'M'} \n",
    "Sexo_pd = pd.Series(Sexo)\n",
    "Trabajo = {'Cristian':True,'Liliana':False,'Oscar':False,'Pascual':True,'Graciela':False} \n",
    "Trabajo_pd = pd.Series(Trabajo)\n",
    "Estudio = {'Cristian':'Licenciatura','Liliana':'Licenciatura','Oscar':'Bachillerato','Pascual':'Secundaria','Graciela':'Primaria'} \n",
    "Estudio_pd = pd.Series(Estudio)"
   ]
  },
  {
   "cell_type": "code",
   "execution_count": 91,
   "metadata": {},
   "outputs": [
    {
     "name": "stdout",
     "output_type": "stream",
     "text": [
      "          EDAD SEXO  TRABAJO       ESTUDIO\n",
      "Cristian    27    H     True  Licenciatura\n",
      "Liliana     24    M    False  Licenciatura\n",
      "Oscar       22    H    False  Bachillerato\n",
      "Pascual     57    H     True    Secundaria\n",
      "Graciela    52    M    False      Primaria\n"
     ]
    }
   ],
   "source": [
    "family = pd.DataFrame({'EDAD':Edades_pd,'SEXO':Sexo_pd,'TRABAJO':Trabajo_pd,'ESTUDIO':Estudio_pd}) #Unimos las dos series de edad y sexo\n",
    "print(family)"
   ]
  },
  {
   "cell_type": "code",
   "execution_count": 21,
   "metadata": {},
   "outputs": [
    {
     "name": "stdout",
     "output_type": "stream",
     "text": [
      "Index(['Cristian', 'Liliana', 'Oscar', 'Pascual', 'Graciela'], dtype='object')\n",
      "Index(['EDAD', 'SEXO', 'TRABAJO', 'ESTUDIO'], dtype='object')\n"
     ]
    }
   ],
   "source": [
    "print(family.index)\n",
    "print(family.columns)"
   ]
  },
  {
   "cell_type": "code",
   "execution_count": 22,
   "metadata": {},
   "outputs": [
    {
     "data": {
      "text/plain": [
       "Cristian    Licenciatura\n",
       "Liliana     Licenciatura\n",
       "Oscar       Bachillerato\n",
       "Pascual       Secundaria\n",
       "Graciela        Primaria\n",
       "Name: ESTUDIO, dtype: object"
      ]
     },
     "execution_count": 22,
     "metadata": {},
     "output_type": "execute_result"
    }
   ],
   "source": [
    "family['ESTUDIO']"
   ]
  },
  {
   "cell_type": "code",
   "execution_count": 23,
   "metadata": {},
   "outputs": [
    {
     "data": {
      "text/html": [
       "<div>\n",
       "<style scoped>\n",
       "    .dataframe tbody tr th:only-of-type {\n",
       "        vertical-align: middle;\n",
       "    }\n",
       "\n",
       "    .dataframe tbody tr th {\n",
       "        vertical-align: top;\n",
       "    }\n",
       "\n",
       "    .dataframe thead th {\n",
       "        text-align: right;\n",
       "    }\n",
       "</style>\n",
       "<table border=\"1\" class=\"dataframe\">\n",
       "  <thead>\n",
       "    <tr style=\"text-align: right;\">\n",
       "      <th></th>\n",
       "      <th>$\\ x$</th>\n",
       "      <th>$\\cos(x)$</th>\n",
       "      <th>$\\sin(x)$</th>\n",
       "      <th>$e^{x}$</th>\n",
       "    </tr>\n",
       "  </thead>\n",
       "  <tbody>\n",
       "    <tr>\n",
       "      <th>0</th>\n",
       "      <td>0</td>\n",
       "      <td>1.000000</td>\n",
       "      <td>0.000000</td>\n",
       "      <td>1.000000</td>\n",
       "    </tr>\n",
       "    <tr>\n",
       "      <th>1</th>\n",
       "      <td>1</td>\n",
       "      <td>0.540302</td>\n",
       "      <td>0.841471</td>\n",
       "      <td>2.718282</td>\n",
       "    </tr>\n",
       "    <tr>\n",
       "      <th>2</th>\n",
       "      <td>2</td>\n",
       "      <td>-0.416147</td>\n",
       "      <td>0.909297</td>\n",
       "      <td>7.389056</td>\n",
       "    </tr>\n",
       "    <tr>\n",
       "      <th>3</th>\n",
       "      <td>3</td>\n",
       "      <td>-0.989992</td>\n",
       "      <td>0.141120</td>\n",
       "      <td>20.085537</td>\n",
       "    </tr>\n",
       "    <tr>\n",
       "      <th>4</th>\n",
       "      <td>4</td>\n",
       "      <td>-0.653644</td>\n",
       "      <td>-0.756802</td>\n",
       "      <td>54.598150</td>\n",
       "    </tr>\n",
       "    <tr>\n",
       "      <th>5</th>\n",
       "      <td>5</td>\n",
       "      <td>0.283662</td>\n",
       "      <td>-0.958924</td>\n",
       "      <td>148.413159</td>\n",
       "    </tr>\n",
       "    <tr>\n",
       "      <th>6</th>\n",
       "      <td>6</td>\n",
       "      <td>0.960170</td>\n",
       "      <td>-0.279415</td>\n",
       "      <td>403.428793</td>\n",
       "    </tr>\n",
       "    <tr>\n",
       "      <th>7</th>\n",
       "      <td>7</td>\n",
       "      <td>0.753902</td>\n",
       "      <td>0.656987</td>\n",
       "      <td>1096.633158</td>\n",
       "    </tr>\n",
       "  </tbody>\n",
       "</table>\n",
       "</div>"
      ],
      "text/plain": [
       "   $\\ x$  $\\cos(x)$  $\\sin(x)$      $e^{x}$\n",
       "0      0   1.000000   0.000000     1.000000\n",
       "1      1   0.540302   0.841471     2.718282\n",
       "2      2  -0.416147   0.909297     7.389056\n",
       "3      3  -0.989992   0.141120    20.085537\n",
       "4      4  -0.653644  -0.756802    54.598150\n",
       "5      5   0.283662  -0.958924   148.413159\n",
       "6      6   0.960170  -0.279415   403.428793\n",
       "7      7   0.753902   0.656987  1096.633158"
      ]
     },
     "execution_count": 23,
     "metadata": {},
     "output_type": "execute_result"
    }
   ],
   "source": [
    "func = [{'$\\ x$': i,'$\\sin(x)$':np.sin(i),'$\\cos(x)$':np.cos(i),'$e^{x}$':np.exp(i) } for i in range(8)]\n",
    "pd.DataFrame(func)"
   ]
  },
  {
   "cell_type": "code",
   "execution_count": 24,
   "metadata": {},
   "outputs": [],
   "source": [
    "a = pd.Index([2,9,5,9,5,8,6,5,6,8,4,5,2,4,4,5,52,5,2,4,4,5,9,6,5,2,5,4,5,63,1,89])\n",
    "b = pd.Index([2,9,7,3,5,1,7,8,6,8,4,6,5,8,55,6,3,7,44,6,9,32,7,5,5,5,8,6,9,7,6,9,8,5,120])"
   ]
  },
  {
   "cell_type": "code",
   "execution_count": 25,
   "metadata": {},
   "outputs": [
    {
     "name": "stdout",
     "output_type": "stream",
     "text": [
      "Int64Index([2, 9, 9, 9, 9, 5, 5, 5, 5, 5, 5, 8, 8, 8, 8, 8, 6, 6, 6, 6, 6, 6,\n",
      "            4, 1],\n",
      "           dtype='int64')\n",
      "Int64Index([3, 7, 32, 44, 52, 55, 63, 89, 120], dtype='int64')\n"
     ]
    }
   ],
   "source": [
    "print(a&b) #intersección\n",
    "print(a^b) #diferencias"
   ]
  },
  {
   "cell_type": "markdown",
   "metadata": {},
   "source": [
    "## 2. Indización y selección de datos"
   ]
  },
  {
   "cell_type": "code",
   "execution_count": 26,
   "metadata": {},
   "outputs": [
    {
     "name": "stdout",
     "output_type": "stream",
     "text": [
      "Index(['LON', 'LAT', 'ESTADO', 'CLAVE_SIH', 'NOMBRE', 'ENE'], dtype='object')\n",
      "Index(['Lon', 'Lat', 'Clave', 'Edo', 'Est', 'Tmed'], dtype='object')\n",
      "Index(['Lon', 'Lat', 'Clave', 'Edo', 'Est', 'Tmax'], dtype='object')\n",
      "Index(['Lon', 'Lat', 'Clave', 'Edo', 'Est', 'Tmin'], dtype='object')\n"
     ]
    }
   ],
   "source": [
    "print(lluvias_2018.keys())\n",
    "print(Media_2018.keys())\n",
    "print(Maxima_2018.keys())\n",
    "print(Minima_2018.keys())"
   ]
  },
  {
   "cell_type": "code",
   "execution_count": 27,
   "metadata": {},
   "outputs": [
    {
     "name": "stdout",
     "output_type": "stream",
     "text": [
      "True\n",
      "True\n",
      "False\n"
     ]
    }
   ],
   "source": [
    "print('ESTADO' in lluvias_2018) #Si exixte el elemento Estado \n",
    "print('NOMBRE' in lluvias_2018)\n",
    "print('MES' in lluvias_2018)"
   ]
  },
  {
   "cell_type": "code",
   "execution_count": 28,
   "metadata": {},
   "outputs": [],
   "source": [
    "#list(lluvias_2018.items())"
   ]
  },
  {
   "cell_type": "code",
   "execution_count": 29,
   "metadata": {},
   "outputs": [
    {
     "data": {
      "text/plain": [
       "Index(['EDAD', 'SEXO', 'TRABAJO', 'ESTUDIO'], dtype='object')"
      ]
     },
     "execution_count": 29,
     "metadata": {},
     "output_type": "execute_result"
    }
   ],
   "source": [
    "family.keys()"
   ]
  },
  {
   "cell_type": "code",
   "execution_count": 30,
   "metadata": {},
   "outputs": [
    {
     "data": {
      "text/html": [
       "<div>\n",
       "<style scoped>\n",
       "    .dataframe tbody tr th:only-of-type {\n",
       "        vertical-align: middle;\n",
       "    }\n",
       "\n",
       "    .dataframe tbody tr th {\n",
       "        vertical-align: top;\n",
       "    }\n",
       "\n",
       "    .dataframe thead th {\n",
       "        text-align: right;\n",
       "    }\n",
       "</style>\n",
       "<table border=\"1\" class=\"dataframe\">\n",
       "  <thead>\n",
       "    <tr style=\"text-align: right;\">\n",
       "      <th></th>\n",
       "      <th>EDAD</th>\n",
       "      <th>SEXO</th>\n",
       "      <th>TRABAJO</th>\n",
       "      <th>ESTUDIO</th>\n",
       "    </tr>\n",
       "  </thead>\n",
       "  <tbody>\n",
       "    <tr>\n",
       "      <th>Cristian</th>\n",
       "      <td>10</td>\n",
       "      <td>H</td>\n",
       "      <td>False</td>\n",
       "      <td>Licenciatura</td>\n",
       "    </tr>\n",
       "    <tr>\n",
       "      <th>Liliana</th>\n",
       "      <td>10</td>\n",
       "      <td>M</td>\n",
       "      <td>False</td>\n",
       "      <td>Licenciatura</td>\n",
       "    </tr>\n",
       "    <tr>\n",
       "      <th>Oscar</th>\n",
       "      <td>10</td>\n",
       "      <td>H</td>\n",
       "      <td>False</td>\n",
       "      <td>Bachillerato</td>\n",
       "    </tr>\n",
       "    <tr>\n",
       "      <th>Pascual</th>\n",
       "      <td>10</td>\n",
       "      <td>H</td>\n",
       "      <td>False</td>\n",
       "      <td>Secundaria</td>\n",
       "    </tr>\n",
       "    <tr>\n",
       "      <th>Graciela</th>\n",
       "      <td>10</td>\n",
       "      <td>M</td>\n",
       "      <td>False</td>\n",
       "      <td>Primaria</td>\n",
       "    </tr>\n",
       "  </tbody>\n",
       "</table>\n",
       "</div>"
      ],
      "text/plain": [
       "          EDAD SEXO  TRABAJO       ESTUDIO\n",
       "Cristian    10    H    False  Licenciatura\n",
       "Liliana     10    M    False  Licenciatura\n",
       "Oscar       10    H    False  Bachillerato\n",
       "Pascual     10    H    False    Secundaria\n",
       "Graciela    10    M    False      Primaria"
      ]
     },
     "execution_count": 30,
     "metadata": {},
     "output_type": "execute_result"
    }
   ],
   "source": [
    "#Cambiamos las edaes y trabajos de toda la familia\n",
    "family['EDAD']  = 10\n",
    "family['TRABAJO'] = False\n",
    "family"
   ]
  },
  {
   "cell_type": "code",
   "execution_count": 31,
   "metadata": {},
   "outputs": [
    {
     "data": {
      "text/html": [
       "<div>\n",
       "<style scoped>\n",
       "    .dataframe tbody tr th:only-of-type {\n",
       "        vertical-align: middle;\n",
       "    }\n",
       "\n",
       "    .dataframe tbody tr th {\n",
       "        vertical-align: top;\n",
       "    }\n",
       "\n",
       "    .dataframe thead th {\n",
       "        text-align: right;\n",
       "    }\n",
       "</style>\n",
       "<table border=\"1\" class=\"dataframe\">\n",
       "  <thead>\n",
       "    <tr style=\"text-align: right;\">\n",
       "      <th></th>\n",
       "      <th>LON</th>\n",
       "      <th>LAT</th>\n",
       "      <th>ESTADO</th>\n",
       "      <th>CLAVE_SIH</th>\n",
       "      <th>NOMBRE</th>\n",
       "      <th>ENE</th>\n",
       "    </tr>\n",
       "  </thead>\n",
       "  <tbody>\n",
       "    <tr>\n",
       "      <th>261</th>\n",
       "      <td>-99.171667</td>\n",
       "      <td>19.453333</td>\n",
       "      <td>DF</td>\n",
       "      <td>CBIDF</td>\n",
       "      <td>ESC. NAL. DE CIENCIAS BIOLOGICAS IPN SMN</td>\n",
       "      <td>11.7</td>\n",
       "    </tr>\n",
       "    <tr>\n",
       "      <th>281</th>\n",
       "      <td>-99.057778</td>\n",
       "      <td>19.433333</td>\n",
       "      <td>DF</td>\n",
       "      <td>PBCDF</td>\n",
       "      <td>P. B. Churubusco L., D.F.</td>\n",
       "      <td>10.7</td>\n",
       "    </tr>\n",
       "    <tr>\n",
       "      <th>288</th>\n",
       "      <td>-99.068333</td>\n",
       "      <td>19.420278</td>\n",
       "      <td>DF</td>\n",
       "      <td>PLMDF</td>\n",
       "      <td>P. B. López Mateos, D.F.</td>\n",
       "      <td>10.7</td>\n",
       "    </tr>\n",
       "    <tr>\n",
       "      <th>301</th>\n",
       "      <td>-99.275000</td>\n",
       "      <td>19.328611</td>\n",
       "      <td>DF</td>\n",
       "      <td>SBADF</td>\n",
       "      <td>San Bartolo Ameyalco, D.F.</td>\n",
       "      <td>10.2</td>\n",
       "    </tr>\n",
       "    <tr>\n",
       "      <th>314</th>\n",
       "      <td>-99.212500</td>\n",
       "      <td>19.361944</td>\n",
       "      <td>DF</td>\n",
       "      <td>TRGDF</td>\n",
       "      <td>Tarango, D.F.</td>\n",
       "      <td>10.9</td>\n",
       "    </tr>\n",
       "    <tr>\n",
       "      <th>1300</th>\n",
       "      <td>-99.200342</td>\n",
       "      <td>19.311528</td>\n",
       "      <td>DF</td>\n",
       "      <td>CCHS</td>\n",
       "      <td>Coyoacán</td>\n",
       "      <td>10.8</td>\n",
       "    </tr>\n",
       "    <tr>\n",
       "      <th>1562</th>\n",
       "      <td>-99.069222</td>\n",
       "      <td>19.421088</td>\n",
       "      <td>DF</td>\n",
       "      <td>LOPEZMATEOS</td>\n",
       "      <td>Venustiano Carranza</td>\n",
       "      <td>10.4</td>\n",
       "    </tr>\n",
       "    <tr>\n",
       "      <th>1607</th>\n",
       "      <td>-99.127742</td>\n",
       "      <td>19.365688</td>\n",
       "      <td>DF</td>\n",
       "      <td>MUNICIPIOLIBRE</td>\n",
       "      <td>Iztapalapa</td>\n",
       "      <td>11.2</td>\n",
       "    </tr>\n",
       "    <tr>\n",
       "      <th>1703</th>\n",
       "      <td>-99.155414</td>\n",
       "      <td>19.515002</td>\n",
       "      <td>DF</td>\n",
       "      <td>REMEDIOS</td>\n",
       "      <td>Gustavo A. Madero</td>\n",
       "      <td>10.1</td>\n",
       "    </tr>\n",
       "    <tr>\n",
       "      <th>1796</th>\n",
       "      <td>-99.212690</td>\n",
       "      <td>19.360928</td>\n",
       "      <td>DF</td>\n",
       "      <td>TARANGO</td>\n",
       "      <td>Álvaro Obregón</td>\n",
       "      <td>10.7</td>\n",
       "    </tr>\n",
       "    <tr>\n",
       "      <th>1819</th>\n",
       "      <td>-99.099722</td>\n",
       "      <td>19.385278</td>\n",
       "      <td>DF</td>\n",
       "      <td>TEZONTLE</td>\n",
       "      <td>Iztacalco</td>\n",
       "      <td>10.6</td>\n",
       "    </tr>\n",
       "    <tr>\n",
       "      <th>1869</th>\n",
       "      <td>-99.144611</td>\n",
       "      <td>19.332867</td>\n",
       "      <td>DF</td>\n",
       "      <td>XOTEPINGO</td>\n",
       "      <td>Coyoacán</td>\n",
       "      <td>10.2</td>\n",
       "    </tr>\n",
       "  </tbody>\n",
       "</table>\n",
       "</div>"
      ],
      "text/plain": [
       "            LON        LAT ESTADO       CLAVE_SIH  \\\n",
       "261  -99.171667  19.453333     DF           CBIDF   \n",
       "281  -99.057778  19.433333     DF           PBCDF   \n",
       "288  -99.068333  19.420278     DF           PLMDF   \n",
       "301  -99.275000  19.328611     DF           SBADF   \n",
       "314  -99.212500  19.361944     DF           TRGDF   \n",
       "1300 -99.200342  19.311528     DF            CCHS   \n",
       "1562 -99.069222  19.421088     DF     LOPEZMATEOS   \n",
       "1607 -99.127742  19.365688     DF  MUNICIPIOLIBRE   \n",
       "1703 -99.155414  19.515002     DF        REMEDIOS   \n",
       "1796 -99.212690  19.360928     DF         TARANGO   \n",
       "1819 -99.099722  19.385278     DF        TEZONTLE   \n",
       "1869 -99.144611  19.332867     DF       XOTEPINGO   \n",
       "\n",
       "                                        NOMBRE   ENE  \n",
       "261   ESC. NAL. DE CIENCIAS BIOLOGICAS IPN SMN  11.7  \n",
       "281                  P. B. Churubusco L., D.F.  10.7  \n",
       "288                   P. B. López Mateos, D.F.  10.7  \n",
       "301                 San Bartolo Ameyalco, D.F.  10.2  \n",
       "314                              Tarango, D.F.  10.9  \n",
       "1300                                  Coyoacán  10.8  \n",
       "1562                       Venustiano Carranza  10.4  \n",
       "1607                                Iztapalapa  11.2  \n",
       "1703                         Gustavo A. Madero  10.1  \n",
       "1796                            Álvaro Obregón  10.7  \n",
       "1819                                 Iztacalco  10.6  \n",
       "1869                                  Coyoacán  10.2  "
      ]
     },
     "execution_count": 31,
     "metadata": {},
     "output_type": "execute_result"
    }
   ],
   "source": [
    "#Mascaras\n",
    "# Tomamos un rango de ENE y solo escojemos el estado del DF\n",
    "lluvias_2018[(lluvias_2018['ENE']> 10) & (lluvias_2018['ENE'] < 12) & (lluvias_2018['ESTADO'] == 'DF' )]"
   ]
  },
  {
   "cell_type": "code",
   "execution_count": 32,
   "metadata": {},
   "outputs": [
    {
     "data": {
      "text/html": [
       "<div>\n",
       "<style scoped>\n",
       "    .dataframe tbody tr th:only-of-type {\n",
       "        vertical-align: middle;\n",
       "    }\n",
       "\n",
       "    .dataframe tbody tr th {\n",
       "        vertical-align: top;\n",
       "    }\n",
       "\n",
       "    .dataframe thead th {\n",
       "        text-align: right;\n",
       "    }\n",
       "</style>\n",
       "<table border=\"1\" class=\"dataframe\">\n",
       "  <thead>\n",
       "    <tr style=\"text-align: right;\">\n",
       "      <th></th>\n",
       "      <th>LON</th>\n",
       "      <th>LAT</th>\n",
       "      <th>EDO</th>\n",
       "      <th>CLAVE_SIH</th>\n",
       "      <th>NOMBRE</th>\n",
       "      <th>MAY</th>\n",
       "    </tr>\n",
       "  </thead>\n",
       "  <tbody>\n",
       "    <tr>\n",
       "      <th>247</th>\n",
       "      <td>-99.309167</td>\n",
       "      <td>19.313333</td>\n",
       "      <td>DF</td>\n",
       "      <td>DTLDF</td>\n",
       "      <td>Desierto de los Leones, Cd. de Méx.</td>\n",
       "      <td>11.42</td>\n",
       "    </tr>\n",
       "    <tr>\n",
       "      <th>251</th>\n",
       "      <td>-99.352222</td>\n",
       "      <td>19.295000</td>\n",
       "      <td>DF</td>\n",
       "      <td>EZCDF</td>\n",
       "      <td>El Zarco, Cd. de Méx.</td>\n",
       "      <td>10.41</td>\n",
       "    </tr>\n",
       "    <tr>\n",
       "      <th>264</th>\n",
       "      <td>-99.037778</td>\n",
       "      <td>19.380000</td>\n",
       "      <td>DF</td>\n",
       "      <td>PBODF</td>\n",
       "      <td>Planta de Bombeo U. E. de Oriente, Cd. de Méx.</td>\n",
       "      <td>11.42</td>\n",
       "    </tr>\n",
       "    <tr>\n",
       "      <th>286</th>\n",
       "      <td>-99.122222</td>\n",
       "      <td>19.572222</td>\n",
       "      <td>DF</td>\n",
       "      <td>SGDDF</td>\n",
       "      <td>Sierra Guadalupe, Cd. de Méx.</td>\n",
       "      <td>11.68</td>\n",
       "    </tr>\n",
       "  </tbody>\n",
       "</table>\n",
       "</div>"
      ],
      "text/plain": [
       "           LON        LAT EDO CLAVE_SIH  \\\n",
       "247 -99.309167  19.313333  DF     DTLDF   \n",
       "251 -99.352222  19.295000  DF     EZCDF   \n",
       "264 -99.037778  19.380000  DF     PBODF   \n",
       "286 -99.122222  19.572222  DF     SGDDF   \n",
       "\n",
       "                                             NOMBRE    MAY  \n",
       "247             Desierto de los Leones, Cd. de Méx.  11.42  \n",
       "251                           El Zarco, Cd. de Méx.  10.41  \n",
       "264  Planta de Bombeo U. E. de Oriente, Cd. de Méx.  11.42  \n",
       "286                   Sierra Guadalupe, Cd. de Méx.  11.68  "
      ]
     },
     "execution_count": 32,
     "metadata": {},
     "output_type": "execute_result"
    }
   ],
   "source": [
    "# Tomamos un rango de MAY y solo escojemos el estado del DF para 2019\n",
    "lluvias_2019[(lluvias_2019['MAY']> 10) & (lluvias_2019['MAY'] < 12) & (lluvias_2019['EDO'] == 'DF' )]"
   ]
  },
  {
   "cell_type": "code",
   "execution_count": 33,
   "metadata": {},
   "outputs": [
    {
     "data": {
      "text/html": [
       "<div>\n",
       "<style scoped>\n",
       "    .dataframe tbody tr th:only-of-type {\n",
       "        vertical-align: middle;\n",
       "    }\n",
       "\n",
       "    .dataframe tbody tr th {\n",
       "        vertical-align: top;\n",
       "    }\n",
       "\n",
       "    .dataframe thead th {\n",
       "        text-align: right;\n",
       "    }\n",
       "</style>\n",
       "<table border=\"1\" class=\"dataframe\">\n",
       "  <thead>\n",
       "    <tr style=\"text-align: right;\">\n",
       "      <th></th>\n",
       "      <th>LON</th>\n",
       "      <th>LAT</th>\n",
       "      <th>ESTADO</th>\n",
       "      <th>CLAVE_SIH</th>\n",
       "      <th>NOMBRE</th>\n",
       "      <th>ENE</th>\n",
       "    </tr>\n",
       "  </thead>\n",
       "  <tbody>\n",
       "    <tr>\n",
       "      <th>1395</th>\n",
       "      <td>-101.838389</td>\n",
       "      <td>21.048639</td>\n",
       "      <td>GTO</td>\n",
       "      <td>ELBARRIAL</td>\n",
       "      <td>Purísima del Rincón</td>\n",
       "      <td>3.8</td>\n",
       "    </tr>\n",
       "    <tr>\n",
       "      <th>1425</th>\n",
       "      <td>-101.889028</td>\n",
       "      <td>20.877861</td>\n",
       "      <td>GTO</td>\n",
       "      <td>ELTIGRE</td>\n",
       "      <td>Purísima del Rincón</td>\n",
       "      <td>1.2</td>\n",
       "    </tr>\n",
       "  </tbody>\n",
       "</table>\n",
       "</div>"
      ],
      "text/plain": [
       "             LON        LAT ESTADO  CLAVE_SIH               NOMBRE  ENE\n",
       "1395 -101.838389  21.048639    GTO  ELBARRIAL  Purísima del Rincón  3.8\n",
       "1425 -101.889028  20.877861    GTO    ELTIGRE  Purísima del Rincón  1.2"
      ]
     },
     "execution_count": 33,
     "metadata": {},
     "output_type": "execute_result"
    }
   ],
   "source": [
    "# Tomamos sólo los datos de Purísima del Rincón para 2018\n",
    "lluvias_2018[(lluvias_2018['ESTADO'] == 'GTO' ) & (lluvias_2018['NOMBRE'] == 'Purísima del Rincón')]"
   ]
  },
  {
   "cell_type": "code",
   "execution_count": 34,
   "metadata": {},
   "outputs": [
    {
     "data": {
      "text/html": [
       "<div>\n",
       "<style scoped>\n",
       "    .dataframe tbody tr th:only-of-type {\n",
       "        vertical-align: middle;\n",
       "    }\n",
       "\n",
       "    .dataframe tbody tr th {\n",
       "        vertical-align: top;\n",
       "    }\n",
       "\n",
       "    .dataframe thead th {\n",
       "        text-align: right;\n",
       "    }\n",
       "</style>\n",
       "<table border=\"1\" class=\"dataframe\">\n",
       "  <thead>\n",
       "    <tr style=\"text-align: right;\">\n",
       "      <th></th>\n",
       "      <th>LON</th>\n",
       "      <th>LAT</th>\n",
       "      <th>EDO</th>\n",
       "      <th>CLAVE_SIH</th>\n",
       "      <th>NOMBRE</th>\n",
       "      <th>MAY</th>\n",
       "    </tr>\n",
       "  </thead>\n",
       "  <tbody>\n",
       "  </tbody>\n",
       "</table>\n",
       "</div>"
      ],
      "text/plain": [
       "Empty DataFrame\n",
       "Columns: [LON, LAT, EDO, CLAVE_SIH, NOMBRE, MAY]\n",
       "Index: []"
      ]
     },
     "execution_count": 34,
     "metadata": {},
     "output_type": "execute_result"
    }
   ],
   "source": [
    "# Tomamos sólo los datos de Purísima del Rincón para 2019\n",
    "lluvias_2019[(lluvias_2019['EDO'] == 'GTO' ) & (lluvias_2019['NOMBRE'] == 'Purísima del Rincón')]"
   ]
  },
  {
   "cell_type": "code",
   "execution_count": 35,
   "metadata": {},
   "outputs": [
    {
     "data": {
      "text/html": [
       "<div>\n",
       "<style scoped>\n",
       "    .dataframe tbody tr th:only-of-type {\n",
       "        vertical-align: middle;\n",
       "    }\n",
       "\n",
       "    .dataframe tbody tr th {\n",
       "        vertical-align: top;\n",
       "    }\n",
       "\n",
       "    .dataframe thead th {\n",
       "        text-align: right;\n",
       "    }\n",
       "</style>\n",
       "<table border=\"1\" class=\"dataframe\">\n",
       "  <thead>\n",
       "    <tr style=\"text-align: right;\">\n",
       "      <th></th>\n",
       "      <th>Lon</th>\n",
       "      <th>Lat</th>\n",
       "      <th>Clave</th>\n",
       "      <th>Edo</th>\n",
       "      <th>Est</th>\n",
       "      <th>Tmed</th>\n",
       "    </tr>\n",
       "  </thead>\n",
       "  <tbody>\n",
       "    <tr>\n",
       "      <th>0</th>\n",
       "      <td>-101.51</td>\n",
       "      <td>20.43</td>\n",
       "      <td>ABSGJ</td>\n",
       "      <td>GTO</td>\n",
       "      <td>ABASOLO</td>\n",
       "      <td>16.2</td>\n",
       "    </tr>\n",
       "    <tr>\n",
       "      <th>115</th>\n",
       "      <td>-100.95</td>\n",
       "      <td>20.48</td>\n",
       "      <td>CRTGJ</td>\n",
       "      <td>GTO</td>\n",
       "      <td>CORTAZAR</td>\n",
       "      <td>15.1</td>\n",
       "    </tr>\n",
       "    <tr>\n",
       "      <th>125</th>\n",
       "      <td>-101.66</td>\n",
       "      <td>20.61</td>\n",
       "      <td>CRMGJ</td>\n",
       "      <td>GTO</td>\n",
       "      <td>CUERAMARO</td>\n",
       "      <td>15.6</td>\n",
       "    </tr>\n",
       "    <tr>\n",
       "      <th>201</th>\n",
       "      <td>-101.35</td>\n",
       "      <td>20.68</td>\n",
       "      <td>IRPGJ</td>\n",
       "      <td>GTO</td>\n",
       "      <td>IRAPUATO</td>\n",
       "      <td>15.4</td>\n",
       "    </tr>\n",
       "    <tr>\n",
       "      <th>229</th>\n",
       "      <td>-101.66</td>\n",
       "      <td>21.10</td>\n",
       "      <td>LENGJ</td>\n",
       "      <td>GTO</td>\n",
       "      <td>LEON</td>\n",
       "      <td>16.0</td>\n",
       "    </tr>\n",
       "    <tr>\n",
       "      <th>432</th>\n",
       "      <td>-100.75</td>\n",
       "      <td>20.28</td>\n",
       "      <td>TARGJ</td>\n",
       "      <td>GTO</td>\n",
       "      <td>TARIMORO</td>\n",
       "      <td>15.3</td>\n",
       "    </tr>\n",
       "    <tr>\n",
       "      <th>438</th>\n",
       "      <td>-101.30</td>\n",
       "      <td>20.60</td>\n",
       "      <td>TEMGJ</td>\n",
       "      <td>GTO</td>\n",
       "      <td>TEMASCATIO</td>\n",
       "      <td>16.5</td>\n",
       "    </tr>\n",
       "    <tr>\n",
       "      <th>543</th>\n",
       "      <td>-101.23</td>\n",
       "      <td>21.20</td>\n",
       "      <td>CSTGJ</td>\n",
       "      <td>GTO</td>\n",
       "      <td>LOS CASTILLOS</td>\n",
       "      <td>15.1</td>\n",
       "    </tr>\n",
       "    <tr>\n",
       "      <th>568</th>\n",
       "      <td>-101.20</td>\n",
       "      <td>20.56</td>\n",
       "      <td>SLMGJ</td>\n",
       "      <td>GTO</td>\n",
       "      <td>SALAMANCA</td>\n",
       "      <td>15.2</td>\n",
       "    </tr>\n",
       "    <tr>\n",
       "      <th>574</th>\n",
       "      <td>-101.20</td>\n",
       "      <td>20.90</td>\n",
       "      <td>ECHGJ</td>\n",
       "      <td>GTO</td>\n",
       "      <td>EL CHAPIN</td>\n",
       "      <td>15.2</td>\n",
       "    </tr>\n",
       "    <tr>\n",
       "      <th>592</th>\n",
       "      <td>-100.81</td>\n",
       "      <td>20.05</td>\n",
       "      <td>SLSGJ</td>\n",
       "      <td>GTO</td>\n",
       "      <td>PRESA SOLIS</td>\n",
       "      <td>15.2</td>\n",
       "    </tr>\n",
       "    <tr>\n",
       "      <th>659</th>\n",
       "      <td>-101.75</td>\n",
       "      <td>20.43</td>\n",
       "      <td>GLNGJ</td>\n",
       "      <td>GTO</td>\n",
       "      <td>PRESA LA GOLONDRINA</td>\n",
       "      <td>16.4</td>\n",
       "    </tr>\n",
       "    <tr>\n",
       "      <th>742</th>\n",
       "      <td>-100.68</td>\n",
       "      <td>20.53</td>\n",
       "      <td>AEGGJ</td>\n",
       "      <td>GTO</td>\n",
       "      <td>APASEO EL GRANDE</td>\n",
       "      <td>16.3</td>\n",
       "    </tr>\n",
       "    <tr>\n",
       "      <th>789</th>\n",
       "      <td>-101.36</td>\n",
       "      <td>20.28</td>\n",
       "      <td>LJIGJ</td>\n",
       "      <td>GTO</td>\n",
       "      <td>Las Jicamas Gto.</td>\n",
       "      <td>15.5</td>\n",
       "    </tr>\n",
       "    <tr>\n",
       "      <th>997</th>\n",
       "      <td>-101.25</td>\n",
       "      <td>21.02</td>\n",
       "      <td>GUANAJUATOOB</td>\n",
       "      <td>GTO</td>\n",
       "      <td>OBSERVATORIO GUANAJUATO</td>\n",
       "      <td>15.2</td>\n",
       "    </tr>\n",
       "  </tbody>\n",
       "</table>\n",
       "</div>"
      ],
      "text/plain": [
       "        Lon    Lat         Clave  Edo                      Est  Tmed\n",
       "0   -101.51  20.43         ABSGJ  GTO                  ABASOLO  16.2\n",
       "115 -100.95  20.48         CRTGJ  GTO                 CORTAZAR  15.1\n",
       "125 -101.66  20.61         CRMGJ  GTO                CUERAMARO  15.6\n",
       "201 -101.35  20.68         IRPGJ  GTO                 IRAPUATO  15.4\n",
       "229 -101.66  21.10         LENGJ  GTO                     LEON  16.0\n",
       "432 -100.75  20.28         TARGJ  GTO                 TARIMORO  15.3\n",
       "438 -101.30  20.60         TEMGJ  GTO               TEMASCATIO  16.5\n",
       "543 -101.23  21.20         CSTGJ  GTO            LOS CASTILLOS  15.1\n",
       "568 -101.20  20.56         SLMGJ  GTO                SALAMANCA  15.2\n",
       "574 -101.20  20.90         ECHGJ  GTO                EL CHAPIN  15.2\n",
       "592 -100.81  20.05         SLSGJ  GTO              PRESA SOLIS  15.2\n",
       "659 -101.75  20.43         GLNGJ  GTO      PRESA LA GOLONDRINA  16.4\n",
       "742 -100.68  20.53         AEGGJ  GTO         APASEO EL GRANDE  16.3\n",
       "789 -101.36  20.28         LJIGJ  GTO         Las Jicamas Gto.  15.5\n",
       "997 -101.25  21.02  GUANAJUATOOB  GTO  OBSERVATORIO GUANAJUATO  15.2"
      ]
     },
     "execution_count": 35,
     "metadata": {},
     "output_type": "execute_result"
    }
   ],
   "source": [
    "#Vemos la temperatura Media de GTO en 2018\n",
    "Media_2018[(Media_2018['Tmed']>15 ) & (Media_2018['Edo'] == 'GTO')]"
   ]
  },
  {
   "cell_type": "code",
   "execution_count": 36,
   "metadata": {},
   "outputs": [
    {
     "data": {
      "text/html": [
       "<div>\n",
       "<style scoped>\n",
       "    .dataframe tbody tr th:only-of-type {\n",
       "        vertical-align: middle;\n",
       "    }\n",
       "\n",
       "    .dataframe tbody tr th {\n",
       "        vertical-align: top;\n",
       "    }\n",
       "\n",
       "    .dataframe thead th {\n",
       "        text-align: right;\n",
       "    }\n",
       "</style>\n",
       "<table border=\"1\" class=\"dataframe\">\n",
       "  <thead>\n",
       "    <tr style=\"text-align: right;\">\n",
       "      <th></th>\n",
       "      <th>Lon</th>\n",
       "      <th>Lat</th>\n",
       "      <th>Clave</th>\n",
       "      <th>Edo</th>\n",
       "      <th>Est</th>\n",
       "      <th>Tmed</th>\n",
       "    </tr>\n",
       "  </thead>\n",
       "  <tbody>\n",
       "    <tr>\n",
       "      <th>16</th>\n",
       "      <td>-101.29</td>\n",
       "      <td>21.01</td>\n",
       "      <td>76577</td>\n",
       "      <td>GTO</td>\n",
       "      <td>GUANAJUATO</td>\n",
       "      <td>15.238889</td>\n",
       "    </tr>\n",
       "    <tr>\n",
       "      <th>45</th>\n",
       "      <td>-101.47</td>\n",
       "      <td>21.07</td>\n",
       "      <td>COMGJ</td>\n",
       "      <td>GTO</td>\n",
       "      <td>Comanjilla Gto.</td>\n",
       "      <td>15.846774</td>\n",
       "    </tr>\n",
       "    <tr>\n",
       "      <th>71</th>\n",
       "      <td>-100.75</td>\n",
       "      <td>20.58</td>\n",
       "      <td>SMOGJ</td>\n",
       "      <td>GTO</td>\n",
       "      <td>San Miguel Octopan Gto.</td>\n",
       "      <td>15.064516</td>\n",
       "    </tr>\n",
       "    <tr>\n",
       "      <th>207</th>\n",
       "      <td>-100.72</td>\n",
       "      <td>20.03</td>\n",
       "      <td>ACNGJ</td>\n",
       "      <td>GTO</td>\n",
       "      <td>Acámbaro Gto.</td>\n",
       "      <td>16.177419</td>\n",
       "    </tr>\n",
       "    <tr>\n",
       "      <th>208</th>\n",
       "      <td>-100.67</td>\n",
       "      <td>20.05</td>\n",
       "      <td>SLSGJ</td>\n",
       "      <td>GTO</td>\n",
       "      <td>Solís Gto.</td>\n",
       "      <td>16.290323</td>\n",
       "    </tr>\n",
       "    <tr>\n",
       "      <th>210</th>\n",
       "      <td>-100.90</td>\n",
       "      <td>20.28</td>\n",
       "      <td>ECBGJ</td>\n",
       "      <td>GTO</td>\n",
       "      <td>El Cubo Gto.</td>\n",
       "      <td>15.241935</td>\n",
       "    </tr>\n",
       "    <tr>\n",
       "      <th>211</th>\n",
       "      <td>-100.88</td>\n",
       "      <td>20.21</td>\n",
       "      <td>SLVGJ</td>\n",
       "      <td>GTO</td>\n",
       "      <td>Salvatierra Gto.</td>\n",
       "      <td>16.346774</td>\n",
       "    </tr>\n",
       "    <tr>\n",
       "      <th>212</th>\n",
       "      <td>-101.36</td>\n",
       "      <td>20.28</td>\n",
       "      <td>LJIGJ</td>\n",
       "      <td>GTO</td>\n",
       "      <td>Las Jícamas Gto.</td>\n",
       "      <td>16.612903</td>\n",
       "    </tr>\n",
       "    <tr>\n",
       "      <th>213</th>\n",
       "      <td>-100.75</td>\n",
       "      <td>20.28</td>\n",
       "      <td>TARGJ</td>\n",
       "      <td>GTO</td>\n",
       "      <td>Tarimoro Gto.</td>\n",
       "      <td>16.233871</td>\n",
       "    </tr>\n",
       "    <tr>\n",
       "      <th>215</th>\n",
       "      <td>-101.07</td>\n",
       "      <td>20.30</td>\n",
       "      <td>SRTGJ</td>\n",
       "      <td>GTO</td>\n",
       "      <td>Santa Rita Gto.</td>\n",
       "      <td>15.741935</td>\n",
       "    </tr>\n",
       "    <tr>\n",
       "      <th>217</th>\n",
       "      <td>-101.02</td>\n",
       "      <td>20.40</td>\n",
       "      <td>SJLGJ</td>\n",
       "      <td>GTO</td>\n",
       "      <td>Santa Julia Gto.</td>\n",
       "      <td>15.798387</td>\n",
       "    </tr>\n",
       "    <tr>\n",
       "      <th>218</th>\n",
       "      <td>-101.52</td>\n",
       "      <td>20.43</td>\n",
       "      <td>ABSGJ</td>\n",
       "      <td>GTO</td>\n",
       "      <td>Abasolo Gto.</td>\n",
       "      <td>17.508065</td>\n",
       "    </tr>\n",
       "    <tr>\n",
       "      <th>219</th>\n",
       "      <td>-101.74</td>\n",
       "      <td>20.44</td>\n",
       "      <td>GLNGJ</td>\n",
       "      <td>GTO</td>\n",
       "      <td>La Golondrina Gto.</td>\n",
       "      <td>16.516129</td>\n",
       "    </tr>\n",
       "    <tr>\n",
       "      <th>220</th>\n",
       "      <td>-100.62</td>\n",
       "      <td>20.45</td>\n",
       "      <td>APSGJ</td>\n",
       "      <td>GTO</td>\n",
       "      <td>Apaseo el Alto Gto.</td>\n",
       "      <td>16.895161</td>\n",
       "    </tr>\n",
       "    <tr>\n",
       "      <th>221</th>\n",
       "      <td>-100.95</td>\n",
       "      <td>20.48</td>\n",
       "      <td>CRTGJ</td>\n",
       "      <td>GTO</td>\n",
       "      <td>Cortázar Gto.</td>\n",
       "      <td>16.548387</td>\n",
       "    </tr>\n",
       "    <tr>\n",
       "      <th>222</th>\n",
       "      <td>-101.63</td>\n",
       "      <td>20.50</td>\n",
       "      <td>ATBGJ</td>\n",
       "      <td>GTO</td>\n",
       "      <td>Agua Tibia Gto.</td>\n",
       "      <td>15.693548</td>\n",
       "    </tr>\n",
       "    <tr>\n",
       "      <th>223</th>\n",
       "      <td>-101.13</td>\n",
       "      <td>20.52</td>\n",
       "      <td>PERGJ</td>\n",
       "      <td>GTO</td>\n",
       "      <td>Pericos Gto.</td>\n",
       "      <td>15.427419</td>\n",
       "    </tr>\n",
       "    <tr>\n",
       "      <th>224</th>\n",
       "      <td>-100.82</td>\n",
       "      <td>20.53</td>\n",
       "      <td>CLYGJ</td>\n",
       "      <td>GTO</td>\n",
       "      <td>Celaya Gto.</td>\n",
       "      <td>17.209677</td>\n",
       "    </tr>\n",
       "    <tr>\n",
       "      <th>225</th>\n",
       "      <td>-100.68</td>\n",
       "      <td>20.53</td>\n",
       "      <td>AEGGJ</td>\n",
       "      <td>GTO</td>\n",
       "      <td>Apaseo el Grande Gto.</td>\n",
       "      <td>17.927419</td>\n",
       "    </tr>\n",
       "    <tr>\n",
       "      <th>226</th>\n",
       "      <td>-100.58</td>\n",
       "      <td>20.55</td>\n",
       "      <td>AMCGJ</td>\n",
       "      <td>GTO</td>\n",
       "      <td>Ameche Gto.</td>\n",
       "      <td>15.927419</td>\n",
       "    </tr>\n",
       "    <tr>\n",
       "      <th>227</th>\n",
       "      <td>-101.20</td>\n",
       "      <td>20.57</td>\n",
       "      <td>SLMGJ</td>\n",
       "      <td>GTO</td>\n",
       "      <td>Salamanca Gto.</td>\n",
       "      <td>16.959677</td>\n",
       "    </tr>\n",
       "    <tr>\n",
       "      <th>228</th>\n",
       "      <td>-101.30</td>\n",
       "      <td>20.60</td>\n",
       "      <td>TEMGJ</td>\n",
       "      <td>GTO</td>\n",
       "      <td>Temascatío Gto.</td>\n",
       "      <td>17.822581</td>\n",
       "    </tr>\n",
       "    <tr>\n",
       "      <th>229</th>\n",
       "      <td>-101.67</td>\n",
       "      <td>20.62</td>\n",
       "      <td>CRMGJ</td>\n",
       "      <td>GTO</td>\n",
       "      <td>Cuerámaro Gto.</td>\n",
       "      <td>18.129032</td>\n",
       "    </tr>\n",
       "    <tr>\n",
       "      <th>231</th>\n",
       "      <td>-101.35</td>\n",
       "      <td>20.68</td>\n",
       "      <td>IRPGJ</td>\n",
       "      <td>GTO</td>\n",
       "      <td>Irapuato Gto.</td>\n",
       "      <td>16.532258</td>\n",
       "    </tr>\n",
       "    <tr>\n",
       "      <th>232</th>\n",
       "      <td>-101.37</td>\n",
       "      <td>20.73</td>\n",
       "      <td>ECNGJ</td>\n",
       "      <td>GTO</td>\n",
       "      <td>El Conejo Gto.</td>\n",
       "      <td>15.362903</td>\n",
       "    </tr>\n",
       "    <tr>\n",
       "      <th>233</th>\n",
       "      <td>-100.83</td>\n",
       "      <td>20.85</td>\n",
       "      <td>IALGJ</td>\n",
       "      <td>GTO</td>\n",
       "      <td>Ignacio Allende Gto.</td>\n",
       "      <td>15.427419</td>\n",
       "    </tr>\n",
       "    <tr>\n",
       "      <th>234</th>\n",
       "      <td>-101.29</td>\n",
       "      <td>20.87</td>\n",
       "      <td>PRSGJ</td>\n",
       "      <td>GTO</td>\n",
       "      <td>La Purísima Gto.</td>\n",
       "      <td>16.645161</td>\n",
       "    </tr>\n",
       "    <tr>\n",
       "      <th>236</th>\n",
       "      <td>-101.26</td>\n",
       "      <td>21.01</td>\n",
       "      <td>GTOGJ</td>\n",
       "      <td>GTO</td>\n",
       "      <td>Guanajuato Gto.</td>\n",
       "      <td>15.909677</td>\n",
       "    </tr>\n",
       "    <tr>\n",
       "      <th>238</th>\n",
       "      <td>-101.67</td>\n",
       "      <td>21.10</td>\n",
       "      <td>LENGJ</td>\n",
       "      <td>GTO</td>\n",
       "      <td>León Gto.</td>\n",
       "      <td>17.790323</td>\n",
       "    </tr>\n",
       "    <tr>\n",
       "      <th>239</th>\n",
       "      <td>-100.93</td>\n",
       "      <td>21.15</td>\n",
       "      <td>DHGGJ</td>\n",
       "      <td>GTO</td>\n",
       "      <td>Dolores Hidalgo Gto.</td>\n",
       "      <td>15.258065</td>\n",
       "    </tr>\n",
       "    <tr>\n",
       "      <th>240</th>\n",
       "      <td>-101.69</td>\n",
       "      <td>21.17</td>\n",
       "      <td>EPLGJ</td>\n",
       "      <td>GTO</td>\n",
       "      <td>El Palote Gto.</td>\n",
       "      <td>16.080645</td>\n",
       "    </tr>\n",
       "    <tr>\n",
       "      <th>241</th>\n",
       "      <td>-101.67</td>\n",
       "      <td>21.20</td>\n",
       "      <td>CSTGJ</td>\n",
       "      <td>GTO</td>\n",
       "      <td>Los Castillos Gto.</td>\n",
       "      <td>16.467742</td>\n",
       "    </tr>\n",
       "    <tr>\n",
       "      <th>243</th>\n",
       "      <td>-100.09</td>\n",
       "      <td>21.30</td>\n",
       "      <td>XICGJ</td>\n",
       "      <td>GTO</td>\n",
       "      <td>Xichú Gto.</td>\n",
       "      <td>17.308333</td>\n",
       "    </tr>\n",
       "  </tbody>\n",
       "</table>\n",
       "</div>"
      ],
      "text/plain": [
       "        Lon    Lat  Clave  Edo                      Est       Tmed\n",
       "16  -101.29  21.01  76577  GTO               GUANAJUATO  15.238889\n",
       "45  -101.47  21.07  COMGJ  GTO          Comanjilla Gto.  15.846774\n",
       "71  -100.75  20.58  SMOGJ  GTO  San Miguel Octopan Gto.  15.064516\n",
       "207 -100.72  20.03  ACNGJ  GTO            Acámbaro Gto.  16.177419\n",
       "208 -100.67  20.05  SLSGJ  GTO               Solís Gto.  16.290323\n",
       "210 -100.90  20.28  ECBGJ  GTO             El Cubo Gto.  15.241935\n",
       "211 -100.88  20.21  SLVGJ  GTO         Salvatierra Gto.  16.346774\n",
       "212 -101.36  20.28  LJIGJ  GTO         Las Jícamas Gto.  16.612903\n",
       "213 -100.75  20.28  TARGJ  GTO            Tarimoro Gto.  16.233871\n",
       "215 -101.07  20.30  SRTGJ  GTO          Santa Rita Gto.  15.741935\n",
       "217 -101.02  20.40  SJLGJ  GTO         Santa Julia Gto.  15.798387\n",
       "218 -101.52  20.43  ABSGJ  GTO             Abasolo Gto.  17.508065\n",
       "219 -101.74  20.44  GLNGJ  GTO       La Golondrina Gto.  16.516129\n",
       "220 -100.62  20.45  APSGJ  GTO      Apaseo el Alto Gto.  16.895161\n",
       "221 -100.95  20.48  CRTGJ  GTO            Cortázar Gto.  16.548387\n",
       "222 -101.63  20.50  ATBGJ  GTO          Agua Tibia Gto.  15.693548\n",
       "223 -101.13  20.52  PERGJ  GTO             Pericos Gto.  15.427419\n",
       "224 -100.82  20.53  CLYGJ  GTO              Celaya Gto.  17.209677\n",
       "225 -100.68  20.53  AEGGJ  GTO    Apaseo el Grande Gto.  17.927419\n",
       "226 -100.58  20.55  AMCGJ  GTO              Ameche Gto.  15.927419\n",
       "227 -101.20  20.57  SLMGJ  GTO           Salamanca Gto.  16.959677\n",
       "228 -101.30  20.60  TEMGJ  GTO          Temascatío Gto.  17.822581\n",
       "229 -101.67  20.62  CRMGJ  GTO           Cuerámaro Gto.  18.129032\n",
       "231 -101.35  20.68  IRPGJ  GTO            Irapuato Gto.  16.532258\n",
       "232 -101.37  20.73  ECNGJ  GTO           El Conejo Gto.  15.362903\n",
       "233 -100.83  20.85  IALGJ  GTO     Ignacio Allende Gto.  15.427419\n",
       "234 -101.29  20.87  PRSGJ  GTO         La Purísima Gto.  16.645161\n",
       "236 -101.26  21.01  GTOGJ  GTO          Guanajuato Gto.  15.909677\n",
       "238 -101.67  21.10  LENGJ  GTO                León Gto.  17.790323\n",
       "239 -100.93  21.15  DHGGJ  GTO     Dolores Hidalgo Gto.  15.258065\n",
       "240 -101.69  21.17  EPLGJ  GTO           El Palote Gto.  16.080645\n",
       "241 -101.67  21.20  CSTGJ  GTO       Los Castillos Gto.  16.467742\n",
       "243 -100.09  21.30  XICGJ  GTO               Xichú Gto.  17.308333"
      ]
     },
     "execution_count": 36,
     "metadata": {},
     "output_type": "execute_result"
    }
   ],
   "source": [
    "#Vemos la temperatura Media de GTO en 2019\n",
    "Media_2019[(Media_2019['Tmed']>15 ) & (Media_2019['Edo'] == 'GTO')]"
   ]
  },
  {
   "cell_type": "markdown",
   "metadata": {},
   "source": [
    "### loc, iloc, and ix"
   ]
  },
  {
   "cell_type": "code",
   "execution_count": 37,
   "metadata": {},
   "outputs": [
    {
     "data": {
      "text/plain": [
       "LON                       -102.31\n",
       "LAT                        21.895\n",
       "ESTADO                        AGS\n",
       "CLAVE_SIH                   AGSAG\n",
       "NOMBRE       Aguascalientes, Ags.\n",
       "ENE                          25.8\n",
       "Name: 0, dtype: object"
      ]
     },
     "execution_count": 37,
     "metadata": {},
     "output_type": "execute_result"
    }
   ],
   "source": [
    "lluvias_2018.loc[0] #Muestra los datos de cada linea"
   ]
  },
  {
   "cell_type": "code",
   "execution_count": 38,
   "metadata": {},
   "outputs": [
    {
     "data": {
      "text/plain": [
       "Lon      -101.51\n",
       "Lat        20.43\n",
       "Clave      ABSGJ\n",
       "Edo          GTO\n",
       "Est      ABASOLO\n",
       "Tmed        16.2\n",
       "Name: 0, dtype: object"
      ]
     },
     "execution_count": 38,
     "metadata": {},
     "output_type": "execute_result"
    }
   ],
   "source": [
    "Media_2018.loc[0]"
   ]
  },
  {
   "cell_type": "code",
   "execution_count": 39,
   "metadata": {},
   "outputs": [
    {
     "data": {
      "text/plain": [
       "0    16.2\n",
       "1    15.0\n",
       "2    16.7\n",
       "3    12.3\n",
       "4    21.2\n",
       "5    15.0\n",
       "6    27.2\n",
       "7    25.4\n",
       "Name: Tmed, dtype: float64"
      ]
     },
     "execution_count": 39,
     "metadata": {},
     "output_type": "execute_result"
    }
   ],
   "source": [
    "Media_2018.Tmed[0:8] # Es igual que Media_2018['Tmed'] (se cortó para que no despliegue todo el contenido)"
   ]
  },
  {
   "cell_type": "markdown",
   "metadata": {},
   "source": [
    "#### DataFrame como arreglo de 2 dimeciones"
   ]
  },
  {
   "cell_type": "markdown",
   "metadata": {},
   "source": [
    "Podemos intercambiar renglones por columnas"
   ]
  },
  {
   "cell_type": "code",
   "execution_count": 40,
   "metadata": {},
   "outputs": [
    {
     "data": {
      "text/html": [
       "<div>\n",
       "<style scoped>\n",
       "    .dataframe tbody tr th:only-of-type {\n",
       "        vertical-align: middle;\n",
       "    }\n",
       "\n",
       "    .dataframe tbody tr th {\n",
       "        vertical-align: top;\n",
       "    }\n",
       "\n",
       "    .dataframe thead th {\n",
       "        text-align: right;\n",
       "    }\n",
       "</style>\n",
       "<table border=\"1\" class=\"dataframe\">\n",
       "  <thead>\n",
       "    <tr style=\"text-align: right;\">\n",
       "      <th></th>\n",
       "      <th>0</th>\n",
       "      <th>1</th>\n",
       "      <th>2</th>\n",
       "      <th>3</th>\n",
       "      <th>4</th>\n",
       "    </tr>\n",
       "  </thead>\n",
       "  <tbody>\n",
       "    <tr>\n",
       "      <th>LON</th>\n",
       "      <td>-102.31</td>\n",
       "      <td>-102.467</td>\n",
       "      <td>-102.712</td>\n",
       "      <td>-102.677</td>\n",
       "      <td>-102.197</td>\n",
       "    </tr>\n",
       "    <tr>\n",
       "      <th>LAT</th>\n",
       "      <td>21.895</td>\n",
       "      <td>22.1886</td>\n",
       "      <td>21.8492</td>\n",
       "      <td>21.9975</td>\n",
       "      <td>22.0072</td>\n",
       "    </tr>\n",
       "    <tr>\n",
       "      <th>ESTADO</th>\n",
       "      <td>AGS</td>\n",
       "      <td>AGS</td>\n",
       "      <td>AGS</td>\n",
       "      <td>AGS</td>\n",
       "      <td>AGS</td>\n",
       "    </tr>\n",
       "    <tr>\n",
       "      <th>CLAVE_SIH</th>\n",
       "      <td>AGSAG</td>\n",
       "      <td>ANVAG</td>\n",
       "      <td>CALVILLO</td>\n",
       "      <td>CDRAG</td>\n",
       "      <td>CHOAG</td>\n",
       "    </tr>\n",
       "    <tr>\n",
       "      <th>NOMBRE</th>\n",
       "      <td>Aguascalientes, Ags.</td>\n",
       "      <td>Cincuenta Aniversario, Ags.</td>\n",
       "      <td>Calvillo, Ags. SMN*</td>\n",
       "      <td>La Codorniz, Ags.</td>\n",
       "      <td>Cañada Honda, Ags.</td>\n",
       "    </tr>\n",
       "    <tr>\n",
       "      <th>ENE</th>\n",
       "      <td>25.8</td>\n",
       "      <td>58.6</td>\n",
       "      <td>56</td>\n",
       "      <td>50</td>\n",
       "      <td>17.2</td>\n",
       "    </tr>\n",
       "  </tbody>\n",
       "</table>\n",
       "</div>"
      ],
      "text/plain": [
       "                              0                            1  \\\n",
       "LON                     -102.31                     -102.467   \n",
       "LAT                      21.895                      22.1886   \n",
       "ESTADO                      AGS                          AGS   \n",
       "CLAVE_SIH                 AGSAG                        ANVAG   \n",
       "NOMBRE     Aguascalientes, Ags.  Cincuenta Aniversario, Ags.   \n",
       "ENE                        25.8                         58.6   \n",
       "\n",
       "                             2                  3                   4  \n",
       "LON                   -102.712           -102.677            -102.197  \n",
       "LAT                    21.8492            21.9975             22.0072  \n",
       "ESTADO                     AGS                AGS                 AGS  \n",
       "CLAVE_SIH             CALVILLO              CDRAG               CHOAG  \n",
       "NOMBRE     Calvillo, Ags. SMN*  La Codorniz, Ags.  Cañada Honda, Ags.  \n",
       "ENE                         56                 50                17.2  "
      ]
     },
     "execution_count": 40,
     "metadata": {},
     "output_type": "execute_result"
    }
   ],
   "source": [
    "lluvias_2018[:5].T "
   ]
  },
  {
   "cell_type": "code",
   "execution_count": 41,
   "metadata": {},
   "outputs": [
    {
     "data": {
      "text/html": [
       "<div>\n",
       "<style scoped>\n",
       "    .dataframe tbody tr th:only-of-type {\n",
       "        vertical-align: middle;\n",
       "    }\n",
       "\n",
       "    .dataframe tbody tr th {\n",
       "        vertical-align: top;\n",
       "    }\n",
       "\n",
       "    .dataframe thead th {\n",
       "        text-align: right;\n",
       "    }\n",
       "</style>\n",
       "<table border=\"1\" class=\"dataframe\">\n",
       "  <thead>\n",
       "    <tr style=\"text-align: right;\">\n",
       "      <th></th>\n",
       "      <th>0</th>\n",
       "      <th>1</th>\n",
       "      <th>2</th>\n",
       "      <th>3</th>\n",
       "      <th>4</th>\n",
       "      <th>5</th>\n",
       "      <th>6</th>\n",
       "      <th>7</th>\n",
       "      <th>8</th>\n",
       "      <th>9</th>\n",
       "      <th>10</th>\n",
       "      <th>11</th>\n",
       "      <th>12</th>\n",
       "      <th>13</th>\n",
       "      <th>14</th>\n",
       "      <th>15</th>\n",
       "      <th>16</th>\n",
       "      <th>17</th>\n",
       "      <th>18</th>\n",
       "      <th>19</th>\n",
       "    </tr>\n",
       "  </thead>\n",
       "  <tbody>\n",
       "    <tr>\n",
       "      <th>Edo</th>\n",
       "      <td>GTO</td>\n",
       "      <td>TAMPS</td>\n",
       "      <td>BC</td>\n",
       "      <td>PUE</td>\n",
       "      <td>CHIS</td>\n",
       "      <td>GTO</td>\n",
       "      <td>GRO</td>\n",
       "      <td>GRO</td>\n",
       "      <td>VER</td>\n",
       "      <td>ZAC</td>\n",
       "      <td>SON</td>\n",
       "      <td>HGO</td>\n",
       "      <td>VER</td>\n",
       "      <td>SIN</td>\n",
       "      <td>GRO</td>\n",
       "      <td>COAH</td>\n",
       "      <td>DGO</td>\n",
       "      <td>GTO</td>\n",
       "      <td>AGS</td>\n",
       "      <td>AGS</td>\n",
       "    </tr>\n",
       "    <tr>\n",
       "      <th>Tmed</th>\n",
       "      <td>16.2</td>\n",
       "      <td>15</td>\n",
       "      <td>16.7</td>\n",
       "      <td>12.3</td>\n",
       "      <td>21.2</td>\n",
       "      <td>15</td>\n",
       "      <td>27.2</td>\n",
       "      <td>25.4</td>\n",
       "      <td>12.8</td>\n",
       "      <td>12.8</td>\n",
       "      <td>14.8</td>\n",
       "      <td>13.3</td>\n",
       "      <td>20</td>\n",
       "      <td>20.1</td>\n",
       "      <td>21.3</td>\n",
       "      <td>10</td>\n",
       "      <td>10.5</td>\n",
       "      <td>13.5</td>\n",
       "      <td>13.2</td>\n",
       "      <td>14</td>\n",
       "    </tr>\n",
       "  </tbody>\n",
       "</table>\n",
       "</div>"
      ],
      "text/plain": [
       "        0      1     2     3     4    5     6     7     8     9     10    11  \\\n",
       "Edo    GTO  TAMPS    BC   PUE  CHIS  GTO   GRO   GRO   VER   ZAC   SON   HGO   \n",
       "Tmed  16.2     15  16.7  12.3  21.2   15  27.2  25.4  12.8  12.8  14.8  13.3   \n",
       "\n",
       "       12    13    14    15    16    17    18   19  \n",
       "Edo   VER   SIN   GRO  COAH   DGO   GTO   AGS  AGS  \n",
       "Tmed   20  20.1  21.3    10  10.5  13.5  13.2   14  "
      ]
     },
     "execution_count": 41,
     "metadata": {},
     "output_type": "execute_result"
    }
   ],
   "source": [
    "Media_2018.iloc[:20,3:6:2].T #Solo mostramos El estado y Temperatura media \n",
    "#Usamos iloc para poder arreglar los datos como un arreglo"
   ]
  },
  {
   "cell_type": "code",
   "execution_count": 42,
   "metadata": {},
   "outputs": [
    {
     "data": {
      "text/html": [
       "<div>\n",
       "<style scoped>\n",
       "    .dataframe tbody tr th:only-of-type {\n",
       "        vertical-align: middle;\n",
       "    }\n",
       "\n",
       "    .dataframe tbody tr th {\n",
       "        vertical-align: top;\n",
       "    }\n",
       "\n",
       "    .dataframe thead th {\n",
       "        text-align: right;\n",
       "    }\n",
       "</style>\n",
       "<table border=\"1\" class=\"dataframe\">\n",
       "  <thead>\n",
       "    <tr style=\"text-align: right;\">\n",
       "      <th></th>\n",
       "      <th>0</th>\n",
       "      <th>1</th>\n",
       "      <th>2</th>\n",
       "      <th>3</th>\n",
       "      <th>4</th>\n",
       "      <th>5</th>\n",
       "      <th>6</th>\n",
       "      <th>7</th>\n",
       "      <th>8</th>\n",
       "      <th>9</th>\n",
       "      <th>...</th>\n",
       "      <th>11</th>\n",
       "      <th>12</th>\n",
       "      <th>13</th>\n",
       "      <th>14</th>\n",
       "      <th>15</th>\n",
       "      <th>16</th>\n",
       "      <th>17</th>\n",
       "      <th>18</th>\n",
       "      <th>19</th>\n",
       "      <th>20</th>\n",
       "    </tr>\n",
       "  </thead>\n",
       "  <tbody>\n",
       "    <tr>\n",
       "      <th>Edo</th>\n",
       "      <td>GTO</td>\n",
       "      <td>TAMPS</td>\n",
       "      <td>BC</td>\n",
       "      <td>PUE</td>\n",
       "      <td>CHIS</td>\n",
       "      <td>GTO</td>\n",
       "      <td>GRO</td>\n",
       "      <td>GRO</td>\n",
       "      <td>VER</td>\n",
       "      <td>ZAC</td>\n",
       "      <td>...</td>\n",
       "      <td>HGO</td>\n",
       "      <td>VER</td>\n",
       "      <td>SIN</td>\n",
       "      <td>GRO</td>\n",
       "      <td>COAH</td>\n",
       "      <td>DGO</td>\n",
       "      <td>GTO</td>\n",
       "      <td>AGS</td>\n",
       "      <td>AGS</td>\n",
       "      <td>DGO</td>\n",
       "    </tr>\n",
       "    <tr>\n",
       "      <th>Tmed</th>\n",
       "      <td>16.2</td>\n",
       "      <td>15</td>\n",
       "      <td>16.7</td>\n",
       "      <td>12.3</td>\n",
       "      <td>21.2</td>\n",
       "      <td>15</td>\n",
       "      <td>27.2</td>\n",
       "      <td>25.4</td>\n",
       "      <td>12.8</td>\n",
       "      <td>12.8</td>\n",
       "      <td>...</td>\n",
       "      <td>13.3</td>\n",
       "      <td>20</td>\n",
       "      <td>20.1</td>\n",
       "      <td>21.3</td>\n",
       "      <td>10</td>\n",
       "      <td>10.5</td>\n",
       "      <td>13.5</td>\n",
       "      <td>13.2</td>\n",
       "      <td>14</td>\n",
       "      <td>12.5</td>\n",
       "    </tr>\n",
       "  </tbody>\n",
       "</table>\n",
       "<p>2 rows × 21 columns</p>\n",
       "</div>"
      ],
      "text/plain": [
       "        0      1     2     3     4    5     6     7     8     9   ...    11  \\\n",
       "Edo    GTO  TAMPS    BC   PUE  CHIS  GTO   GRO   GRO   VER   ZAC  ...   HGO   \n",
       "Tmed  16.2     15  16.7  12.3  21.2   15  27.2  25.4  12.8  12.8  ...  13.3   \n",
       "\n",
       "       12    13    14    15    16    17    18   19    20  \n",
       "Edo   VER   SIN   GRO  COAH   DGO   GTO   AGS  AGS   DGO  \n",
       "Tmed   20  20.1  21.3    10  10.5  13.5  13.2   14  12.5  \n",
       "\n",
       "[2 rows x 21 columns]"
      ]
     },
     "execution_count": 42,
     "metadata": {},
     "output_type": "execute_result"
    }
   ],
   "source": [
    "Media_2018.T.loc['Edo':'Tmed':2,:20]\n",
    "#Usamos loc para poder arreglar los datos como un arreglo Pero usando caracteres"
   ]
  },
  {
   "cell_type": "code",
   "execution_count": 43,
   "metadata": {},
   "outputs": [
    {
     "data": {
      "text/html": [
       "<div>\n",
       "<style scoped>\n",
       "    .dataframe tbody tr th:only-of-type {\n",
       "        vertical-align: middle;\n",
       "    }\n",
       "\n",
       "    .dataframe tbody tr th {\n",
       "        vertical-align: top;\n",
       "    }\n",
       "\n",
       "    .dataframe thead th {\n",
       "        text-align: right;\n",
       "    }\n",
       "</style>\n",
       "<table border=\"1\" class=\"dataframe\">\n",
       "  <thead>\n",
       "    <tr style=\"text-align: right;\">\n",
       "      <th></th>\n",
       "      <th>6</th>\n",
       "      <th>198</th>\n",
       "      <th>283</th>\n",
       "      <th>429</th>\n",
       "      <th>430</th>\n",
       "      <th>437</th>\n",
       "      <th>572</th>\n",
       "      <th>714</th>\n",
       "      <th>717</th>\n",
       "      <th>718</th>\n",
       "      <th>743</th>\n",
       "      <th>797</th>\n",
       "      <th>910</th>\n",
       "      <th>935</th>\n",
       "      <th>1010</th>\n",
       "      <th>1018</th>\n",
       "    </tr>\n",
       "  </thead>\n",
       "  <tbody>\n",
       "    <tr>\n",
       "      <th>Edo</th>\n",
       "      <td>GRO</td>\n",
       "      <td>CHIS</td>\n",
       "      <td>GRO</td>\n",
       "      <td>CHIS</td>\n",
       "      <td>CHIS</td>\n",
       "      <td>COL</td>\n",
       "      <td>GRO</td>\n",
       "      <td>CHIS</td>\n",
       "      <td>CHIS</td>\n",
       "      <td>MICH</td>\n",
       "      <td>MICH</td>\n",
       "      <td>CHIS</td>\n",
       "      <td>GRO</td>\n",
       "      <td>MICH</td>\n",
       "      <td>CHIS</td>\n",
       "      <td>GRO</td>\n",
       "    </tr>\n",
       "    <tr>\n",
       "      <th>Tmed</th>\n",
       "      <td>27.2</td>\n",
       "      <td>27.2</td>\n",
       "      <td>27.2</td>\n",
       "      <td>28.2</td>\n",
       "      <td>28.1</td>\n",
       "      <td>27.7</td>\n",
       "      <td>28.5</td>\n",
       "      <td>27.1</td>\n",
       "      <td>27.4</td>\n",
       "      <td>27.8</td>\n",
       "      <td>27.5</td>\n",
       "      <td>27.8</td>\n",
       "      <td>27.1</td>\n",
       "      <td>28.2</td>\n",
       "      <td>27.3</td>\n",
       "      <td>27.1</td>\n",
       "    </tr>\n",
       "  </tbody>\n",
       "</table>\n",
       "</div>"
      ],
      "text/plain": [
       "      6     198   283   429   430   437   572   714   717   718   743   797   \\\n",
       "Edo    GRO  CHIS   GRO  CHIS  CHIS   COL   GRO  CHIS  CHIS  MICH  MICH  CHIS   \n",
       "Tmed  27.2  27.2  27.2  28.2  28.1  27.7  28.5  27.1  27.4  27.8  27.5  27.8   \n",
       "\n",
       "      910   935   1010  1018  \n",
       "Edo    GRO  MICH  CHIS   GRO  \n",
       "Tmed  27.1  28.2  27.3  27.1  "
      ]
     },
     "execution_count": 43,
     "metadata": {},
     "output_type": "execute_result"
    }
   ],
   "source": [
    "Media_2018.loc[Media_2018.Tmed>27., ['Edo','Tmed']].T #Temperatura media mayor a 27 de los Estados en 2018"
   ]
  },
  {
   "cell_type": "code",
   "execution_count": 44,
   "metadata": {},
   "outputs": [
    {
     "data": {
      "text/html": [
       "<div>\n",
       "<style scoped>\n",
       "    .dataframe tbody tr th:only-of-type {\n",
       "        vertical-align: middle;\n",
       "    }\n",
       "\n",
       "    .dataframe tbody tr th {\n",
       "        vertical-align: top;\n",
       "    }\n",
       "\n",
       "    .dataframe thead th {\n",
       "        text-align: right;\n",
       "    }\n",
       "</style>\n",
       "<table border=\"1\" class=\"dataframe\">\n",
       "  <thead>\n",
       "    <tr style=\"text-align: right;\">\n",
       "      <th></th>\n",
       "      <th>0</th>\n",
       "      <th>2</th>\n",
       "      <th>20</th>\n",
       "      <th>96</th>\n",
       "      <th>143</th>\n",
       "      <th>169</th>\n",
       "      <th>171</th>\n",
       "      <th>191</th>\n",
       "      <th>283</th>\n",
       "      <th>323</th>\n",
       "      <th>555</th>\n",
       "      <th>585</th>\n",
       "    </tr>\n",
       "  </thead>\n",
       "  <tbody>\n",
       "    <tr>\n",
       "      <th>Edo</th>\n",
       "      <td>GRO</td>\n",
       "      <td>CHIS</td>\n",
       "      <td>COL</td>\n",
       "      <td>CHIS</td>\n",
       "      <td>CHIS</td>\n",
       "      <td>COL</td>\n",
       "      <td>COL</td>\n",
       "      <td>GRO</td>\n",
       "      <td>MICH</td>\n",
       "      <td>OAX</td>\n",
       "      <td>GRO</td>\n",
       "      <td>CHIS</td>\n",
       "    </tr>\n",
       "    <tr>\n",
       "      <th>Tmed</th>\n",
       "      <td>27.4419</td>\n",
       "      <td>28.0887</td>\n",
       "      <td>27.1371</td>\n",
       "      <td>28.3968</td>\n",
       "      <td>28.1161</td>\n",
       "      <td>27.1177</td>\n",
       "      <td>27.0484</td>\n",
       "      <td>27.4694</td>\n",
       "      <td>28.5</td>\n",
       "      <td>27.4597</td>\n",
       "      <td>29.8</td>\n",
       "      <td>29.5081</td>\n",
       "    </tr>\n",
       "  </tbody>\n",
       "</table>\n",
       "</div>"
      ],
      "text/plain": [
       "          0        2        20       96       143      169      171      191  \\\n",
       "Edo       GRO     CHIS      COL     CHIS     CHIS      COL      COL      GRO   \n",
       "Tmed  27.4419  28.0887  27.1371  28.3968  28.1161  27.1177  27.0484  27.4694   \n",
       "\n",
       "       283      323   555      585  \n",
       "Edo   MICH      OAX   GRO     CHIS  \n",
       "Tmed  28.5  27.4597  29.8  29.5081  "
      ]
     },
     "execution_count": 44,
     "metadata": {},
     "output_type": "execute_result"
    }
   ],
   "source": [
    "Media_2019.loc[Media_2019.Tmed>27., ['Edo','Tmed']].T #Temperatura media mayor a 27 de los Estados en 2019"
   ]
  },
  {
   "cell_type": "markdown",
   "metadata": {},
   "source": [
    "Aqui modificamos algunos datos de 'family':"
   ]
  },
  {
   "cell_type": "code",
   "execution_count": 45,
   "metadata": {},
   "outputs": [],
   "source": [
    "family.loc['Cristian','EDAD'] = 27 #Usamos loc para ubicar el lugar donde queremos cambira el dato \n",
    "family.loc['Liliana','EDAD'] = 24\n",
    "family.loc['Oscar','EDAD'] = 22\n",
    "family.loc['Pascual','EDAD'] = 57\n",
    "family.loc['Graciela','EDAD'] = 52 "
   ]
  },
  {
   "cell_type": "code",
   "execution_count": 46,
   "metadata": {},
   "outputs": [
    {
     "data": {
      "text/html": [
       "<div>\n",
       "<style scoped>\n",
       "    .dataframe tbody tr th:only-of-type {\n",
       "        vertical-align: middle;\n",
       "    }\n",
       "\n",
       "    .dataframe tbody tr th {\n",
       "        vertical-align: top;\n",
       "    }\n",
       "\n",
       "    .dataframe thead th {\n",
       "        text-align: right;\n",
       "    }\n",
       "</style>\n",
       "<table border=\"1\" class=\"dataframe\">\n",
       "  <thead>\n",
       "    <tr style=\"text-align: right;\">\n",
       "      <th></th>\n",
       "      <th>EDAD</th>\n",
       "      <th>SEXO</th>\n",
       "      <th>TRABAJO</th>\n",
       "      <th>ESTUDIO</th>\n",
       "    </tr>\n",
       "  </thead>\n",
       "  <tbody>\n",
       "    <tr>\n",
       "      <th>Cristian</th>\n",
       "      <td>27</td>\n",
       "      <td>H</td>\n",
       "      <td>False</td>\n",
       "      <td>Licenciatura</td>\n",
       "    </tr>\n",
       "    <tr>\n",
       "      <th>Liliana</th>\n",
       "      <td>24</td>\n",
       "      <td>M</td>\n",
       "      <td>False</td>\n",
       "      <td>Licenciatura</td>\n",
       "    </tr>\n",
       "    <tr>\n",
       "      <th>Oscar</th>\n",
       "      <td>22</td>\n",
       "      <td>H</td>\n",
       "      <td>False</td>\n",
       "      <td>Bachillerato</td>\n",
       "    </tr>\n",
       "    <tr>\n",
       "      <th>Pascual</th>\n",
       "      <td>57</td>\n",
       "      <td>H</td>\n",
       "      <td>False</td>\n",
       "      <td>Secundaria</td>\n",
       "    </tr>\n",
       "    <tr>\n",
       "      <th>Graciela</th>\n",
       "      <td>52</td>\n",
       "      <td>M</td>\n",
       "      <td>False</td>\n",
       "      <td>Primaria</td>\n",
       "    </tr>\n",
       "  </tbody>\n",
       "</table>\n",
       "</div>"
      ],
      "text/plain": [
       "          EDAD SEXO  TRABAJO       ESTUDIO\n",
       "Cristian    27    H    False  Licenciatura\n",
       "Liliana     24    M    False  Licenciatura\n",
       "Oscar       22    H    False  Bachillerato\n",
       "Pascual     57    H    False    Secundaria\n",
       "Graciela    52    M    False      Primaria"
      ]
     },
     "execution_count": 46,
     "metadata": {},
     "output_type": "execute_result"
    }
   ],
   "source": [
    "family"
   ]
  },
  {
   "cell_type": "markdown",
   "metadata": {},
   "source": [
    "## Operando en datos en pandas\n",
    "\n",
    "Para esto usamos los arreglos de year y num del ejercicio anterior "
   ]
  },
  {
   "cell_type": "code",
   "execution_count": 47,
   "metadata": {},
   "outputs": [],
   "source": [
    "manchas_sol = pd.DataFrame(np.reshape(np.append(year_3,num_3),(2,300)).T,columns=['Años','num'])"
   ]
  },
  {
   "cell_type": "code",
   "execution_count": 48,
   "metadata": {},
   "outputs": [
    {
     "data": {
      "text/html": [
       "<div>\n",
       "<style scoped>\n",
       "    .dataframe tbody tr th:only-of-type {\n",
       "        vertical-align: middle;\n",
       "    }\n",
       "\n",
       "    .dataframe tbody tr th {\n",
       "        vertical-align: top;\n",
       "    }\n",
       "\n",
       "    .dataframe thead th {\n",
       "        text-align: right;\n",
       "    }\n",
       "</style>\n",
       "<table border=\"1\" class=\"dataframe\">\n",
       "  <thead>\n",
       "    <tr style=\"text-align: right;\">\n",
       "      <th></th>\n",
       "      <th>Años</th>\n",
       "      <th>num</th>\n",
       "    </tr>\n",
       "  </thead>\n",
       "  <tbody>\n",
       "    <tr>\n",
       "      <th>0</th>\n",
       "      <td>1701.0</td>\n",
       "      <td>11.0</td>\n",
       "    </tr>\n",
       "    <tr>\n",
       "      <th>1</th>\n",
       "      <td>1702.0</td>\n",
       "      <td>16.0</td>\n",
       "    </tr>\n",
       "    <tr>\n",
       "      <th>2</th>\n",
       "      <td>1703.0</td>\n",
       "      <td>23.0</td>\n",
       "    </tr>\n",
       "    <tr>\n",
       "      <th>3</th>\n",
       "      <td>1704.0</td>\n",
       "      <td>36.0</td>\n",
       "    </tr>\n",
       "    <tr>\n",
       "      <th>4</th>\n",
       "      <td>1705.0</td>\n",
       "      <td>58.0</td>\n",
       "    </tr>\n",
       "    <tr>\n",
       "      <th>5</th>\n",
       "      <td>1706.0</td>\n",
       "      <td>29.0</td>\n",
       "    </tr>\n",
       "    <tr>\n",
       "      <th>6</th>\n",
       "      <td>1707.0</td>\n",
       "      <td>20.0</td>\n",
       "    </tr>\n",
       "    <tr>\n",
       "      <th>7</th>\n",
       "      <td>1708.0</td>\n",
       "      <td>10.0</td>\n",
       "    </tr>\n",
       "    <tr>\n",
       "      <th>8</th>\n",
       "      <td>1709.0</td>\n",
       "      <td>8.0</td>\n",
       "    </tr>\n",
       "    <tr>\n",
       "      <th>9</th>\n",
       "      <td>1710.0</td>\n",
       "      <td>3.0</td>\n",
       "    </tr>\n",
       "  </tbody>\n",
       "</table>\n",
       "</div>"
      ],
      "text/plain": [
       "     Años   num\n",
       "0  1701.0  11.0\n",
       "1  1702.0  16.0\n",
       "2  1703.0  23.0\n",
       "3  1704.0  36.0\n",
       "4  1705.0  58.0\n",
       "5  1706.0  29.0\n",
       "6  1707.0  20.0\n",
       "7  1708.0  10.0\n",
       "8  1709.0   8.0\n",
       "9  1710.0   3.0"
      ]
     },
     "execution_count": 48,
     "metadata": {},
     "output_type": "execute_result"
    }
   ],
   "source": [
    "manchas_sol[0:10]"
   ]
  },
  {
   "cell_type": "markdown",
   "metadata": {},
   "source": [
    "Aplicamos operadores de numpy al objeto:"
   ]
  },
  {
   "cell_type": "code",
   "execution_count": 49,
   "metadata": {},
   "outputs": [
    {
     "data": {
      "text/plain": [
       "0    2.397895\n",
       "1    2.772589\n",
       "2    3.135494\n",
       "3    3.583519\n",
       "4    4.060443\n",
       "5    3.367296\n",
       "6    2.995732\n",
       "7    2.302585\n",
       "8    2.079442\n",
       "Name: num, dtype: float64"
      ]
     },
     "execution_count": 49,
     "metadata": {},
     "output_type": "execute_result"
    }
   ],
   "source": [
    "np.log(manchas_sol.num[0:9]) #hacemos el logaritmo de los primero datos de num"
   ]
  },
  {
   "cell_type": "code",
   "execution_count": 50,
   "metadata": {},
   "outputs": [
    {
     "data": {
      "text/plain": [
       "49.979"
      ]
     },
     "execution_count": 50,
     "metadata": {},
     "output_type": "execute_result"
    }
   ],
   "source": [
    "np.mean(manchas_sol.num) #Podemos obtener el promedio de las manchas solares"
   ]
  },
  {
   "cell_type": "code",
   "execution_count": 51,
   "metadata": {},
   "outputs": [
    {
     "data": {
      "text/plain": [
       "Index(['CLAVE_SIH', 'EDO', 'ENE', 'ESTADO', 'LAT', 'LON', 'MAY', 'NOMBRE'], dtype='object')"
      ]
     },
     "execution_count": 51,
     "metadata": {},
     "output_type": "execute_result"
    }
   ],
   "source": [
    "lluvias_2018.keys() | lluvias_2019.keys() #Union de los indices de las columnas de cada objeto"
   ]
  },
  {
   "cell_type": "code",
   "execution_count": 52,
   "metadata": {},
   "outputs": [
    {
     "name": "stdout",
     "output_type": "stream",
     "text": [
      "RangeIndex(start=0, stop=1884, step=1)\n",
      "RangeIndex(start=0, stop=1221, step=1)\n"
     ]
    }
   ],
   "source": [
    "print(lluvias_2018.index)\n",
    "print(lluvias_2019.index)"
   ]
  },
  {
   "cell_type": "code",
   "execution_count": 53,
   "metadata": {},
   "outputs": [
    {
     "name": "stdout",
     "output_type": "stream",
     "text": [
      "1215    22.4\n",
      "1216    17.2\n",
      "1217    29.8\n",
      "1218    43.3\n",
      "1219     0.0\n",
      "1220     0.0\n",
      "1221     0.0\n",
      "1222    20.0\n",
      "1223     1.9\n",
      "1224     0.0\n",
      "Name: ENE, dtype: float64\n",
      "1210    2.32\n",
      "1211    0.40\n",
      "1212    2.80\n",
      "1213    1.00\n",
      "1214    4.21\n",
      "1215    0.00\n",
      "1216    4.00\n",
      "1217    0.02\n",
      "1218    0.00\n",
      "1219    4.51\n",
      "1220    0.00\n",
      "Name: MAY, dtype: float64\n"
     ]
    }
   ],
   "source": [
    "print(lluvias_2018.ENE[1215:1225])\n",
    "print(lluvias_2019.MAY[1210:])"
   ]
  },
  {
   "cell_type": "code",
   "execution_count": 54,
   "metadata": {},
   "outputs": [
    {
     "data": {
      "text/plain": [
       "1210      NaN\n",
       "1211      NaN\n",
       "1212      NaN\n",
       "1213      NaN\n",
       "1214      NaN\n",
       "1215    22.40\n",
       "1216    21.20\n",
       "1217    29.82\n",
       "1218    43.30\n",
       "1219     4.51\n",
       "1220     0.00\n",
       "1221      NaN\n",
       "1222      NaN\n",
       "1223      NaN\n",
       "1224      NaN\n",
       "dtype: float64"
      ]
     },
     "execution_count": 54,
     "metadata": {},
     "output_type": "execute_result"
    }
   ],
   "source": [
    "lluvias_2018.ENE[1215:1225] + lluvias_2019.MAY[1210:]"
   ]
  },
  {
   "cell_type": "code",
   "execution_count": 55,
   "metadata": {},
   "outputs": [
    {
     "data": {
      "text/plain": [
       "1210     2.32\n",
       "1211     0.40\n",
       "1212     2.80\n",
       "1213     1.00\n",
       "1214     4.21\n",
       "1215    22.40\n",
       "1216    21.20\n",
       "1217    29.82\n",
       "1218    43.30\n",
       "1219     4.51\n",
       "1220     0.00\n",
       "1221     0.00\n",
       "1222    20.00\n",
       "1223     1.90\n",
       "1224     0.00\n",
       "dtype: float64"
      ]
     },
     "execution_count": 55,
     "metadata": {},
     "output_type": "execute_result"
    }
   ],
   "source": [
    "lluvias_2018.ENE[1215:1225].add(lluvias_2019.MAY[1210:], fill_value=0) \n",
    "#add. para sumar los arreglos de 2018 y 2019 haciendo un arreglo con la interseccion de ambos "
   ]
  },
  {
   "cell_type": "code",
   "execution_count": 56,
   "metadata": {},
   "outputs": [
    {
     "data": {
      "text/plain": [
       "1210    -2.32\n",
       "1211    -0.40\n",
       "1212    -2.80\n",
       "1213    -1.00\n",
       "1214    -4.21\n",
       "1215    22.40\n",
       "1216    13.20\n",
       "1217    29.78\n",
       "1218    43.30\n",
       "1219    -4.51\n",
       "1220     0.00\n",
       "1221     0.00\n",
       "1222    20.00\n",
       "1223     1.90\n",
       "1224     0.00\n",
       "dtype: float64"
      ]
     },
     "execution_count": 56,
     "metadata": {},
     "output_type": "execute_result"
    }
   ],
   "source": [
    "lluvias_2018.ENE[1215:1225].subtract(lluvias_2019.MAY[1210:], fill_value=0) "
   ]
  },
  {
   "cell_type": "markdown",
   "metadata": {},
   "source": [
    "## Handling Missing Data"
   ]
  },
  {
   "cell_type": "code",
   "execution_count": 57,
   "metadata": {},
   "outputs": [],
   "source": [
    "arr_nul = lluvias_2018.ENE[1215:1225] + lluvias_2019.MAY[1210:]"
   ]
  },
  {
   "cell_type": "code",
   "execution_count": 58,
   "metadata": {},
   "outputs": [
    {
     "data": {
      "text/plain": [
       "121.22999999999999"
      ]
     },
     "execution_count": 58,
     "metadata": {},
     "output_type": "execute_result"
    }
   ],
   "source": [
    "np.nansum(arr_nul)"
   ]
  },
  {
   "cell_type": "code",
   "execution_count": 59,
   "metadata": {},
   "outputs": [
    {
     "data": {
      "text/plain": [
       "0.0"
      ]
     },
     "execution_count": 59,
     "metadata": {},
     "output_type": "execute_result"
    }
   ],
   "source": [
    "np.nanmin(arr_nul)"
   ]
  },
  {
   "cell_type": "code",
   "execution_count": 60,
   "metadata": {},
   "outputs": [
    {
     "data": {
      "text/plain": [
       "43.3"
      ]
     },
     "execution_count": 60,
     "metadata": {},
     "output_type": "execute_result"
    }
   ],
   "source": [
    "np.nanmax(arr_nul)"
   ]
  },
  {
   "cell_type": "code",
   "execution_count": 61,
   "metadata": {},
   "outputs": [
    {
     "data": {
      "text/plain": [
       "1210     True\n",
       "1211     True\n",
       "1212     True\n",
       "1213     True\n",
       "1214     True\n",
       "1215    False\n",
       "1216    False\n",
       "1217    False\n",
       "1218    False\n",
       "1219    False\n",
       "1220    False\n",
       "1221     True\n",
       "1222     True\n",
       "1223     True\n",
       "1224     True\n",
       "dtype: bool"
      ]
     },
     "execution_count": 61,
     "metadata": {},
     "output_type": "execute_result"
    }
   ],
   "source": [
    "arr_nul.isnull() #cuales elementos son nulos"
   ]
  },
  {
   "cell_type": "code",
   "execution_count": 62,
   "metadata": {},
   "outputs": [
    {
     "data": {
      "text/plain": [
       "1210    False\n",
       "1211    False\n",
       "1212    False\n",
       "1213    False\n",
       "1214    False\n",
       "1215     True\n",
       "1216     True\n",
       "1217     True\n",
       "1218     True\n",
       "1219     True\n",
       "1220     True\n",
       "1221    False\n",
       "1222    False\n",
       "1223    False\n",
       "1224    False\n",
       "dtype: bool"
      ]
     },
     "execution_count": 62,
     "metadata": {},
     "output_type": "execute_result"
    }
   ],
   "source": [
    "arr_nul.notnull() #suales elementos no son nulos"
   ]
  },
  {
   "cell_type": "code",
   "execution_count": 63,
   "metadata": {},
   "outputs": [
    {
     "data": {
      "text/plain": [
       "1215    22.40\n",
       "1216    21.20\n",
       "1217    29.82\n",
       "1218    43.30\n",
       "1219     4.51\n",
       "1220     0.00\n",
       "dtype: float64"
      ]
     },
     "execution_count": 63,
     "metadata": {},
     "output_type": "execute_result"
    }
   ],
   "source": [
    "arr_nul[arr_nul.notnull()]"
   ]
  },
  {
   "cell_type": "code",
   "execution_count": 64,
   "metadata": {},
   "outputs": [
    {
     "data": {
      "text/plain": [
       "1215    22.40\n",
       "1216    21.20\n",
       "1217    29.82\n",
       "1218    43.30\n",
       "1219     4.51\n",
       "1220     0.00\n",
       "dtype: float64"
      ]
     },
     "execution_count": 64,
     "metadata": {},
     "output_type": "execute_result"
    }
   ],
   "source": [
    "arr_nul.dropna() #podemos simplificar lo anterior con dropnan"
   ]
  },
  {
   "cell_type": "code",
   "execution_count": 65,
   "metadata": {},
   "outputs": [
    {
     "data": {
      "text/plain": [
       "1210     0.00\n",
       "1211     0.00\n",
       "1212     0.00\n",
       "1213     0.00\n",
       "1214     0.00\n",
       "1215    22.40\n",
       "1216    21.20\n",
       "1217    29.82\n",
       "1218    43.30\n",
       "1219     4.51\n",
       "1220     0.00\n",
       "1221     0.00\n",
       "1222     0.00\n",
       "1223     0.00\n",
       "1224     0.00\n",
       "dtype: float64"
      ]
     },
     "execution_count": 65,
     "metadata": {},
     "output_type": "execute_result"
    }
   ],
   "source": [
    "arr_nul.fillna(0) #Podemos llenar los elementos NaN con ceros"
   ]
  },
  {
   "cell_type": "code",
   "execution_count": 66,
   "metadata": {},
   "outputs": [
    {
     "data": {
      "text/plain": [
       "1210      NaN\n",
       "1211      NaN\n",
       "1212      NaN\n",
       "1213      NaN\n",
       "1214      NaN\n",
       "1215    22.40\n",
       "1216    21.20\n",
       "1217    29.82\n",
       "1218    43.30\n",
       "1219     4.51\n",
       "1220     0.00\n",
       "1221     0.00\n",
       "1222     0.00\n",
       "1223     0.00\n",
       "1224     0.00\n",
       "dtype: float64"
      ]
     },
     "execution_count": 66,
     "metadata": {},
     "output_type": "execute_result"
    }
   ],
   "source": [
    "arr_nul.fillna(method='ffill') #Llenar los NaN con los elementos previos"
   ]
  },
  {
   "cell_type": "code",
   "execution_count": 67,
   "metadata": {},
   "outputs": [
    {
     "data": {
      "text/plain": [
       "1210    22.40\n",
       "1211    22.40\n",
       "1212    22.40\n",
       "1213    22.40\n",
       "1214    22.40\n",
       "1215    22.40\n",
       "1216    21.20\n",
       "1217    29.82\n",
       "1218    43.30\n",
       "1219     4.51\n",
       "1220     0.00\n",
       "1221      NaN\n",
       "1222      NaN\n",
       "1223      NaN\n",
       "1224      NaN\n",
       "dtype: float64"
      ]
     },
     "execution_count": 67,
     "metadata": {},
     "output_type": "execute_result"
    }
   ],
   "source": [
    "arr_nul.fillna(method='bfill') #Llenar los NaN con los elementos siguientes"
   ]
  },
  {
   "cell_type": "markdown",
   "metadata": {},
   "source": [
    "## Indexación jerárquica"
   ]
  },
  {
   "cell_type": "markdown",
   "metadata": {},
   "source": [
    "Creamos un objeto con caracter Jerárquico"
   ]
  },
  {
   "cell_type": "code",
   "execution_count": 68,
   "metadata": {},
   "outputs": [],
   "source": [
    "M_GTO_18 = Media_2018[ (Media_2018.Edo == 'GTO') & (Media_2018.Est == 'LEON')^ (Media_2018.Est == 'IRAPUATO')^ (Media_2018.Est == 'SALAMANCA')]"
   ]
  },
  {
   "cell_type": "code",
   "execution_count": 69,
   "metadata": {},
   "outputs": [],
   "source": [
    "M_GTO_19 = Media_2019[(Media_2019.Edo == 'GTO') & (Media_2019.Est == 'León Gto.')^(Media_2019.Est == 'Irapuato Gto.')^(Media_2019.Est == 'Salamanca Gto.')]"
   ]
  },
  {
   "cell_type": "code",
   "execution_count": 70,
   "metadata": {},
   "outputs": [
    {
     "data": {
      "text/html": [
       "<div>\n",
       "<style scoped>\n",
       "    .dataframe tbody tr th:only-of-type {\n",
       "        vertical-align: middle;\n",
       "    }\n",
       "\n",
       "    .dataframe tbody tr th {\n",
       "        vertical-align: top;\n",
       "    }\n",
       "\n",
       "    .dataframe thead th {\n",
       "        text-align: right;\n",
       "    }\n",
       "</style>\n",
       "<table border=\"1\" class=\"dataframe\">\n",
       "  <thead>\n",
       "    <tr style=\"text-align: right;\">\n",
       "      <th></th>\n",
       "      <th>Lon</th>\n",
       "      <th>Lat</th>\n",
       "      <th>Clave</th>\n",
       "      <th>Edo</th>\n",
       "      <th>Est</th>\n",
       "      <th>Tmed</th>\n",
       "    </tr>\n",
       "  </thead>\n",
       "  <tbody>\n",
       "    <tr>\n",
       "      <th>201</th>\n",
       "      <td>-101.35</td>\n",
       "      <td>20.68</td>\n",
       "      <td>IRPGJ</td>\n",
       "      <td>GTO</td>\n",
       "      <td>IRAPUATO</td>\n",
       "      <td>15.4</td>\n",
       "    </tr>\n",
       "    <tr>\n",
       "      <th>229</th>\n",
       "      <td>-101.66</td>\n",
       "      <td>21.10</td>\n",
       "      <td>LENGJ</td>\n",
       "      <td>GTO</td>\n",
       "      <td>LEON</td>\n",
       "      <td>16.0</td>\n",
       "    </tr>\n",
       "    <tr>\n",
       "      <th>568</th>\n",
       "      <td>-101.20</td>\n",
       "      <td>20.56</td>\n",
       "      <td>SLMGJ</td>\n",
       "      <td>GTO</td>\n",
       "      <td>SALAMANCA</td>\n",
       "      <td>15.2</td>\n",
       "    </tr>\n",
       "  </tbody>\n",
       "</table>\n",
       "</div>"
      ],
      "text/plain": [
       "        Lon    Lat  Clave  Edo        Est  Tmed\n",
       "201 -101.35  20.68  IRPGJ  GTO   IRAPUATO  15.4\n",
       "229 -101.66  21.10  LENGJ  GTO       LEON  16.0\n",
       "568 -101.20  20.56  SLMGJ  GTO  SALAMANCA  15.2"
      ]
     },
     "execution_count": 70,
     "metadata": {},
     "output_type": "execute_result"
    }
   ],
   "source": [
    "M_GTO_18"
   ]
  },
  {
   "cell_type": "markdown",
   "metadata": {},
   "source": [
    "## Combining Datasets: Concat and Append"
   ]
  },
  {
   "cell_type": "code",
   "execution_count": 71,
   "metadata": {},
   "outputs": [],
   "source": [
    "#Usamos la función del libro\n",
    "def make_df(cols, ind):\n",
    "    data = {c: [str(c) + str(i) for i in ind]\n",
    "            for c in cols}\n",
    "    return pd.DataFrame(data, ind)"
   ]
  },
  {
   "cell_type": "code",
   "execution_count": 72,
   "metadata": {},
   "outputs": [
    {
     "data": {
      "text/plain": [
       "{'A': ['A0', 'A1', 'A2'], 'B': ['B0', 'B1', 'B2'], 'C': ['C0', 'C1', 'C2']}"
      ]
     },
     "execution_count": 72,
     "metadata": {},
     "output_type": "execute_result"
    }
   ],
   "source": [
    "{c: [str(c) + str(i) for i in range(3)]for c in 'ABC'} #vemos lo que hace el ciclo:"
   ]
  },
  {
   "cell_type": "code",
   "execution_count": 73,
   "metadata": {},
   "outputs": [
    {
     "data": {
      "text/html": [
       "<div>\n",
       "<style scoped>\n",
       "    .dataframe tbody tr th:only-of-type {\n",
       "        vertical-align: middle;\n",
       "    }\n",
       "\n",
       "    .dataframe tbody tr th {\n",
       "        vertical-align: top;\n",
       "    }\n",
       "\n",
       "    .dataframe thead th {\n",
       "        text-align: right;\n",
       "    }\n",
       "</style>\n",
       "<table border=\"1\" class=\"dataframe\">\n",
       "  <thead>\n",
       "    <tr style=\"text-align: right;\">\n",
       "      <th></th>\n",
       "      <th>A</th>\n",
       "      <th>B</th>\n",
       "      <th>C</th>\n",
       "      <th>D</th>\n",
       "      <th>F</th>\n",
       "      <th>G</th>\n",
       "    </tr>\n",
       "  </thead>\n",
       "  <tbody>\n",
       "    <tr>\n",
       "      <th>0</th>\n",
       "      <td>A0</td>\n",
       "      <td>B0</td>\n",
       "      <td>C0</td>\n",
       "      <td>D0</td>\n",
       "      <td>F0</td>\n",
       "      <td>G0</td>\n",
       "    </tr>\n",
       "    <tr>\n",
       "      <th>1</th>\n",
       "      <td>A1</td>\n",
       "      <td>B1</td>\n",
       "      <td>C1</td>\n",
       "      <td>D1</td>\n",
       "      <td>F1</td>\n",
       "      <td>G1</td>\n",
       "    </tr>\n",
       "    <tr>\n",
       "      <th>2</th>\n",
       "      <td>A2</td>\n",
       "      <td>B2</td>\n",
       "      <td>C2</td>\n",
       "      <td>D2</td>\n",
       "      <td>F2</td>\n",
       "      <td>G2</td>\n",
       "    </tr>\n",
       "    <tr>\n",
       "      <th>3</th>\n",
       "      <td>A3</td>\n",
       "      <td>B3</td>\n",
       "      <td>C3</td>\n",
       "      <td>D3</td>\n",
       "      <td>F3</td>\n",
       "      <td>G3</td>\n",
       "    </tr>\n",
       "    <tr>\n",
       "      <th>4</th>\n",
       "      <td>A4</td>\n",
       "      <td>B4</td>\n",
       "      <td>C4</td>\n",
       "      <td>D4</td>\n",
       "      <td>F4</td>\n",
       "      <td>G4</td>\n",
       "    </tr>\n",
       "    <tr>\n",
       "      <th>5</th>\n",
       "      <td>A5</td>\n",
       "      <td>B5</td>\n",
       "      <td>C5</td>\n",
       "      <td>D5</td>\n",
       "      <td>F5</td>\n",
       "      <td>G5</td>\n",
       "    </tr>\n",
       "  </tbody>\n",
       "</table>\n",
       "</div>"
      ],
      "text/plain": [
       "    A   B   C   D   F   G\n",
       "0  A0  B0  C0  D0  F0  G0\n",
       "1  A1  B1  C1  D1  F1  G1\n",
       "2  A2  B2  C2  D2  F2  G2\n",
       "3  A3  B3  C3  D3  F3  G3\n",
       "4  A4  B4  C4  D4  F4  G4\n",
       "5  A5  B5  C5  D5  F5  G5"
      ]
     },
     "execution_count": 73,
     "metadata": {},
     "output_type": "execute_result"
    }
   ],
   "source": [
    "make_df('ABCDFG',range(6))"
   ]
  },
  {
   "cell_type": "markdown",
   "metadata": {},
   "source": [
    "### Concatenar con pd.concat"
   ]
  },
  {
   "cell_type": "code",
   "execution_count": 74,
   "metadata": {},
   "outputs": [
    {
     "data": {
      "text/html": [
       "<div>\n",
       "<style scoped>\n",
       "    .dataframe tbody tr th:only-of-type {\n",
       "        vertical-align: middle;\n",
       "    }\n",
       "\n",
       "    .dataframe tbody tr th {\n",
       "        vertical-align: top;\n",
       "    }\n",
       "\n",
       "    .dataframe thead th {\n",
       "        text-align: right;\n",
       "    }\n",
       "</style>\n",
       "<table border=\"1\" class=\"dataframe\">\n",
       "  <thead>\n",
       "    <tr style=\"text-align: right;\">\n",
       "      <th></th>\n",
       "      <th>Lon</th>\n",
       "      <th>Lat</th>\n",
       "      <th>Clave</th>\n",
       "      <th>Edo</th>\n",
       "      <th>Est</th>\n",
       "      <th>Tmed</th>\n",
       "    </tr>\n",
       "  </thead>\n",
       "  <tbody>\n",
       "    <tr>\n",
       "      <th>229</th>\n",
       "      <td>-101.66</td>\n",
       "      <td>21.1</td>\n",
       "      <td>LENGJ</td>\n",
       "      <td>GTO</td>\n",
       "      <td>LEON</td>\n",
       "      <td>16.0</td>\n",
       "    </tr>\n",
       "  </tbody>\n",
       "</table>\n",
       "</div>"
      ],
      "text/plain": [
       "        Lon   Lat  Clave  Edo   Est  Tmed\n",
       "229 -101.66  21.1  LENGJ  GTO  LEON  16.0"
      ]
     },
     "metadata": {},
     "output_type": "display_data"
    },
    {
     "data": {
      "text/html": [
       "<div>\n",
       "<style scoped>\n",
       "    .dataframe tbody tr th:only-of-type {\n",
       "        vertical-align: middle;\n",
       "    }\n",
       "\n",
       "    .dataframe tbody tr th {\n",
       "        vertical-align: top;\n",
       "    }\n",
       "\n",
       "    .dataframe thead th {\n",
       "        text-align: right;\n",
       "    }\n",
       "</style>\n",
       "<table border=\"1\" class=\"dataframe\">\n",
       "  <thead>\n",
       "    <tr style=\"text-align: right;\">\n",
       "      <th></th>\n",
       "      <th>Lon</th>\n",
       "      <th>Lat</th>\n",
       "      <th>Clave</th>\n",
       "      <th>Edo</th>\n",
       "      <th>Est</th>\n",
       "      <th>Tmed</th>\n",
       "    </tr>\n",
       "  </thead>\n",
       "  <tbody>\n",
       "    <tr>\n",
       "      <th>238</th>\n",
       "      <td>-101.67</td>\n",
       "      <td>21.1</td>\n",
       "      <td>LENGJ</td>\n",
       "      <td>GTO</td>\n",
       "      <td>León Gto.</td>\n",
       "      <td>17.790323</td>\n",
       "    </tr>\n",
       "  </tbody>\n",
       "</table>\n",
       "</div>"
      ],
      "text/plain": [
       "        Lon   Lat  Clave  Edo        Est       Tmed\n",
       "238 -101.67  21.1  LENGJ  GTO  León Gto.  17.790323"
      ]
     },
     "metadata": {},
     "output_type": "display_data"
    }
   ],
   "source": [
    "#Tomamos los sigientes dos arreglos de Temperaturas medias en Leon Guanajuato:\n",
    "Tmed_GTO_18 = Media_2018[(Media_2018.Edo == 'GTO' ) & (Media_2018.Est == 'LEON')]\n",
    "Tmed_GTO_19 = Media_2019[(Media_2019.Edo == 'GTO' ) & (Media_2019.Est == 'León Gto.')]\n",
    "display(Tmed_GTO_18,Tmed_GTO_19)"
   ]
  },
  {
   "cell_type": "code",
   "execution_count": 75,
   "metadata": {},
   "outputs": [],
   "source": [
    "Tmed_Leon = pd.concat([Tmed_GTO_18,Tmed_GTO_19],ignore_index=True) # ignore_index=True para cambiar los index originales y reiniciarlos \n",
    "Tmed_Leon['AÑO'] = ['2018','2019'] #Agregamos una nueva columna que distinga los años"
   ]
  },
  {
   "cell_type": "code",
   "execution_count": 76,
   "metadata": {},
   "outputs": [
    {
     "data": {
      "text/html": [
       "<div>\n",
       "<style scoped>\n",
       "    .dataframe tbody tr th:only-of-type {\n",
       "        vertical-align: middle;\n",
       "    }\n",
       "\n",
       "    .dataframe tbody tr th {\n",
       "        vertical-align: top;\n",
       "    }\n",
       "\n",
       "    .dataframe thead th {\n",
       "        text-align: right;\n",
       "    }\n",
       "</style>\n",
       "<table border=\"1\" class=\"dataframe\">\n",
       "  <thead>\n",
       "    <tr style=\"text-align: right;\">\n",
       "      <th></th>\n",
       "      <th>Lon</th>\n",
       "      <th>Lat</th>\n",
       "      <th>Clave</th>\n",
       "      <th>Edo</th>\n",
       "      <th>Est</th>\n",
       "      <th>Tmed</th>\n",
       "      <th>AÑO</th>\n",
       "    </tr>\n",
       "  </thead>\n",
       "  <tbody>\n",
       "    <tr>\n",
       "      <th>0</th>\n",
       "      <td>-101.66</td>\n",
       "      <td>21.1</td>\n",
       "      <td>LENGJ</td>\n",
       "      <td>GTO</td>\n",
       "      <td>LEON</td>\n",
       "      <td>16.000000</td>\n",
       "      <td>2018</td>\n",
       "    </tr>\n",
       "    <tr>\n",
       "      <th>1</th>\n",
       "      <td>-101.67</td>\n",
       "      <td>21.1</td>\n",
       "      <td>LENGJ</td>\n",
       "      <td>GTO</td>\n",
       "      <td>León Gto.</td>\n",
       "      <td>17.790323</td>\n",
       "      <td>2019</td>\n",
       "    </tr>\n",
       "  </tbody>\n",
       "</table>\n",
       "</div>"
      ],
      "text/plain": [
       "      Lon   Lat  Clave  Edo        Est       Tmed   AÑO\n",
       "0 -101.66  21.1  LENGJ  GTO       LEON  16.000000  2018\n",
       "1 -101.67  21.1  LENGJ  GTO  León Gto.  17.790323  2019"
      ]
     },
     "metadata": {},
     "output_type": "display_data"
    }
   ],
   "source": [
    "display(Tmed_Leon)"
   ]
  },
  {
   "cell_type": "code",
   "execution_count": 77,
   "metadata": {},
   "outputs": [
    {
     "data": {
      "text/html": [
       "<div>\n",
       "<style scoped>\n",
       "    .dataframe tbody tr th:only-of-type {\n",
       "        vertical-align: middle;\n",
       "    }\n",
       "\n",
       "    .dataframe tbody tr th {\n",
       "        vertical-align: top;\n",
       "    }\n",
       "\n",
       "    .dataframe thead th {\n",
       "        text-align: right;\n",
       "    }\n",
       "</style>\n",
       "<table border=\"1\" class=\"dataframe\">\n",
       "  <thead>\n",
       "    <tr style=\"text-align: right;\">\n",
       "      <th></th>\n",
       "      <th></th>\n",
       "      <th>Lon</th>\n",
       "      <th>Lat</th>\n",
       "      <th>Clave</th>\n",
       "      <th>Edo</th>\n",
       "      <th>Est</th>\n",
       "      <th>Tmed</th>\n",
       "    </tr>\n",
       "  </thead>\n",
       "  <tbody>\n",
       "    <tr>\n",
       "      <th>2018</th>\n",
       "      <th>229</th>\n",
       "      <td>-101.66</td>\n",
       "      <td>21.1</td>\n",
       "      <td>LENGJ</td>\n",
       "      <td>GTO</td>\n",
       "      <td>LEON</td>\n",
       "      <td>16.000000</td>\n",
       "    </tr>\n",
       "    <tr>\n",
       "      <th>2019</th>\n",
       "      <th>238</th>\n",
       "      <td>-101.67</td>\n",
       "      <td>21.1</td>\n",
       "      <td>LENGJ</td>\n",
       "      <td>GTO</td>\n",
       "      <td>León Gto.</td>\n",
       "      <td>17.790323</td>\n",
       "    </tr>\n",
       "  </tbody>\n",
       "</table>\n",
       "</div>"
      ],
      "text/plain": [
       "             Lon   Lat  Clave  Edo        Est       Tmed\n",
       "2018 229 -101.66  21.1  LENGJ  GTO       LEON  16.000000\n",
       "2019 238 -101.67  21.1  LENGJ  GTO  León Gto.  17.790323"
      ]
     },
     "metadata": {},
     "output_type": "display_data"
    }
   ],
   "source": [
    "Tmed_Leon_2 = pd.concat([Tmed_GTO_18,Tmed_GTO_19],keys=['2018', '2019'])\n",
    "display(Tmed_Leon_2)"
   ]
  },
  {
   "cell_type": "code",
   "execution_count": 83,
   "metadata": {},
   "outputs": [
    {
     "data": {
      "text/html": [
       "<div>\n",
       "<style scoped>\n",
       "    .dataframe tbody tr th:only-of-type {\n",
       "        vertical-align: middle;\n",
       "    }\n",
       "\n",
       "    .dataframe tbody tr th {\n",
       "        vertical-align: top;\n",
       "    }\n",
       "\n",
       "    .dataframe thead th {\n",
       "        text-align: right;\n",
       "    }\n",
       "</style>\n",
       "<table border=\"1\" class=\"dataframe\">\n",
       "  <thead>\n",
       "    <tr style=\"text-align: right;\">\n",
       "      <th></th>\n",
       "      <th>Lon</th>\n",
       "      <th>Lat</th>\n",
       "      <th>Clave</th>\n",
       "      <th>Edo</th>\n",
       "      <th>Est</th>\n",
       "      <th>Tmed</th>\n",
       "    </tr>\n",
       "  </thead>\n",
       "  <tbody>\n",
       "    <tr>\n",
       "      <th>229</th>\n",
       "      <td>-101.66</td>\n",
       "      <td>21.1</td>\n",
       "      <td>LENGJ</td>\n",
       "      <td>GTO</td>\n",
       "      <td>LEON</td>\n",
       "      <td>16.000000</td>\n",
       "    </tr>\n",
       "    <tr>\n",
       "      <th>238</th>\n",
       "      <td>-101.67</td>\n",
       "      <td>21.1</td>\n",
       "      <td>LENGJ</td>\n",
       "      <td>GTO</td>\n",
       "      <td>León Gto.</td>\n",
       "      <td>17.790323</td>\n",
       "    </tr>\n",
       "  </tbody>\n",
       "</table>\n",
       "</div>"
      ],
      "text/plain": [
       "        Lon   Lat  Clave  Edo        Est       Tmed\n",
       "229 -101.66  21.1  LENGJ  GTO       LEON  16.000000\n",
       "238 -101.67  21.1  LENGJ  GTO  León Gto.  17.790323"
      ]
     },
     "metadata": {},
     "output_type": "display_data"
    }
   ],
   "source": [
    "#Tambien existe append:\n",
    "Tmed_Leon_3 = Tmed_GTO_18.append(Tmed_GTO_19)\n",
    "display(Tmed_Leon_3)"
   ]
  },
  {
   "cell_type": "markdown",
   "metadata": {},
   "source": [
    "## Combinar conjuntos de datos: Merge and Join"
   ]
  },
  {
   "cell_type": "code",
   "execution_count": 84,
   "metadata": {},
   "outputs": [
    {
     "data": {
      "text/html": [
       "<div>\n",
       "<style scoped>\n",
       "    .dataframe tbody tr th:only-of-type {\n",
       "        vertical-align: middle;\n",
       "    }\n",
       "\n",
       "    .dataframe tbody tr th {\n",
       "        vertical-align: top;\n",
       "    }\n",
       "\n",
       "    .dataframe thead th {\n",
       "        text-align: right;\n",
       "    }\n",
       "</style>\n",
       "<table border=\"1\" class=\"dataframe\">\n",
       "  <thead>\n",
       "    <tr style=\"text-align: right;\">\n",
       "      <th></th>\n",
       "      <th>Est</th>\n",
       "      <th>Año</th>\n",
       "    </tr>\n",
       "  </thead>\n",
       "  <tbody>\n",
       "    <tr>\n",
       "      <th>0</th>\n",
       "      <td>LEON</td>\n",
       "      <td>2018</td>\n",
       "    </tr>\n",
       "    <tr>\n",
       "      <th>1</th>\n",
       "      <td>León Gto.</td>\n",
       "      <td>2019</td>\n",
       "    </tr>\n",
       "  </tbody>\n",
       "</table>\n",
       "</div>"
      ],
      "text/plain": [
       "         Est   Año\n",
       "0       LEON  2018\n",
       "1  León Gto.  2019"
      ]
     },
     "execution_count": 84,
     "metadata": {},
     "output_type": "execute_result"
    }
   ],
   "source": [
    "Años = pd.DataFrame({'Est':['LEON','León Gto.'],'Año':['2018','2019']})\n",
    "Años"
   ]
  },
  {
   "cell_type": "code",
   "execution_count": 85,
   "metadata": {},
   "outputs": [
    {
     "data": {
      "text/html": [
       "<div>\n",
       "<style scoped>\n",
       "    .dataframe tbody tr th:only-of-type {\n",
       "        vertical-align: middle;\n",
       "    }\n",
       "\n",
       "    .dataframe tbody tr th {\n",
       "        vertical-align: top;\n",
       "    }\n",
       "\n",
       "    .dataframe thead th {\n",
       "        text-align: right;\n",
       "    }\n",
       "</style>\n",
       "<table border=\"1\" class=\"dataframe\">\n",
       "  <thead>\n",
       "    <tr style=\"text-align: right;\">\n",
       "      <th></th>\n",
       "      <th>Lon</th>\n",
       "      <th>Lat</th>\n",
       "      <th>Clave</th>\n",
       "      <th>Edo</th>\n",
       "      <th>Est</th>\n",
       "      <th>Tmed</th>\n",
       "    </tr>\n",
       "  </thead>\n",
       "  <tbody>\n",
       "    <tr>\n",
       "      <th>229</th>\n",
       "      <td>-101.66</td>\n",
       "      <td>21.1</td>\n",
       "      <td>LENGJ</td>\n",
       "      <td>GTO</td>\n",
       "      <td>LEON</td>\n",
       "      <td>16.000000</td>\n",
       "    </tr>\n",
       "    <tr>\n",
       "      <th>238</th>\n",
       "      <td>-101.67</td>\n",
       "      <td>21.1</td>\n",
       "      <td>LENGJ</td>\n",
       "      <td>GTO</td>\n",
       "      <td>León Gto.</td>\n",
       "      <td>17.790323</td>\n",
       "    </tr>\n",
       "  </tbody>\n",
       "</table>\n",
       "</div>"
      ],
      "text/plain": [
       "        Lon   Lat  Clave  Edo        Est       Tmed\n",
       "229 -101.66  21.1  LENGJ  GTO       LEON  16.000000\n",
       "238 -101.67  21.1  LENGJ  GTO  León Gto.  17.790323"
      ]
     },
     "execution_count": 85,
     "metadata": {},
     "output_type": "execute_result"
    }
   ],
   "source": [
    "Tmed_Leon_3"
   ]
  },
  {
   "cell_type": "code",
   "execution_count": 86,
   "metadata": {},
   "outputs": [
    {
     "data": {
      "text/html": [
       "<div>\n",
       "<style scoped>\n",
       "    .dataframe tbody tr th:only-of-type {\n",
       "        vertical-align: middle;\n",
       "    }\n",
       "\n",
       "    .dataframe tbody tr th {\n",
       "        vertical-align: top;\n",
       "    }\n",
       "\n",
       "    .dataframe thead th {\n",
       "        text-align: right;\n",
       "    }\n",
       "</style>\n",
       "<table border=\"1\" class=\"dataframe\">\n",
       "  <thead>\n",
       "    <tr style=\"text-align: right;\">\n",
       "      <th></th>\n",
       "      <th>Est</th>\n",
       "      <th>Año</th>\n",
       "      <th>Lon</th>\n",
       "      <th>Lat</th>\n",
       "      <th>Clave</th>\n",
       "      <th>Edo</th>\n",
       "      <th>Tmed</th>\n",
       "    </tr>\n",
       "  </thead>\n",
       "  <tbody>\n",
       "    <tr>\n",
       "      <th>0</th>\n",
       "      <td>LEON</td>\n",
       "      <td>2018</td>\n",
       "      <td>-101.66</td>\n",
       "      <td>21.1</td>\n",
       "      <td>LENGJ</td>\n",
       "      <td>GTO</td>\n",
       "      <td>16.000000</td>\n",
       "    </tr>\n",
       "    <tr>\n",
       "      <th>1</th>\n",
       "      <td>León Gto.</td>\n",
       "      <td>2019</td>\n",
       "      <td>-101.67</td>\n",
       "      <td>21.1</td>\n",
       "      <td>LENGJ</td>\n",
       "      <td>GTO</td>\n",
       "      <td>17.790323</td>\n",
       "    </tr>\n",
       "  </tbody>\n",
       "</table>\n",
       "</div>"
      ],
      "text/plain": [
       "         Est   Año     Lon   Lat  Clave  Edo       Tmed\n",
       "0       LEON  2018 -101.66  21.1  LENGJ  GTO  16.000000\n",
       "1  León Gto.  2019 -101.67  21.1  LENGJ  GTO  17.790323"
      ]
     },
     "execution_count": 86,
     "metadata": {},
     "output_type": "execute_result"
    }
   ],
   "source": [
    "#Agregamos los años que corresponden a cada año usando merger\n",
    "pd.merge(Años,Tmed_Leon_3)"
   ]
  },
  {
   "cell_type": "code",
   "execution_count": 92,
   "metadata": {},
   "outputs": [
    {
     "data": {
      "text/html": [
       "<div>\n",
       "<style scoped>\n",
       "    .dataframe tbody tr th:only-of-type {\n",
       "        vertical-align: middle;\n",
       "    }\n",
       "\n",
       "    .dataframe tbody tr th {\n",
       "        vertical-align: top;\n",
       "    }\n",
       "\n",
       "    .dataframe thead th {\n",
       "        text-align: right;\n",
       "    }\n",
       "</style>\n",
       "<table border=\"1\" class=\"dataframe\">\n",
       "  <thead>\n",
       "    <tr style=\"text-align: right;\">\n",
       "      <th></th>\n",
       "      <th>EDAD</th>\n",
       "      <th>SEXO</th>\n",
       "      <th>TRABAJO</th>\n",
       "      <th>ESTUDIO</th>\n",
       "      <th>NOMBRE</th>\n",
       "    </tr>\n",
       "  </thead>\n",
       "  <tbody>\n",
       "    <tr>\n",
       "      <th>0</th>\n",
       "      <td>27</td>\n",
       "      <td>H</td>\n",
       "      <td>True</td>\n",
       "      <td>Licenciatura</td>\n",
       "      <td>Cristian</td>\n",
       "    </tr>\n",
       "    <tr>\n",
       "      <th>1</th>\n",
       "      <td>24</td>\n",
       "      <td>M</td>\n",
       "      <td>False</td>\n",
       "      <td>Licenciatura</td>\n",
       "      <td>Liliana</td>\n",
       "    </tr>\n",
       "    <tr>\n",
       "      <th>2</th>\n",
       "      <td>22</td>\n",
       "      <td>H</td>\n",
       "      <td>False</td>\n",
       "      <td>Bachillerato</td>\n",
       "      <td>Oscar</td>\n",
       "    </tr>\n",
       "    <tr>\n",
       "      <th>3</th>\n",
       "      <td>57</td>\n",
       "      <td>H</td>\n",
       "      <td>True</td>\n",
       "      <td>Secundaria</td>\n",
       "      <td>Pascual</td>\n",
       "    </tr>\n",
       "    <tr>\n",
       "      <th>4</th>\n",
       "      <td>52</td>\n",
       "      <td>M</td>\n",
       "      <td>False</td>\n",
       "      <td>Primaria</td>\n",
       "      <td>Graciela</td>\n",
       "    </tr>\n",
       "  </tbody>\n",
       "</table>\n",
       "</div>"
      ],
      "text/plain": [
       "   EDAD SEXO  TRABAJO       ESTUDIO    NOMBRE\n",
       "0    27    H     True  Licenciatura  Cristian\n",
       "1    24    M    False  Licenciatura   Liliana\n",
       "2    22    H    False  Bachillerato     Oscar\n",
       "3    57    H     True    Secundaria   Pascual\n",
       "4    52    M    False      Primaria  Graciela"
      ]
     },
     "execution_count": 92,
     "metadata": {},
     "output_type": "execute_result"
    }
   ],
   "source": [
    "#con los datos de family\n",
    "Nom = pd.DataFrame({'EDAD':[27,24,22,57,52],'NOMBRE':['Cristian','Liliana','Oscar','Pascual','Graciela']})\n",
    "family = pd.merge(family,Nom) #Agregamos la columna de nombres porque merge renombra los index\n",
    "family"
   ]
  },
  {
   "cell_type": "code",
   "execution_count": 93,
   "metadata": {},
   "outputs": [
    {
     "data": {
      "text/html": [
       "<div>\n",
       "<style scoped>\n",
       "    .dataframe tbody tr th:only-of-type {\n",
       "        vertical-align: middle;\n",
       "    }\n",
       "\n",
       "    .dataframe tbody tr th {\n",
       "        vertical-align: top;\n",
       "    }\n",
       "\n",
       "    .dataframe thead th {\n",
       "        text-align: right;\n",
       "    }\n",
       "</style>\n",
       "<table border=\"1\" class=\"dataframe\">\n",
       "  <thead>\n",
       "    <tr style=\"text-align: right;\">\n",
       "      <th></th>\n",
       "      <th>TRABAJO</th>\n",
       "      <th>INGRESO</th>\n",
       "    </tr>\n",
       "  </thead>\n",
       "  <tbody>\n",
       "    <tr>\n",
       "      <th>0</th>\n",
       "      <td>True</td>\n",
       "      <td>Si</td>\n",
       "    </tr>\n",
       "    <tr>\n",
       "      <th>1</th>\n",
       "      <td>False</td>\n",
       "      <td>NO</td>\n",
       "    </tr>\n",
       "  </tbody>\n",
       "</table>\n",
       "</div>"
      ],
      "text/plain": [
       "   TRABAJO INGRESO\n",
       "0     True      Si\n",
       "1    False      NO"
      ]
     },
     "execution_count": 93,
     "metadata": {},
     "output_type": "execute_result"
    }
   ],
   "source": [
    "#Hacemos otro marco de datos:\n",
    "ing = pd.DataFrame({'TRABAJO':[True,False],'INGRESO':['Si','NO']})\n",
    "ing"
   ]
  },
  {
   "cell_type": "code",
   "execution_count": 94,
   "metadata": {},
   "outputs": [
    {
     "data": {
      "text/html": [
       "<div>\n",
       "<style scoped>\n",
       "    .dataframe tbody tr th:only-of-type {\n",
       "        vertical-align: middle;\n",
       "    }\n",
       "\n",
       "    .dataframe tbody tr th {\n",
       "        vertical-align: top;\n",
       "    }\n",
       "\n",
       "    .dataframe thead th {\n",
       "        text-align: right;\n",
       "    }\n",
       "</style>\n",
       "<table border=\"1\" class=\"dataframe\">\n",
       "  <thead>\n",
       "    <tr style=\"text-align: right;\">\n",
       "      <th></th>\n",
       "      <th>EDAD</th>\n",
       "      <th>SEXO</th>\n",
       "      <th>TRABAJO</th>\n",
       "      <th>ESTUDIO</th>\n",
       "      <th>NOMBRE</th>\n",
       "      <th>INGRESO</th>\n",
       "    </tr>\n",
       "  </thead>\n",
       "  <tbody>\n",
       "    <tr>\n",
       "      <th>0</th>\n",
       "      <td>27</td>\n",
       "      <td>H</td>\n",
       "      <td>True</td>\n",
       "      <td>Licenciatura</td>\n",
       "      <td>Cristian</td>\n",
       "      <td>Si</td>\n",
       "    </tr>\n",
       "    <tr>\n",
       "      <th>1</th>\n",
       "      <td>57</td>\n",
       "      <td>H</td>\n",
       "      <td>True</td>\n",
       "      <td>Secundaria</td>\n",
       "      <td>Pascual</td>\n",
       "      <td>Si</td>\n",
       "    </tr>\n",
       "    <tr>\n",
       "      <th>2</th>\n",
       "      <td>24</td>\n",
       "      <td>M</td>\n",
       "      <td>False</td>\n",
       "      <td>Licenciatura</td>\n",
       "      <td>Liliana</td>\n",
       "      <td>NO</td>\n",
       "    </tr>\n",
       "    <tr>\n",
       "      <th>3</th>\n",
       "      <td>22</td>\n",
       "      <td>H</td>\n",
       "      <td>False</td>\n",
       "      <td>Bachillerato</td>\n",
       "      <td>Oscar</td>\n",
       "      <td>NO</td>\n",
       "    </tr>\n",
       "    <tr>\n",
       "      <th>4</th>\n",
       "      <td>52</td>\n",
       "      <td>M</td>\n",
       "      <td>False</td>\n",
       "      <td>Primaria</td>\n",
       "      <td>Graciela</td>\n",
       "      <td>NO</td>\n",
       "    </tr>\n",
       "  </tbody>\n",
       "</table>\n",
       "</div>"
      ],
      "text/plain": [
       "   EDAD SEXO  TRABAJO       ESTUDIO    NOMBRE INGRESO\n",
       "0    27    H     True  Licenciatura  Cristian      Si\n",
       "1    57    H     True    Secundaria   Pascual      Si\n",
       "2    24    M    False  Licenciatura   Liliana      NO\n",
       "3    22    H    False  Bachillerato     Oscar      NO\n",
       "4    52    M    False      Primaria  Graciela      NO"
      ]
     },
     "execution_count": 94,
     "metadata": {},
     "output_type": "execute_result"
    }
   ],
   "source": [
    "#Combinamos los dos anteriores\n",
    "pd.merge(family,ing)"
   ]
  },
  {
   "cell_type": "markdown",
   "metadata": {},
   "source": [
    "Usamos merge para agregar columna de Sensaciones de temperatura"
   ]
  },
  {
   "cell_type": "code",
   "execution_count": 95,
   "metadata": {},
   "outputs": [],
   "source": [
    "T_gto_18 = Media_2018[(Media_2018['Edo'] == 'GTO')]"
   ]
  },
  {
   "cell_type": "code",
   "execution_count": 96,
   "metadata": {},
   "outputs": [],
   "source": [
    "a = T_gto_18.Tmed.values\n",
    "c = T_gto_18.Est.values "
   ]
  },
  {
   "cell_type": "code",
   "execution_count": 97,
   "metadata": {},
   "outputs": [],
   "source": [
    "b = []\n",
    "for i in range(len(a)):\n",
    "    if a[i]<12:\n",
    "        b.append([c[i],'Frio'])\n",
    "    if (a[i]<15 and a[i]>12) :\n",
    "        b.append([c[i],'Normal'])\n",
    "    if a[i]>15:\n",
    "        b.append([c[i],'Caliente'])\n",
    "n = np.array(b)[0:,0]\n",
    "m = np.array(b)[0:,1]\n",
    "Sen = pd.DataFrame({'Est':n,'Sensacion':m})"
   ]
  },
  {
   "cell_type": "code",
   "execution_count": 104,
   "metadata": {},
   "outputs": [],
   "source": [
    "#Agregamos la columna que indica la sensación de la temperatura \n",
    "T_gto_18_2 = pd.merge(T_gto_18,Sen, on='Est')"
   ]
  },
  {
   "cell_type": "code",
   "execution_count": 109,
   "metadata": {},
   "outputs": [
    {
     "data": {
      "text/html": [
       "<div>\n",
       "<style scoped>\n",
       "    .dataframe tbody tr th:only-of-type {\n",
       "        vertical-align: middle;\n",
       "    }\n",
       "\n",
       "    .dataframe tbody tr th {\n",
       "        vertical-align: top;\n",
       "    }\n",
       "\n",
       "    .dataframe thead th {\n",
       "        text-align: right;\n",
       "    }\n",
       "</style>\n",
       "<table border=\"1\" class=\"dataframe\">\n",
       "  <thead>\n",
       "    <tr style=\"text-align: right;\">\n",
       "      <th></th>\n",
       "      <th>Lon</th>\n",
       "      <th>Lat</th>\n",
       "      <th>Clave</th>\n",
       "      <th>Edo</th>\n",
       "      <th>Est</th>\n",
       "      <th>Tmed</th>\n",
       "      <th>Sensacion</th>\n",
       "    </tr>\n",
       "  </thead>\n",
       "  <tbody>\n",
       "    <tr>\n",
       "      <th>0</th>\n",
       "      <td>-101.51</td>\n",
       "      <td>20.43</td>\n",
       "      <td>ABSGJ</td>\n",
       "      <td>GTO</td>\n",
       "      <td>ABASOLO</td>\n",
       "      <td>16.2</td>\n",
       "      <td>Caliente</td>\n",
       "    </tr>\n",
       "    <tr>\n",
       "      <th>1</th>\n",
       "      <td>-101.62</td>\n",
       "      <td>20.49</td>\n",
       "      <td>ATBGJ</td>\n",
       "      <td>GTO</td>\n",
       "      <td>AGUA TIBIA</td>\n",
       "      <td>13.5</td>\n",
       "      <td>Normal</td>\n",
       "    </tr>\n",
       "    <tr>\n",
       "      <th>2</th>\n",
       "      <td>-100.90</td>\n",
       "      <td>20.95</td>\n",
       "      <td>CSRGJ</td>\n",
       "      <td>GTO</td>\n",
       "      <td>CINCO SEÑORES</td>\n",
       "      <td>11.3</td>\n",
       "      <td>Frio</td>\n",
       "    </tr>\n",
       "    <tr>\n",
       "      <th>3</th>\n",
       "      <td>-100.95</td>\n",
       "      <td>20.48</td>\n",
       "      <td>CRTGJ</td>\n",
       "      <td>GTO</td>\n",
       "      <td>CORTAZAR</td>\n",
       "      <td>15.1</td>\n",
       "      <td>Caliente</td>\n",
       "    </tr>\n",
       "    <tr>\n",
       "      <th>4</th>\n",
       "      <td>-101.66</td>\n",
       "      <td>20.61</td>\n",
       "      <td>CRMGJ</td>\n",
       "      <td>GTO</td>\n",
       "      <td>CUERAMARO</td>\n",
       "      <td>15.6</td>\n",
       "      <td>Caliente</td>\n",
       "    </tr>\n",
       "  </tbody>\n",
       "</table>\n",
       "</div>"
      ],
      "text/plain": [
       "      Lon    Lat  Clave  Edo            Est  Tmed Sensacion\n",
       "0 -101.51  20.43  ABSGJ  GTO        ABASOLO  16.2  Caliente\n",
       "1 -101.62  20.49  ATBGJ  GTO     AGUA TIBIA  13.5    Normal\n",
       "2 -100.90  20.95  CSRGJ  GTO  CINCO SEÑORES  11.3      Frio\n",
       "3 -100.95  20.48  CRTGJ  GTO       CORTAZAR  15.1  Caliente\n",
       "4 -101.66  20.61  CRMGJ  GTO      CUERAMARO  15.6  Caliente"
      ]
     },
     "execution_count": 109,
     "metadata": {},
     "output_type": "execute_result"
    }
   ],
   "source": [
    "T_gto_18_2.head()"
   ]
  },
  {
   "cell_type": "code",
   "execution_count": 112,
   "metadata": {},
   "outputs": [
    {
     "data": {
      "text/plain": [
       "Lon          False\n",
       "Lat          False\n",
       "Clave        False\n",
       "Edo          False\n",
       "Est          False\n",
       "Tmed         False\n",
       "Sensacion    False\n",
       "dtype: bool"
      ]
     },
     "execution_count": 112,
     "metadata": {},
     "output_type": "execute_result"
    }
   ],
   "source": [
    "T_gto_18_2.isnull().any()"
   ]
  },
  {
   "cell_type": "markdown",
   "metadata": {},
   "source": [
    "## Agregación y Agrupación"
   ]
  },
  {
   "cell_type": "code",
   "execution_count": 114,
   "metadata": {},
   "outputs": [
    {
     "data": {
      "text/plain": [
       "Lon    -101.092745\n",
       "Lat      20.722745\n",
       "Tmed     13.815686\n",
       "dtype: float64"
      ]
     },
     "execution_count": 114,
     "metadata": {},
     "output_type": "execute_result"
    }
   ],
   "source": [
    "#Obtenemos promedio de las columnas de tipo flotante \n",
    "T_gto_18_2.mean()"
   ]
  },
  {
   "cell_type": "code",
   "execution_count": 118,
   "metadata": {},
   "outputs": [
    {
     "data": {
      "text/plain": [
       "Lon             -100.09\n",
       "Lat               21.63\n",
       "Clave             XICGJ\n",
       "Edo                 GTO\n",
       "Est          Xichu Gto.\n",
       "Tmed               16.5\n",
       "Sensacion        Normal\n",
       "dtype: object"
      ]
     },
     "execution_count": 118,
     "metadata": {},
     "output_type": "execute_result"
    }
   ],
   "source": [
    "#Obtenemos el máximo de cada columna\n",
    "T_gto_18_2.max()"
   ]
  },
  {
   "cell_type": "code",
   "execution_count": 120,
   "metadata": {},
   "outputs": [
    {
     "data": {
      "text/plain": [
       "Lon     0.400785\n",
       "Lat     0.394964\n",
       "Tmed    1.850878\n",
       "dtype: float64"
      ]
     },
     "execution_count": 120,
     "metadata": {},
     "output_type": "execute_result"
    }
   ],
   "source": [
    "#Obtenemos la desviación estandar de las columnas de tipo flotante \n",
    "T_gto_18_2.std()"
   ]
  },
  {
   "cell_type": "code",
   "execution_count": 123,
   "metadata": {},
   "outputs": [
    {
     "data": {
      "text/plain": [
       "Años    1850.500\n",
       "num       49.979\n",
       "dtype: float64"
      ]
     },
     "execution_count": 123,
     "metadata": {},
     "output_type": "execute_result"
    }
   ],
   "source": [
    "#Promedio de mancahas solares en todos los años \n",
    "manchas_sol.mean()"
   ]
  },
  {
   "cell_type": "code",
   "execution_count": 126,
   "metadata": {},
   "outputs": [
    {
     "data": {
      "text/plain": [
       "Años    555150.0\n",
       "num      14993.7\n",
       "dtype: float64"
      ]
     },
     "execution_count": 126,
     "metadata": {},
     "output_type": "execute_result"
    }
   ],
   "source": [
    "#Sumamos todo los datos de cada columna\n",
    "manchas_sol.sum()"
   ]
  },
  {
   "cell_type": "code",
   "execution_count": 152,
   "metadata": {},
   "outputs": [
    {
     "data": {
      "text/plain": [
       "Edo\n",
       "AGS      12.873913\n",
       "BC       16.200000\n",
       "BCS      19.676923\n",
       "CAMP     22.322222\n",
       "CHIH     11.020000\n",
       "CHIS     21.706122\n",
       "COAH     11.684848\n",
       "COL      25.170000\n",
       "DF       13.431579\n",
       "DGO      12.073913\n",
       "GRO      22.965789\n",
       "GTO      13.822000\n",
       "HGO      13.465385\n",
       "JAL      16.773684\n",
       "MEX      10.447917\n",
       "MICH     16.888235\n",
       "MOR      18.302326\n",
       "NAY      21.866667\n",
       "NL       12.292593\n",
       "OAX      20.245714\n",
       "PUE      13.000000\n",
       "QRO      13.410000\n",
       "QROO     23.140000\n",
       "SIN      20.926531\n",
       "SLP      15.380769\n",
       "SON      16.647170\n",
       "TAB      22.125000\n",
       "TAMPS    15.136735\n",
       "TLAX     11.054545\n",
       "VER      16.985135\n",
       "YUC      21.739394\n",
       "ZAC      12.489130\n",
       "Name: Tmed, dtype: float64"
      ]
     },
     "execution_count": 152,
     "metadata": {},
     "output_type": "execute_result"
    }
   ],
   "source": [
    "#Usamos groupby para organizar por estado y despues mostrar la media de temperatura de cada estado \n",
    "Media_2018.groupby('Edo')['Tmed'].mean()"
   ]
  },
  {
   "cell_type": "code",
   "execution_count": 153,
   "metadata": {},
   "outputs": [
    {
     "data": {
      "text/html": [
       "<div>\n",
       "<style scoped>\n",
       "    .dataframe tbody tr th:only-of-type {\n",
       "        vertical-align: middle;\n",
       "    }\n",
       "\n",
       "    .dataframe tbody tr th {\n",
       "        vertical-align: top;\n",
       "    }\n",
       "\n",
       "    .dataframe thead th {\n",
       "        text-align: right;\n",
       "    }\n",
       "</style>\n",
       "<table border=\"1\" class=\"dataframe\">\n",
       "  <thead>\n",
       "    <tr style=\"text-align: right;\">\n",
       "      <th></th>\n",
       "      <th>count</th>\n",
       "      <th>mean</th>\n",
       "      <th>std</th>\n",
       "      <th>min</th>\n",
       "      <th>25%</th>\n",
       "      <th>50%</th>\n",
       "      <th>75%</th>\n",
       "      <th>max</th>\n",
       "    </tr>\n",
       "    <tr>\n",
       "      <th>Edo</th>\n",
       "      <th></th>\n",
       "      <th></th>\n",
       "      <th></th>\n",
       "      <th></th>\n",
       "      <th></th>\n",
       "      <th></th>\n",
       "      <th></th>\n",
       "      <th></th>\n",
       "    </tr>\n",
       "  </thead>\n",
       "  <tbody>\n",
       "    <tr>\n",
       "      <th>AGS</th>\n",
       "      <td>23.0</td>\n",
       "      <td>12.873913</td>\n",
       "      <td>1.911025</td>\n",
       "      <td>8.3</td>\n",
       "      <td>12.200</td>\n",
       "      <td>13.00</td>\n",
       "      <td>14.050</td>\n",
       "      <td>17.1</td>\n",
       "    </tr>\n",
       "    <tr>\n",
       "      <th>BC</th>\n",
       "      <td>16.0</td>\n",
       "      <td>16.200000</td>\n",
       "      <td>2.549248</td>\n",
       "      <td>8.9</td>\n",
       "      <td>16.075</td>\n",
       "      <td>16.75</td>\n",
       "      <td>17.475</td>\n",
       "      <td>18.9</td>\n",
       "    </tr>\n",
       "    <tr>\n",
       "      <th>BCS</th>\n",
       "      <td>26.0</td>\n",
       "      <td>19.676923</td>\n",
       "      <td>1.601576</td>\n",
       "      <td>16.3</td>\n",
       "      <td>18.600</td>\n",
       "      <td>19.95</td>\n",
       "      <td>20.700</td>\n",
       "      <td>22.6</td>\n",
       "    </tr>\n",
       "    <tr>\n",
       "      <th>CAMP</th>\n",
       "      <td>18.0</td>\n",
       "      <td>22.322222</td>\n",
       "      <td>0.884877</td>\n",
       "      <td>21.1</td>\n",
       "      <td>21.775</td>\n",
       "      <td>22.25</td>\n",
       "      <td>22.575</td>\n",
       "      <td>24.9</td>\n",
       "    </tr>\n",
       "    <tr>\n",
       "      <th>CHIH</th>\n",
       "      <td>50.0</td>\n",
       "      <td>11.020000</td>\n",
       "      <td>4.104950</td>\n",
       "      <td>4.0</td>\n",
       "      <td>8.725</td>\n",
       "      <td>10.15</td>\n",
       "      <td>11.675</td>\n",
       "      <td>22.7</td>\n",
       "    </tr>\n",
       "    <tr>\n",
       "      <th>CHIS</th>\n",
       "      <td>49.0</td>\n",
       "      <td>21.706122</td>\n",
       "      <td>4.240156</td>\n",
       "      <td>11.7</td>\n",
       "      <td>20.100</td>\n",
       "      <td>21.30</td>\n",
       "      <td>25.900</td>\n",
       "      <td>28.2</td>\n",
       "    </tr>\n",
       "    <tr>\n",
       "      <th>COAH</th>\n",
       "      <td>33.0</td>\n",
       "      <td>11.684848</td>\n",
       "      <td>1.599828</td>\n",
       "      <td>9.6</td>\n",
       "      <td>10.800</td>\n",
       "      <td>11.30</td>\n",
       "      <td>12.700</td>\n",
       "      <td>15.4</td>\n",
       "    </tr>\n",
       "    <tr>\n",
       "      <th>COL</th>\n",
       "      <td>20.0</td>\n",
       "      <td>25.170000</td>\n",
       "      <td>1.298217</td>\n",
       "      <td>21.8</td>\n",
       "      <td>24.425</td>\n",
       "      <td>25.25</td>\n",
       "      <td>26.025</td>\n",
       "      <td>27.7</td>\n",
       "    </tr>\n",
       "    <tr>\n",
       "      <th>DF</th>\n",
       "      <td>19.0</td>\n",
       "      <td>13.431579</td>\n",
       "      <td>0.764528</td>\n",
       "      <td>11.2</td>\n",
       "      <td>13.200</td>\n",
       "      <td>13.50</td>\n",
       "      <td>14.000</td>\n",
       "      <td>14.4</td>\n",
       "    </tr>\n",
       "    <tr>\n",
       "      <th>DGO</th>\n",
       "      <td>46.0</td>\n",
       "      <td>12.073913</td>\n",
       "      <td>3.409362</td>\n",
       "      <td>3.9</td>\n",
       "      <td>10.575</td>\n",
       "      <td>12.20</td>\n",
       "      <td>12.900</td>\n",
       "      <td>24.1</td>\n",
       "    </tr>\n",
       "    <tr>\n",
       "      <th>GRO</th>\n",
       "      <td>38.0</td>\n",
       "      <td>22.965789</td>\n",
       "      <td>3.511547</td>\n",
       "      <td>14.0</td>\n",
       "      <td>20.750</td>\n",
       "      <td>23.00</td>\n",
       "      <td>26.400</td>\n",
       "      <td>28.5</td>\n",
       "    </tr>\n",
       "    <tr>\n",
       "      <th>GTO</th>\n",
       "      <td>50.0</td>\n",
       "      <td>13.822000</td>\n",
       "      <td>1.874566</td>\n",
       "      <td>8.9</td>\n",
       "      <td>13.500</td>\n",
       "      <td>14.10</td>\n",
       "      <td>15.175</td>\n",
       "      <td>16.5</td>\n",
       "    </tr>\n",
       "    <tr>\n",
       "      <th>HGO</th>\n",
       "      <td>26.0</td>\n",
       "      <td>13.465385</td>\n",
       "      <td>2.526490</td>\n",
       "      <td>8.6</td>\n",
       "      <td>11.525</td>\n",
       "      <td>12.75</td>\n",
       "      <td>14.575</td>\n",
       "      <td>19.0</td>\n",
       "    </tr>\n",
       "    <tr>\n",
       "      <th>JAL</th>\n",
       "      <td>38.0</td>\n",
       "      <td>16.773684</td>\n",
       "      <td>3.364094</td>\n",
       "      <td>12.3</td>\n",
       "      <td>14.650</td>\n",
       "      <td>15.80</td>\n",
       "      <td>17.300</td>\n",
       "      <td>26.8</td>\n",
       "    </tr>\n",
       "    <tr>\n",
       "      <th>MEX</th>\n",
       "      <td>48.0</td>\n",
       "      <td>10.447917</td>\n",
       "      <td>2.114589</td>\n",
       "      <td>3.2</td>\n",
       "      <td>9.450</td>\n",
       "      <td>10.20</td>\n",
       "      <td>11.725</td>\n",
       "      <td>15.0</td>\n",
       "    </tr>\n",
       "    <tr>\n",
       "      <th>MICH</th>\n",
       "      <td>51.0</td>\n",
       "      <td>16.888235</td>\n",
       "      <td>4.819570</td>\n",
       "      <td>10.7</td>\n",
       "      <td>14.000</td>\n",
       "      <td>15.20</td>\n",
       "      <td>16.750</td>\n",
       "      <td>28.2</td>\n",
       "    </tr>\n",
       "    <tr>\n",
       "      <th>MOR</th>\n",
       "      <td>43.0</td>\n",
       "      <td>18.302326</td>\n",
       "      <td>2.593994</td>\n",
       "      <td>9.5</td>\n",
       "      <td>17.150</td>\n",
       "      <td>19.20</td>\n",
       "      <td>20.100</td>\n",
       "      <td>21.7</td>\n",
       "    </tr>\n",
       "    <tr>\n",
       "      <th>NAY</th>\n",
       "      <td>12.0</td>\n",
       "      <td>21.866667</td>\n",
       "      <td>1.336436</td>\n",
       "      <td>18.7</td>\n",
       "      <td>20.900</td>\n",
       "      <td>22.20</td>\n",
       "      <td>22.900</td>\n",
       "      <td>23.2</td>\n",
       "    </tr>\n",
       "    <tr>\n",
       "      <th>NL</th>\n",
       "      <td>27.0</td>\n",
       "      <td>12.292593</td>\n",
       "      <td>1.446196</td>\n",
       "      <td>8.8</td>\n",
       "      <td>11.600</td>\n",
       "      <td>12.60</td>\n",
       "      <td>13.350</td>\n",
       "      <td>14.4</td>\n",
       "    </tr>\n",
       "    <tr>\n",
       "      <th>OAX</th>\n",
       "      <td>35.0</td>\n",
       "      <td>20.245714</td>\n",
       "      <td>5.207593</td>\n",
       "      <td>7.1</td>\n",
       "      <td>16.300</td>\n",
       "      <td>20.80</td>\n",
       "      <td>24.800</td>\n",
       "      <td>27.0</td>\n",
       "    </tr>\n",
       "    <tr>\n",
       "      <th>PUE</th>\n",
       "      <td>46.0</td>\n",
       "      <td>13.000000</td>\n",
       "      <td>3.502317</td>\n",
       "      <td>5.7</td>\n",
       "      <td>11.050</td>\n",
       "      <td>12.30</td>\n",
       "      <td>14.275</td>\n",
       "      <td>20.3</td>\n",
       "    </tr>\n",
       "    <tr>\n",
       "      <th>QRO</th>\n",
       "      <td>10.0</td>\n",
       "      <td>13.410000</td>\n",
       "      <td>1.601007</td>\n",
       "      <td>10.1</td>\n",
       "      <td>12.625</td>\n",
       "      <td>13.65</td>\n",
       "      <td>14.025</td>\n",
       "      <td>16.3</td>\n",
       "    </tr>\n",
       "    <tr>\n",
       "      <th>QROO</th>\n",
       "      <td>10.0</td>\n",
       "      <td>23.140000</td>\n",
       "      <td>1.392200</td>\n",
       "      <td>21.9</td>\n",
       "      <td>22.500</td>\n",
       "      <td>22.60</td>\n",
       "      <td>23.000</td>\n",
       "      <td>26.4</td>\n",
       "    </tr>\n",
       "    <tr>\n",
       "      <th>SIN</th>\n",
       "      <td>49.0</td>\n",
       "      <td>20.926531</td>\n",
       "      <td>1.073890</td>\n",
       "      <td>17.8</td>\n",
       "      <td>20.200</td>\n",
       "      <td>20.70</td>\n",
       "      <td>21.400</td>\n",
       "      <td>23.6</td>\n",
       "    </tr>\n",
       "    <tr>\n",
       "      <th>SLP</th>\n",
       "      <td>26.0</td>\n",
       "      <td>15.380769</td>\n",
       "      <td>2.185410</td>\n",
       "      <td>10.0</td>\n",
       "      <td>14.500</td>\n",
       "      <td>16.00</td>\n",
       "      <td>17.025</td>\n",
       "      <td>18.1</td>\n",
       "    </tr>\n",
       "    <tr>\n",
       "      <th>SON</th>\n",
       "      <td>53.0</td>\n",
       "      <td>16.647170</td>\n",
       "      <td>3.263823</td>\n",
       "      <td>9.2</td>\n",
       "      <td>14.800</td>\n",
       "      <td>17.40</td>\n",
       "      <td>19.100</td>\n",
       "      <td>21.3</td>\n",
       "    </tr>\n",
       "    <tr>\n",
       "      <th>TAB</th>\n",
       "      <td>24.0</td>\n",
       "      <td>22.125000</td>\n",
       "      <td>0.726666</td>\n",
       "      <td>20.8</td>\n",
       "      <td>21.675</td>\n",
       "      <td>22.10</td>\n",
       "      <td>22.575</td>\n",
       "      <td>23.8</td>\n",
       "    </tr>\n",
       "    <tr>\n",
       "      <th>TAMPS</th>\n",
       "      <td>49.0</td>\n",
       "      <td>15.136735</td>\n",
       "      <td>1.618988</td>\n",
       "      <td>12.0</td>\n",
       "      <td>13.900</td>\n",
       "      <td>14.80</td>\n",
       "      <td>16.600</td>\n",
       "      <td>18.5</td>\n",
       "    </tr>\n",
       "    <tr>\n",
       "      <th>TLAX</th>\n",
       "      <td>11.0</td>\n",
       "      <td>11.054545</td>\n",
       "      <td>1.718932</td>\n",
       "      <td>8.6</td>\n",
       "      <td>9.550</td>\n",
       "      <td>10.80</td>\n",
       "      <td>12.700</td>\n",
       "      <td>13.1</td>\n",
       "    </tr>\n",
       "    <tr>\n",
       "      <th>VER</th>\n",
       "      <td>74.0</td>\n",
       "      <td>16.985135</td>\n",
       "      <td>3.920640</td>\n",
       "      <td>6.5</td>\n",
       "      <td>14.500</td>\n",
       "      <td>17.85</td>\n",
       "      <td>20.250</td>\n",
       "      <td>21.9</td>\n",
       "    </tr>\n",
       "    <tr>\n",
       "      <th>YUC</th>\n",
       "      <td>33.0</td>\n",
       "      <td>21.739394</td>\n",
       "      <td>1.282317</td>\n",
       "      <td>18.2</td>\n",
       "      <td>21.100</td>\n",
       "      <td>22.00</td>\n",
       "      <td>22.900</td>\n",
       "      <td>23.4</td>\n",
       "    </tr>\n",
       "    <tr>\n",
       "      <th>ZAC</th>\n",
       "      <td>46.0</td>\n",
       "      <td>12.489130</td>\n",
       "      <td>2.255288</td>\n",
       "      <td>9.2</td>\n",
       "      <td>11.100</td>\n",
       "      <td>11.95</td>\n",
       "      <td>13.350</td>\n",
       "      <td>18.7</td>\n",
       "    </tr>\n",
       "  </tbody>\n",
       "</table>\n",
       "</div>"
      ],
      "text/plain": [
       "       count       mean       std   min     25%    50%     75%   max\n",
       "Edo                                                                 \n",
       "AGS     23.0  12.873913  1.911025   8.3  12.200  13.00  14.050  17.1\n",
       "BC      16.0  16.200000  2.549248   8.9  16.075  16.75  17.475  18.9\n",
       "BCS     26.0  19.676923  1.601576  16.3  18.600  19.95  20.700  22.6\n",
       "CAMP    18.0  22.322222  0.884877  21.1  21.775  22.25  22.575  24.9\n",
       "CHIH    50.0  11.020000  4.104950   4.0   8.725  10.15  11.675  22.7\n",
       "CHIS    49.0  21.706122  4.240156  11.7  20.100  21.30  25.900  28.2\n",
       "COAH    33.0  11.684848  1.599828   9.6  10.800  11.30  12.700  15.4\n",
       "COL     20.0  25.170000  1.298217  21.8  24.425  25.25  26.025  27.7\n",
       "DF      19.0  13.431579  0.764528  11.2  13.200  13.50  14.000  14.4\n",
       "DGO     46.0  12.073913  3.409362   3.9  10.575  12.20  12.900  24.1\n",
       "GRO     38.0  22.965789  3.511547  14.0  20.750  23.00  26.400  28.5\n",
       "GTO     50.0  13.822000  1.874566   8.9  13.500  14.10  15.175  16.5\n",
       "HGO     26.0  13.465385  2.526490   8.6  11.525  12.75  14.575  19.0\n",
       "JAL     38.0  16.773684  3.364094  12.3  14.650  15.80  17.300  26.8\n",
       "MEX     48.0  10.447917  2.114589   3.2   9.450  10.20  11.725  15.0\n",
       "MICH    51.0  16.888235  4.819570  10.7  14.000  15.20  16.750  28.2\n",
       "MOR     43.0  18.302326  2.593994   9.5  17.150  19.20  20.100  21.7\n",
       "NAY     12.0  21.866667  1.336436  18.7  20.900  22.20  22.900  23.2\n",
       "NL      27.0  12.292593  1.446196   8.8  11.600  12.60  13.350  14.4\n",
       "OAX     35.0  20.245714  5.207593   7.1  16.300  20.80  24.800  27.0\n",
       "PUE     46.0  13.000000  3.502317   5.7  11.050  12.30  14.275  20.3\n",
       "QRO     10.0  13.410000  1.601007  10.1  12.625  13.65  14.025  16.3\n",
       "QROO    10.0  23.140000  1.392200  21.9  22.500  22.60  23.000  26.4\n",
       "SIN     49.0  20.926531  1.073890  17.8  20.200  20.70  21.400  23.6\n",
       "SLP     26.0  15.380769  2.185410  10.0  14.500  16.00  17.025  18.1\n",
       "SON     53.0  16.647170  3.263823   9.2  14.800  17.40  19.100  21.3\n",
       "TAB     24.0  22.125000  0.726666  20.8  21.675  22.10  22.575  23.8\n",
       "TAMPS   49.0  15.136735  1.618988  12.0  13.900  14.80  16.600  18.5\n",
       "TLAX    11.0  11.054545  1.718932   8.6   9.550  10.80  12.700  13.1\n",
       "VER     74.0  16.985135  3.920640   6.5  14.500  17.85  20.250  21.9\n",
       "YUC     33.0  21.739394  1.282317  18.2  21.100  22.00  22.900  23.4\n",
       "ZAC     46.0  12.489130  2.255288   9.2  11.100  11.95  13.350  18.7"
      ]
     },
     "execution_count": 153,
     "metadata": {},
     "output_type": "execute_result"
    }
   ],
   "source": [
    "#Para desplegar todas las caracteristicas de Tmed usamos .describe()\n",
    "Media_2018.groupby('Edo')['Tmed'].describe()"
   ]
  },
  {
   "cell_type": "code",
   "execution_count": 156,
   "metadata": {},
   "outputs": [
    {
     "data": {
      "text/html": [
       "<div>\n",
       "<style scoped>\n",
       "    .dataframe tbody tr th:only-of-type {\n",
       "        vertical-align: middle;\n",
       "    }\n",
       "\n",
       "    .dataframe tbody tr th {\n",
       "        vertical-align: top;\n",
       "    }\n",
       "\n",
       "    .dataframe thead th {\n",
       "        text-align: right;\n",
       "    }\n",
       "</style>\n",
       "<table border=\"1\" class=\"dataframe\">\n",
       "  <thead>\n",
       "    <tr style=\"text-align: right;\">\n",
       "      <th></th>\n",
       "      <th>min</th>\n",
       "      <th>median</th>\n",
       "      <th>max</th>\n",
       "    </tr>\n",
       "    <tr>\n",
       "      <th>Edo</th>\n",
       "      <th></th>\n",
       "      <th></th>\n",
       "      <th></th>\n",
       "    </tr>\n",
       "  </thead>\n",
       "  <tbody>\n",
       "    <tr>\n",
       "      <th>AGS</th>\n",
       "      <td>8.3</td>\n",
       "      <td>13.00</td>\n",
       "      <td>17.1</td>\n",
       "    </tr>\n",
       "    <tr>\n",
       "      <th>BC</th>\n",
       "      <td>8.9</td>\n",
       "      <td>16.75</td>\n",
       "      <td>18.9</td>\n",
       "    </tr>\n",
       "    <tr>\n",
       "      <th>BCS</th>\n",
       "      <td>16.3</td>\n",
       "      <td>19.95</td>\n",
       "      <td>22.6</td>\n",
       "    </tr>\n",
       "    <tr>\n",
       "      <th>CAMP</th>\n",
       "      <td>21.1</td>\n",
       "      <td>22.25</td>\n",
       "      <td>24.9</td>\n",
       "    </tr>\n",
       "    <tr>\n",
       "      <th>CHIH</th>\n",
       "      <td>4.0</td>\n",
       "      <td>10.15</td>\n",
       "      <td>22.7</td>\n",
       "    </tr>\n",
       "    <tr>\n",
       "      <th>CHIS</th>\n",
       "      <td>11.7</td>\n",
       "      <td>21.30</td>\n",
       "      <td>28.2</td>\n",
       "    </tr>\n",
       "    <tr>\n",
       "      <th>COAH</th>\n",
       "      <td>9.6</td>\n",
       "      <td>11.30</td>\n",
       "      <td>15.4</td>\n",
       "    </tr>\n",
       "    <tr>\n",
       "      <th>COL</th>\n",
       "      <td>21.8</td>\n",
       "      <td>25.25</td>\n",
       "      <td>27.7</td>\n",
       "    </tr>\n",
       "    <tr>\n",
       "      <th>DF</th>\n",
       "      <td>11.2</td>\n",
       "      <td>13.50</td>\n",
       "      <td>14.4</td>\n",
       "    </tr>\n",
       "    <tr>\n",
       "      <th>DGO</th>\n",
       "      <td>3.9</td>\n",
       "      <td>12.20</td>\n",
       "      <td>24.1</td>\n",
       "    </tr>\n",
       "    <tr>\n",
       "      <th>GRO</th>\n",
       "      <td>14.0</td>\n",
       "      <td>23.00</td>\n",
       "      <td>28.5</td>\n",
       "    </tr>\n",
       "    <tr>\n",
       "      <th>GTO</th>\n",
       "      <td>8.9</td>\n",
       "      <td>14.10</td>\n",
       "      <td>16.5</td>\n",
       "    </tr>\n",
       "    <tr>\n",
       "      <th>HGO</th>\n",
       "      <td>8.6</td>\n",
       "      <td>12.75</td>\n",
       "      <td>19.0</td>\n",
       "    </tr>\n",
       "    <tr>\n",
       "      <th>JAL</th>\n",
       "      <td>12.3</td>\n",
       "      <td>15.80</td>\n",
       "      <td>26.8</td>\n",
       "    </tr>\n",
       "    <tr>\n",
       "      <th>MEX</th>\n",
       "      <td>3.2</td>\n",
       "      <td>10.20</td>\n",
       "      <td>15.0</td>\n",
       "    </tr>\n",
       "    <tr>\n",
       "      <th>MICH</th>\n",
       "      <td>10.7</td>\n",
       "      <td>15.20</td>\n",
       "      <td>28.2</td>\n",
       "    </tr>\n",
       "    <tr>\n",
       "      <th>MOR</th>\n",
       "      <td>9.5</td>\n",
       "      <td>19.20</td>\n",
       "      <td>21.7</td>\n",
       "    </tr>\n",
       "    <tr>\n",
       "      <th>NAY</th>\n",
       "      <td>18.7</td>\n",
       "      <td>22.20</td>\n",
       "      <td>23.2</td>\n",
       "    </tr>\n",
       "    <tr>\n",
       "      <th>NL</th>\n",
       "      <td>8.8</td>\n",
       "      <td>12.60</td>\n",
       "      <td>14.4</td>\n",
       "    </tr>\n",
       "    <tr>\n",
       "      <th>OAX</th>\n",
       "      <td>7.1</td>\n",
       "      <td>20.80</td>\n",
       "      <td>27.0</td>\n",
       "    </tr>\n",
       "    <tr>\n",
       "      <th>PUE</th>\n",
       "      <td>5.7</td>\n",
       "      <td>12.30</td>\n",
       "      <td>20.3</td>\n",
       "    </tr>\n",
       "    <tr>\n",
       "      <th>QRO</th>\n",
       "      <td>10.1</td>\n",
       "      <td>13.65</td>\n",
       "      <td>16.3</td>\n",
       "    </tr>\n",
       "    <tr>\n",
       "      <th>QROO</th>\n",
       "      <td>21.9</td>\n",
       "      <td>22.60</td>\n",
       "      <td>26.4</td>\n",
       "    </tr>\n",
       "    <tr>\n",
       "      <th>SIN</th>\n",
       "      <td>17.8</td>\n",
       "      <td>20.70</td>\n",
       "      <td>23.6</td>\n",
       "    </tr>\n",
       "    <tr>\n",
       "      <th>SLP</th>\n",
       "      <td>10.0</td>\n",
       "      <td>16.00</td>\n",
       "      <td>18.1</td>\n",
       "    </tr>\n",
       "    <tr>\n",
       "      <th>SON</th>\n",
       "      <td>9.2</td>\n",
       "      <td>17.40</td>\n",
       "      <td>21.3</td>\n",
       "    </tr>\n",
       "    <tr>\n",
       "      <th>TAB</th>\n",
       "      <td>20.8</td>\n",
       "      <td>22.10</td>\n",
       "      <td>23.8</td>\n",
       "    </tr>\n",
       "    <tr>\n",
       "      <th>TAMPS</th>\n",
       "      <td>12.0</td>\n",
       "      <td>14.80</td>\n",
       "      <td>18.5</td>\n",
       "    </tr>\n",
       "    <tr>\n",
       "      <th>TLAX</th>\n",
       "      <td>8.6</td>\n",
       "      <td>10.80</td>\n",
       "      <td>13.1</td>\n",
       "    </tr>\n",
       "    <tr>\n",
       "      <th>VER</th>\n",
       "      <td>6.5</td>\n",
       "      <td>17.85</td>\n",
       "      <td>21.9</td>\n",
       "    </tr>\n",
       "    <tr>\n",
       "      <th>YUC</th>\n",
       "      <td>18.2</td>\n",
       "      <td>22.00</td>\n",
       "      <td>23.4</td>\n",
       "    </tr>\n",
       "    <tr>\n",
       "      <th>ZAC</th>\n",
       "      <td>9.2</td>\n",
       "      <td>11.95</td>\n",
       "      <td>18.7</td>\n",
       "    </tr>\n",
       "  </tbody>\n",
       "</table>\n",
       "</div>"
      ],
      "text/plain": [
       "        min  median   max\n",
       "Edo                      \n",
       "AGS     8.3   13.00  17.1\n",
       "BC      8.9   16.75  18.9\n",
       "BCS    16.3   19.95  22.6\n",
       "CAMP   21.1   22.25  24.9\n",
       "CHIH    4.0   10.15  22.7\n",
       "CHIS   11.7   21.30  28.2\n",
       "COAH    9.6   11.30  15.4\n",
       "COL    21.8   25.25  27.7\n",
       "DF     11.2   13.50  14.4\n",
       "DGO     3.9   12.20  24.1\n",
       "GRO    14.0   23.00  28.5\n",
       "GTO     8.9   14.10  16.5\n",
       "HGO     8.6   12.75  19.0\n",
       "JAL    12.3   15.80  26.8\n",
       "MEX     3.2   10.20  15.0\n",
       "MICH   10.7   15.20  28.2\n",
       "MOR     9.5   19.20  21.7\n",
       "NAY    18.7   22.20  23.2\n",
       "NL      8.8   12.60  14.4\n",
       "OAX     7.1   20.80  27.0\n",
       "PUE     5.7   12.30  20.3\n",
       "QRO    10.1   13.65  16.3\n",
       "QROO   21.9   22.60  26.4\n",
       "SIN    17.8   20.70  23.6\n",
       "SLP    10.0   16.00  18.1\n",
       "SON     9.2   17.40  21.3\n",
       "TAB    20.8   22.10  23.8\n",
       "TAMPS  12.0   14.80  18.5\n",
       "TLAX    8.6   10.80  13.1\n",
       "VER     6.5   17.85  21.9\n",
       "YUC    18.2   22.00  23.4\n",
       "ZAC     9.2   11.95  18.7"
      ]
     },
     "execution_count": 156,
     "metadata": {},
     "output_type": "execute_result"
    }
   ],
   "source": [
    "Media_2018.groupby('Edo')['Tmed'].aggregate(['min', np.median, max])"
   ]
  },
  {
   "cell_type": "code",
   "execution_count": 170,
   "metadata": {},
   "outputs": [
    {
     "data": {
      "text/html": [
       "<div>\n",
       "<style scoped>\n",
       "    .dataframe tbody tr th:only-of-type {\n",
       "        vertical-align: middle;\n",
       "    }\n",
       "\n",
       "    .dataframe tbody tr th {\n",
       "        vertical-align: top;\n",
       "    }\n",
       "\n",
       "    .dataframe thead th {\n",
       "        text-align: right;\n",
       "    }\n",
       "</style>\n",
       "<table border=\"1\" class=\"dataframe\">\n",
       "  <thead>\n",
       "    <tr style=\"text-align: right;\">\n",
       "      <th></th>\n",
       "      <th>Lon</th>\n",
       "      <th>Lat</th>\n",
       "      <th>Clave</th>\n",
       "      <th>Edo</th>\n",
       "      <th>Est</th>\n",
       "      <th>Tmed</th>\n",
       "    </tr>\n",
       "  </thead>\n",
       "  <tbody>\n",
       "    <tr>\n",
       "      <th>0</th>\n",
       "      <td>-101.51</td>\n",
       "      <td>20.43</td>\n",
       "      <td>ABSGJ</td>\n",
       "      <td>GTO</td>\n",
       "      <td>ABASOLO</td>\n",
       "      <td>61.16</td>\n",
       "    </tr>\n",
       "    <tr>\n",
       "      <th>1</th>\n",
       "      <td>-98.38</td>\n",
       "      <td>24.06</td>\n",
       "      <td>ABSTP</td>\n",
       "      <td>TAMPS</td>\n",
       "      <td>ABASOLO</td>\n",
       "      <td>59.00</td>\n",
       "    </tr>\n",
       "    <tr>\n",
       "      <th>2</th>\n",
       "      <td>-116.90</td>\n",
       "      <td>32.44</td>\n",
       "      <td>ALRBN</td>\n",
       "      <td>BC</td>\n",
       "      <td>ABELARDO L. RODRIGUEZ</td>\n",
       "      <td>62.06</td>\n",
       "    </tr>\n",
       "    <tr>\n",
       "      <th>3</th>\n",
       "      <td>-97.97</td>\n",
       "      <td>20.17</td>\n",
       "      <td>ACJPB</td>\n",
       "      <td>PUE</td>\n",
       "      <td>ACAJETE                           *</td>\n",
       "      <td>54.14</td>\n",
       "    </tr>\n",
       "    <tr>\n",
       "      <th>4</th>\n",
       "      <td>-92.80</td>\n",
       "      <td>16.55</td>\n",
       "      <td>ACACP</td>\n",
       "      <td>CHIS</td>\n",
       "      <td>ACALA</td>\n",
       "      <td>70.16</td>\n",
       "    </tr>\n",
       "  </tbody>\n",
       "</table>\n",
       "</div>"
      ],
      "text/plain": [
       "      Lon    Lat  Clave    Edo                                  Est   Tmed\n",
       "0 -101.51  20.43  ABSGJ    GTO                              ABASOLO  61.16\n",
       "1  -98.38  24.06  ABSTP  TAMPS                              ABASOLO  59.00\n",
       "2 -116.90  32.44  ALRBN     BC                ABELARDO L. RODRIGUEZ  62.06\n",
       "3  -97.97  20.17  ACJPB    PUE  ACAJETE                           *  54.14\n",
       "4  -92.80  16.55  ACACP   CHIS                                ACALA  70.16"
      ]
     },
     "execution_count": 170,
     "metadata": {},
     "output_type": "execute_result"
    }
   ],
   "source": [
    "#Transformamos las temperaturas de centigrados a farenheit\n",
    "\n",
    "def faren(x):\n",
    "    # x is a DataFrame of group values\n",
    "    x['Tmed'] = (x['Tmed']*(9/5)) + 32 \n",
    "    return x\n",
    "\n",
    "\n",
    "Media_2018.groupby('Edo').apply(faren).head()"
   ]
  },
  {
   "cell_type": "code",
   "execution_count": 171,
   "metadata": {},
   "outputs": [
    {
     "data": {
      "text/plain": [
       "Edo\n",
       "AGS      55.173043\n",
       "BC       61.160000\n",
       "BCS      67.418462\n",
       "CAMP     72.180000\n",
       "CHIH     51.836000\n",
       "CHIS     71.071020\n",
       "COAH     53.032727\n",
       "COL      77.306000\n",
       "DF       56.176842\n",
       "DGO      53.733043\n",
       "GRO      73.338421\n",
       "GTO      56.879600\n",
       "HGO      56.237692\n",
       "JAL      62.192632\n",
       "MEX      50.806250\n",
       "MICH     62.398824\n",
       "MOR      64.944186\n",
       "NAY      71.360000\n",
       "NL       54.126667\n",
       "OAX      68.442286\n",
       "PUE      55.400000\n",
       "QRO      56.138000\n",
       "QROO     73.652000\n",
       "SIN      69.667755\n",
       "SLP      59.685385\n",
       "SON      61.964906\n",
       "TAB      71.825000\n",
       "TAMPS    59.246122\n",
       "TLAX     51.898182\n",
       "VER      62.573243\n",
       "YUC      71.130909\n",
       "ZAC      54.480435\n",
       "Name: Tmed, dtype: float64"
      ]
     },
     "execution_count": 171,
     "metadata": {},
     "output_type": "execute_result"
    }
   ],
   "source": [
    "Media_2018.groupby('Edo').apply(faren).groupby('Edo')['Tmed'].mean()"
   ]
  },
  {
   "cell_type": "code",
   "execution_count": null,
   "metadata": {},
   "outputs": [],
   "source": []
  }
 ],
 "metadata": {
  "kernelspec": {
   "display_name": "Python 3",
   "language": "python",
   "name": "python3"
  },
  "language_info": {
   "codemirror_mode": {
    "name": "ipython",
    "version": 3
   },
   "file_extension": ".py",
   "mimetype": "text/x-python",
   "name": "python",
   "nbconvert_exporter": "python",
   "pygments_lexer": "ipython3",
   "version": "3.6.8"
  }
 },
 "nbformat": 4,
 "nbformat_minor": 2
}
