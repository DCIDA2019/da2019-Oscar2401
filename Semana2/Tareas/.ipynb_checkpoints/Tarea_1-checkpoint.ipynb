{
 "cells": [
  {
   "cell_type": "code",
   "execution_count": 1,
   "metadata": {},
   "outputs": [],
   "source": [
    "import numpy as np\n",
    "import math as mt\n",
    "import matplotlib.pyplot as plt\n",
    "import pandas as pd\n",
    "import requests\n",
    "import os"
   ]
  },
  {
   "cell_type": "markdown",
   "metadata": {},
   "source": [
    "### Create a single arrangement of years and one of sunspots with various ways"
   ]
  },
  {
   "cell_type": "markdown",
   "metadata": {},
   "source": [
    "#### 1) To make a cicle using 'usecols'"
   ]
  },
  {
   "cell_type": "code",
   "execution_count": 2,
   "metadata": {},
   "outputs": [],
   "source": [
    "def dow(x,y): # usamos una función para calcular el tiempo que se tarda haciedo el ciclo\n",
    "    for i in range(5):\n",
    "        x = np.concatenate((x,np.loadtxt('sunspots.txt',skiprows=4,usecols=(i*2),unpack=True)),axis = None)\n",
    "        y = np.concatenate((y,np.loadtxt('sunspots.txt',skiprows=4,usecols=((i*2)+1),unpack=True)),axis = None)\n",
    "    return x,y"
   ]
  },
  {
   "cell_type": "code",
   "execution_count": 3,
   "metadata": {},
   "outputs": [
    {
     "name": "stdout",
     "output_type": "stream",
     "text": [
      "CPU times: user 6.77 ms, sys: 7.81 ms, total: 14.6 ms\n",
      "Wall time: 16.7 ms\n"
     ]
    }
   ],
   "source": [
    "year_1 = np.array([])\n",
    "num_1 = np.array([])\n",
    "%time year_1, num_1 = dow(year_1,num_1)"
   ]
  },
  {
   "cell_type": "markdown",
   "metadata": {},
   "source": [
    "It is the slowest method that i used."
   ]
  },
  {
   "cell_type": "markdown",
   "metadata": {},
   "source": [
    "#### 2) To make a cicle but firts save the data in a single array"
   ]
  },
  {
   "cell_type": "code",
   "execution_count": 4,
   "metadata": {},
   "outputs": [
    {
     "name": "stdout",
     "output_type": "stream",
     "text": [
      "(10, 60)\n"
     ]
    }
   ],
   "source": [
    "sunspots = np.loadtxt('sunspots.txt',skiprows=4, unpack=True)\n",
    "print(sunspots.shape)"
   ]
  },
  {
   "cell_type": "code",
   "execution_count": 5,
   "metadata": {},
   "outputs": [],
   "source": [
    "def dow_1(s): # usamos una función para calcular el tiempo que se tarda haciedo el ciclo\n",
    "    x = np.array([])\n",
    "    y = np.array([])\n",
    "    for i in range(5):\n",
    "        x = np.concatenate((x,s[i*2,::2]),axis = None)\n",
    "        y = np.concatenate((y,s[(i*2)+1,::2]),axis = None)\n",
    "    return x,y"
   ]
  },
  {
   "cell_type": "code",
   "execution_count": 6,
   "metadata": {},
   "outputs": [
    {
     "name": "stdout",
     "output_type": "stream",
     "text": [
      "CPU times: user 793 µs, sys: 169 µs, total: 962 µs\n",
      "Wall time: 589 µs\n"
     ]
    }
   ],
   "source": [
    "%time year_2,num_2 = dow_1(sunspots)"
   ]
  },
  {
   "cell_type": "markdown",
   "metadata": {},
   "source": [
    "Is best save first  the data, its help to reduce time"
   ]
  },
  {
   "cell_type": "markdown",
   "metadata": {},
   "source": [
    "#### 3) Using feature of the arrays and np.reshape:"
   ]
  },
  {
   "cell_type": "code",
   "execution_count": 7,
   "metadata": {},
   "outputs": [
    {
     "name": "stdout",
     "output_type": "stream",
     "text": [
      "CPU times: user 2.95 ms, sys: 0 ns, total: 2.95 ms\n",
      "Wall time: 2.98 ms\n",
      "(10, 60)\n"
     ]
    }
   ],
   "source": [
    "%time sunspots = np.loadtxt('sunspots.txt',skiprows=4, unpack=True)\n",
    "print(sunspots.shape)"
   ]
  },
  {
   "cell_type": "code",
   "execution_count": 8,
   "metadata": {},
   "outputs": [
    {
     "name": "stdout",
     "output_type": "stream",
     "text": [
      "CPU times: user 111 µs, sys: 0 ns, total: 111 µs\n",
      "Wall time: 98.7 µs\n"
     ]
    }
   ],
   "source": [
    "%time year_3 , num_3 = np.reshape(sunspots[::2],(1,300)),np.reshape(sunspots[1::2],(1,300))"
   ]
  },
  {
   "cell_type": "markdown",
   "metadata": {},
   "source": [
    "Time is $\\mu s$, it's the best way I could do"
   ]
  },
  {
   "cell_type": "code",
   "execution_count": 43,
   "metadata": {},
   "outputs": [],
   "source": [
    "from selenium import webdriver\n",
    "from selenium.webdriver.firefox.firefox_binary import FirefoxBinary\n",
    "from selenium.webdriver.common.keys import Keys"
   ]
  },
  {
   "cell_type": "code",
   "execution_count": 67,
   "metadata": {},
   "outputs": [],
   "source": [
    "driver = webdriver.Firefox(executable_path='/home/echeveste/geckodriver/geckodriver')\n",
    "url = 'https://smn.cna.gob.mx/es/climatologia/temperaturas-y-lluvias/resumenes-mensuales-de-temperaturas-y-lluvias'\n",
    "driver.get(url)"
   ]
  },
  {
   "cell_type": "code",
   "execution_count": null,
   "metadata": {},
   "outputs": [],
   "source": [
    "html body div.contenedor-envolvente div.col-xs-6.col-50 div.contenido-controles-visor div#controles div#boton_descargar_datos.col-xs-12.text-center"
   ]
  }
 ],
 "metadata": {
  "kernelspec": {
   "display_name": "Python 3",
   "language": "python",
   "name": "python3"
  },
  "language_info": {
   "codemirror_mode": {
    "name": "ipython",
    "version": 3
   },
   "file_extension": ".py",
   "mimetype": "text/x-python",
   "name": "python",
   "nbconvert_exporter": "python",
   "pygments_lexer": "ipython3",
   "version": "3.6.8"
  }
 },
 "nbformat": 4,
 "nbformat_minor": 2
}
