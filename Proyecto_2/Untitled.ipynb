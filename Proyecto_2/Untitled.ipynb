{
 "cells": [
  {
   "cell_type": "code",
   "execution_count": 1,
   "metadata": {},
   "outputs": [],
   "source": [
    "import numpy as np\n",
    "import matplotlib. pyplot as plt\n",
    "import pandas as pd\n",
    "%matplotlib inline"
   ]
  },
  {
   "cell_type": "code",
   "execution_count": null,
   "metadata": {},
   "outputs": [],
   "source": []
  },
  {
   "cell_type": "code",
   "execution_count": 2,
   "metadata": {},
   "outputs": [],
   "source": [
    "def sample_beta_0(y, x, beta_1, tau, mu_0, tau_0):\n",
    "    N = len(y)\n",
    "    assert len(x) == N\n",
    "    precision = tau_0 + tau * N\n",
    "    mean = tau_0 * mu_0 + tau * np.sum(y - beta_1 * x)\n",
    "    mean /= precision\n",
    "    return np.random.normal(mean, 1 / np.sqrt(precision))"
   ]
  },
  {
   "cell_type": "code",
   "execution_count": 3,
   "metadata": {},
   "outputs": [],
   "source": [
    "def sample_beta_1(y, x, beta_0, tau, mu_1, tau_1):\n",
    "    N = len(y)\n",
    "    assert len(x) == N\n",
    "    precision = tau_1 + tau * np.sum(x * x)\n",
    "    mean = tau_1 * mu_1 + tau * np.sum( (y - beta_0) * x)\n",
    "    mean /= precision\n",
    "    return np.random.normal(mean, 1 / np.sqrt(precision))"
   ]
  },
  {
   "cell_type": "code",
   "execution_count": 4,
   "metadata": {},
   "outputs": [],
   "source": [
    "def sample_tau(y, x, beta_0, beta_1, alpha, beta):\n",
    "    N = len(y)\n",
    "    alpha_new = alpha + N / 2\n",
    "    resid = y - beta_0 - beta_1 * x\n",
    "    beta_new = beta + np.sum(resid * resid) / 2\n",
    "    return np.random.gamma(alpha_new, 1 / beta_new)"
   ]
  },
  {
   "cell_type": "code",
   "execution_count": 5,
   "metadata": {},
   "outputs": [
    {
     "data": {
      "text/plain": [
       "Text(0,0.5,'y')"
      ]
     },
     "execution_count": 5,
     "metadata": {},
     "output_type": "execute_result"
    },
    {
     "data": {
      "image/png": "[encoded data removed]",
      "text/plain": [
       "<Figure size 432x288 with 1 Axes>"
      ]
     },
     "metadata": {},
     "output_type": "display_data"
    }
   ],
   "source": [
    "beta_0_true = -1\n",
    "beta_1_true = 2\n",
    "tau_true = 1\n",
    "\n",
    "N = 50\n",
    "x = np.random.uniform(low = 0, high = 4, size = N)\n",
    "y = np.random.normal(beta_0_true + beta_1_true * x, 1 / np.sqrt(tau_true))\n",
    "\n",
    "synth_plot = plt.plot(x, y, \"o\")\n",
    "plt.xlabel(\"x\")\n",
    "plt.ylabel(\"y\")"
   ]
  },
  {
   "cell_type": "code",
   "execution_count": 6,
   "metadata": {},
   "outputs": [],
   "source": [
    "## specify initial values\n",
    "init = {\"beta_0\": 0,\n",
    "        \"beta_1\": 0,\n",
    "        \"tau\": 2}\n",
    "\n",
    "## specify hyper parameters\n",
    "hypers = {\"mu_0\": 0,\n",
    "         \"tau_0\": 1,\n",
    "         \"mu_1\": 0,\n",
    "         \"tau_1\": 1,\n",
    "         \"alpha\": 2,\n",
    "         \"beta\": 1}"
   ]
  },
  {
   "cell_type": "code",
   "execution_count": 7,
   "metadata": {},
   "outputs": [],
   "source": [
    "def gibbs(y, x, iters, init, hypers):\n",
    "    assert len(y) == len(x)\n",
    "    beta_0 = init[\"beta_0\"]\n",
    "    beta_1 = init[\"beta_1\"]\n",
    "    tau = init[\"tau\"]\n",
    "    \n",
    "    trace = np.zeros((iters, 3)) ## trace to store values of beta_0, beta_1, tau\n",
    "    \n",
    "    for it in range(iters):\n",
    "        beta_0 = sample_beta_0(y, x, beta_1, tau, hypers[\"mu_0\"], hypers[\"tau_0\"])\n",
    "        beta_1 = sample_beta_1(y, x, beta_0, tau, hypers[\"mu_1\"], hypers[\"tau_1\"])\n",
    "        tau = sample_tau(y, x, beta_0, beta_1, hypers[\"alpha\"], hypers[\"beta\"])\n",
    "        trace[it,:] = np.array((beta_0, beta_1, tau))\n",
    "        \n",
    "    trace = pd.DataFrame(trace)\n",
    "    trace.columns = ['beta_0', 'beta_1', 'tau']\n",
    "        \n",
    "    return trace"
   ]
  },
  {
   "cell_type": "code",
   "execution_count": 8,
   "metadata": {},
   "outputs": [],
   "source": [
    "iters = 1000\n",
    "trace = gibbs(y, x, iters, init, hypers)"
   ]
  },
  {
   "cell_type": "code",
   "execution_count": 9,
   "metadata": {},
   "outputs": [
    {
     "data": {
      "text/plain": [
       "[<matplotlib.lines.Line2D at 0x7fa1b28f8518>]"
      ]
     },
     "execution_count": 9,
     "metadata": {},
     "output_type": "execute_result"
    },
    {
     "data": {
      "image/png": "[encoded data removed]",
      "text/plain": [
       "<Figure size 432x288 with 1 Axes>"
      ]
     },
     "metadata": {},
     "output_type": "display_data"
    }
   ],
   "source": [
    "n = np.linspace(0,len(trace.beta_0),len(trace.beta_0))\n",
    "plt.plot(trace.beta_0,trace.beta_1,'.')"
   ]
  },
  {
   "cell_type": "code",
   "execution_count": null,
   "metadata": {},
   "outputs": [],
   "source": []
  }
 ],
 "metadata": {
  "kernelspec": {
   "display_name": "Python 3",
   "language": "python",
   "name": "python3"
  },
  "language_info": {
   "codemirror_mode": {
    "name": "ipython",
    "version": 3
   },
   "file_extension": ".py",
   "mimetype": "text/x-python",
   "name": "python",
   "nbconvert_exporter": "python",
   "pygments_lexer": "ipython3",
   "version": "3.6.9"
  }
 },
 "nbformat": 4,
 "nbformat_minor": 2
}
