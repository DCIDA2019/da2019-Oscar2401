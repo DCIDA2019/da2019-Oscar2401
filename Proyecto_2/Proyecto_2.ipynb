{
 "cells": [
  {
   "cell_type": "markdown",
   "metadata": {},
   "source": [
    "# Restauración de Imágenes Digitales"
   ]
  },
  {
   "cell_type": "code",
   "execution_count": 245,
   "metadata": {},
   "outputs": [],
   "source": [
    "import matplotlib. pyplot as plt\n",
    "import numpy as np\n",
    "import math\n",
    "import pandas as pd\n",
    "import scipy\n",
    "from scipy.signal import convolve2d"
   ]
  },
  {
   "cell_type": "markdown",
   "metadata": {},
   "source": [
    "Creamos la función para cuatificar la distancia entre dos imagenes $\\Theta$ y $X$ definidas en un plano en común. Tomamos la definición de la distancia de Hamming:\n",
    "\n",
    "\\begin{equation}\n",
    "F(\\Theta,X) = \\sum_{i\\in S} I(\\theta_i \\neq x_i)\n",
    "\\end{equation}\n",
    "\n",
    "Donde $I(\\eta) = 1$ si $\\eta$ es verdad y  $I(\\eta) = 0$ si $\\eta$ es falso"
   ]
  },
  {
   "cell_type": "code",
   "execution_count": 2,
   "metadata": {},
   "outputs": [],
   "source": [
    "def HammDis(Th,X):\n",
    "    return np.sum(np.ones_like((Th-X)[(Th-X) != 0]))"
   ]
  },
  {
   "cell_type": "code",
   "execution_count": null,
   "metadata": {},
   "outputs": [],
   "source": []
  },
  {
   "cell_type": "code",
   "execution_count": 662,
   "metadata": {},
   "outputs": [],
   "source": [
    "def Energy_Ising(Th):\n",
    "    N = len(Th)\n",
    "    dTh = []\n",
    "    for i in range(len(Th)):\n",
    "        for j in range(len(Th)):\n",
    "            #dTh = []\n",
    "            dTh.append(Th[i,j]-Th[(i+1)%N,j])\n",
    "            dTh.append(Th[i,j]-Th[i,(j+1)%N])\n",
    "            dTh.append(Th[i,j]-Th[(i-1)%N,j])\n",
    "            dTh.append(Th[i,j]-Th[i,(j-1)%N])\n",
    "    Eij = np.array(dTh).T\n",
    "    return -len(Eij[Eij == 0])"
   ]
  },
  {
   "cell_type": "markdown",
   "metadata": {},
   "source": [
    "El Prior debe reflejar que debería ser la imagen limpia. Además, esperamos que una imagen sea suave. Decimos que un píxel está conectado sin problemas a su vecino si los niveles de gris en ellos son los mismos. Entre menor es la diferencia entre los niveles de gris de los pixeles cercanos, más suave es la conexión.\n",
    "\n",
    "Introduciendo una energía de interacción entre los estados de dos píxeles (nivel de gris) y confinamos la interacción a los píxeles vecinos más cercanos. Así, los estados de un par $i, j$ de píxeles vecinos más cercanos interactúan con una energía denotada por $E_{i,j}$. Tomamos las interacciones como aditivo por pares y definimos una energía de la imagen $\\Theta$ como:\n",
    "\n",
    "\\begin{equation}\n",
    "E(\\Theta) = \\sum_{<i,j>} E_{i,j}(\\Theta)\n",
    "\\end{equation}\n",
    "\n",
    "En lo anterior, el símbolo $<i, j>$ denota que los píxeles $i$ y $j$ son vecinos más cercanos y la suma se toma sobre todos los pares distintos de píxeles vecinos más cercanos en el plano de la imagen. Modelamos $E_{i, j}$ de tal manera que es pequeño cuando los niveles de gris están cerca uno del otro y grande cuando los niveles de gris difieren en gran medida.\n",
    "\n",
    "Gemen y McClure [17] recomendaron un Prior en el que los estados de dos píxeles vecinos interactúan con una energía dada por:\n",
    "\n",
    "\\begin{equation}\n",
    " E_{i,j}(\\Theta) = -\\frac{1}{1 + C(\\theta_i - \\theta_j)^2}\n",
    "\\end{equation}\n",
    "\n",
    "donde C determina el ancho de la distribución. Adelante se crea la función para calcular la energía $E_{i,j}$ entre dos pixeles sercanos: "
   ]
  },
  {
   "cell_type": "code",
   "execution_count": 320,
   "metadata": {},
   "outputs": [],
   "source": [
    "def Energy(Th,C):\n",
    "    N = len(Th)\n",
    "    Eij = []\n",
    "    for i in range(len(Th)):\n",
    "        for j in range(len(Th)):\n",
    "            dTh = []\n",
    "            dTh.append(Th[i,j]-Th[(i+1)%N,j])\n",
    "            dTh.append(Th[i,j]-Th[i,(j+1)%N])\n",
    "            dTh.append(Th[i,j]-Th[(i-1)%N,j])\n",
    "            dTh.append(Th[i,j]-Th[i,(j-1)%N])\n",
    "            Eij.append(-1/(1+(C*np.array(dTh)**2)))\n",
    "    return np.sum(np.sum(Eij,axis=1))"
   ]
  },
  {
   "cell_type": "markdown",
   "metadata": {},
   "source": [
    "Mostramos la energía $E_{i,j}$ de Gemen-McClure para diferentes parametrso C:"
   ]
  },
  {
   "cell_type": "code",
   "execution_count": 4,
   "metadata": {},
   "outputs": [
    {
     "data": {
      "text/plain": [
       "<matplotlib.legend.Legend at 0x7f6dbbf3df60>"
      ]
     },
     "execution_count": 4,
     "metadata": {},
     "output_type": "execute_result"
    },
    {
     "data": {
      "image/png": "[encoded data removed]",
      "text/plain": [
       "<Figure size 400x250 with 1 Axes>"
      ]
     },
     "metadata": {},
     "output_type": "display_data"
    }
   ],
   "source": [
    "plt.figure(figsize=(8,5), dpi=50)\n",
    "dTh = np.linspace(-10,10,1000)\n",
    "for C in [0.1,1,10]:\n",
    "    plt.plot(dTh,-1/(1+(C*(dTh)**2)),label = C)\n",
    "plt.xlabel('$\\Delta \\\\theta$', fontsize=12)\n",
    "plt.ylabel('Energía de interacción pixel-pixel', fontsize=12)\n",
    "plt.legend(loc='upper right', shadow=True, fontsize='x-large')"
   ]
  },
  {
   "cell_type": "code",
   "execution_count": 5,
   "metadata": {},
   "outputs": [],
   "source": [
    "#p = 1 - (1/Q)\n",
    "#betaL = np.ln((1/p) - 1)"
   ]
  },
  {
   "cell_type": "markdown",
   "metadata": {},
   "source": [
    "## Distribución bayesiana a posteriori:\n",
    "\n",
    "Usando el teorema de Bayes:\n",
    "\n",
    "\\begin{equation}\n",
    "p(\\Theta|X) = \\frac{\\mathscr{L}(X|\\theta)p(\\theta)}{\\sum_{\\Theta}\\mathscr{L}(X|\\theta)p(\\theta) }\n",
    "\\end{equation}\n",
    "\n",
    "La expresión final para el Posteriori que utilizaremos en este algoritmo de restauración de imagen viene dada por:\n",
    "\n",
    "\\begin{equation}\n",
    "p(\\Theta|X) = \\frac{\\exp\\left[ -\\frac{1}{L^2(1+\\beta)}\\left( F(\\Theta,X) + \\frac{1}{2}\\beta E(\\Theta) \\right) \\right]}{\\sum_{\\Theta} \\exp\\left[ -\\frac{1}{L^2(1+\\beta)}\\left( F(\\Theta,X) + \\frac{1}{2}\\beta E(\\Theta) \\right) \\right]}\n",
    "\\end{equation}"
   ]
  },
  {
   "cell_type": "code",
   "execution_count": 6,
   "metadata": {},
   "outputs": [],
   "source": [
    "def posteriori(Th,X,L,beta,C):\n",
    "    a = 1/((1+beta)*L**2)\n",
    "    return np.exp(-a*(HammDis(Th,X) + ((beta/2)*(Energy(Th,C)))))"
   ]
  },
  {
   "cell_type": "code",
   "execution_count": 659,
   "metadata": {},
   "outputs": [],
   "source": [
    "def posteriori_Ising(Th,X,L,beta):\n",
    "    a = 1/((1+beta)*L**2)\n",
    "    return np.exp(-a*(HammDis(Th,X) + ((beta/2)*(Energy_Ising(Th)))))"
   ]
  },
  {
   "cell_type": "markdown",
   "metadata": {},
   "source": [
    "## Imagen Binaria\n",
    "\n",
    "Generamos una imagen Binaria con ruido"
   ]
  },
  {
   "cell_type": "code",
   "execution_count": 7,
   "metadata": {},
   "outputs": [],
   "source": [
    "from PIL import Image\n",
    "from resizeimage import resizeimage"
   ]
  },
  {
   "cell_type": "markdown",
   "metadata": {},
   "source": [
    "Importamos la imagen de un robot y resudimos su tamaño con \"resizeimage\""
   ]
  },
  {
   "cell_type": "code",
   "execution_count": 700,
   "metadata": {},
   "outputs": [],
   "source": [
    "robot = Image.open(\"robot_1.png\")\n",
    "ratio = float((robot.size[1]) / (robot.size[0]))\n",
    "robot = resizeimage.resize_cover(robot, [35, int(ratio * 35)])\n",
    "robot = np.asarray(robot).copy()\n",
    "robot.setflags(write=1)\n",
    "robot[(robot!=0)&(robot!=255)] = 255\n",
    "robot = robot / 255"
   ]
  },
  {
   "cell_type": "markdown",
   "metadata": {},
   "source": [
    "Mostramos la imagen del robot original y limpia:"
   ]
  },
  {
   "cell_type": "code",
   "execution_count": 701,
   "metadata": {},
   "outputs": [
    {
     "data": {
      "text/plain": [
       "Text(0,0.5,'j')"
      ]
     },
     "execution_count": 701,
     "metadata": {},
     "output_type": "execute_result"
    },
    {
     "data": {
      "image/png": "[encoded data removed]",
      "text/plain": [
       "<Figure size 300x300 with 1 Axes>"
      ]
     },
     "metadata": {},
     "output_type": "display_data"
    }
   ],
   "source": [
    "plt.figure(figsize=(3,3), dpi=100)\n",
    "plt.imshow(robot, cmap = 'Greys')\n",
    "plt.xlabel('i', fontsize=12)\n",
    "plt.ylabel('j', fontsize=12)"
   ]
  },
  {
   "cell_type": "markdown",
   "metadata": {},
   "source": [
    "Generamos la imagen con ruido de 5%"
   ]
  },
  {
   "cell_type": "code",
   "execution_count": 702,
   "metadata": {},
   "outputs": [],
   "source": [
    "L = len(robot)\n",
    "imgnoise = robot.copy()\n",
    "ruido = 0.03\n",
    "\n",
    "for i in range(len(imgnoise)):\n",
    "    for j in range(len(imgnoise[0])):\n",
    "        eps = np.random.uniform(0,1)\n",
    "        if eps <= ruido:\n",
    "            if imgnoise[i,j] == 0:\n",
    "                imgnoise[i,j] = 1\n",
    "            else:\n",
    "                imgnoise[i,j] = 0\n",
    "        else:\n",
    "            continue"
   ]
  },
  {
   "cell_type": "code",
   "execution_count": 703,
   "metadata": {},
   "outputs": [
    {
     "data": {
      "text/plain": [
       "Text(0,0.5,'j')"
      ]
     },
     "execution_count": 703,
     "metadata": {},
     "output_type": "execute_result"
    },
    {
     "data": {
      "image/png": "[encoded data removed]",
      "text/plain": [
       "<Figure size 300x300 with 1 Axes>"
      ]
     },
     "metadata": {},
     "output_type": "display_data"
    }
   ],
   "source": [
    "plt.figure(figsize=(3,3), dpi=100)\n",
    "plt.imshow(imgnoise, cmap = 'Greys')\n",
    "plt.xlabel('i', fontsize=12)\n",
    "plt.ylabel('j', fontsize=12)"
   ]
  },
  {
   "cell_type": "code",
   "execution_count": 706,
   "metadata": {},
   "outputs": [],
   "source": [
    "Th = imgnoise.copy()\n",
    "Th_prob = imgnoise.copy()\n",
    "L = len(imgnoise)\n",
    "p = ruido\n",
    "e = (1/p) - 1\n",
    "T = 0.51\n",
    "betaP = (1/T)/(np.log1p(e))\n",
    "\n",
    "for i in range(2*5000):\n",
    "    \n",
    "    pi_c = posteriori_Ising(Th,imgnoise,L,betaP)\n",
    "    \n",
    "    n = np.random.randint(L)\n",
    "    m = np.random.randint(L)\n",
    "    if Th[n,m] == 0:\n",
    "        Th_prob[n,m] = 1\n",
    "    else:\n",
    "        Th_prob[n,m] = 0\n",
    "    \n",
    "    pi_t = posteriori_Ising(Th_prob,imgnoise,L,betaP)\n",
    "    if (pi_t/pi_c)>1:\n",
    "        Th = Th_prob.copy()\n",
    "    else:\n",
    "        Th_prob = Th.copy()\n",
    "        "
   ]
  },
  {
   "cell_type": "code",
   "execution_count": 707,
   "metadata": {},
   "outputs": [
    {
     "data": {
      "image/png": "[encoded data removed]",
      "text/plain": [
       "<Figure size 1000x1000 with 3 Axes>"
      ]
     },
     "metadata": {},
     "output_type": "display_data"
    }
   ],
   "source": [
    "plt.style.use('default')\n",
    "plt.figure(figsize=(10,10), dpi=100)\n",
    "plt.subplot(331)\n",
    "plt.imshow(robot, cmap = 'Greys')\n",
    "plt.xlabel('i', fontsize=12)\n",
    "plt.ylabel('j', fontsize=12)\n",
    "plt.title('$\\hat{\\Theta}$')\n",
    "\n",
    "plt.subplot(332)\n",
    "plt.imshow(imgnoise, cmap = 'Greys')\n",
    "plt.xlabel('i', fontsize=12)\n",
    "plt.title('$X$ ruido $= \\%5$')\n",
    "\n",
    "plt.subplot(333)\n",
    "plt.imshow(Th, cmap = 'Greys')\n",
    "plt.xlabel('i', fontsize=12)\n",
    "plt.title('$\\Theta$')\n",
    "plt.savefig('Robor_1.jpg')"
   ]
  },
  {
   "cell_type": "code",
   "execution_count": 678,
   "metadata": {},
   "outputs": [],
   "source": [
    "robot_2 = np.loadtxt('robot_1.csv',delimiter=',')"
   ]
  },
  {
   "cell_type": "code",
   "execution_count": 708,
   "metadata": {},
   "outputs": [
    {
     "data": {
      "text/plain": [
       "Text(0,0.5,'j')"
      ]
     },
     "execution_count": 708,
     "metadata": {},
     "output_type": "execute_result"
    },
    {
     "data": {
      "image/png": "[encoded data removed]",
      "text/plain": [
       "<Figure size 300x300 with 1 Axes>"
      ]
     },
     "metadata": {},
     "output_type": "display_data"
    }
   ],
   "source": [
    "plt.figure(figsize=(3,3), dpi=100)\n",
    "plt.imshow(robot_2, cmap = 'Greys')\n",
    "plt.xlabel('i', fontsize=12)\n",
    "plt.ylabel('j', fontsize=12)"
   ]
  },
  {
   "cell_type": "code",
   "execution_count": 711,
   "metadata": {},
   "outputs": [],
   "source": [
    "L = len(robot_2)\n",
    "imgnoise_2 = robot_2.copy()\n",
    "ruido = 0.05\n",
    "Q = np.max(robot_2)\n",
    "\n",
    "for i in range(len(imgnoise_2)):\n",
    "    for j in range(len(imgnoise_2[0])):\n",
    "        eps = np.random.uniform(0,1)\n",
    "        if eps <= ruido:\n",
    "            imgnoise_2[i,j] = np.random.randint(Q)\n",
    "        else:\n",
    "            continue"
   ]
  },
  {
   "cell_type": "code",
   "execution_count": 712,
   "metadata": {},
   "outputs": [
    {
     "data": {
      "text/plain": [
       "Text(0,0.5,'j')"
      ]
     },
     "execution_count": 712,
     "metadata": {},
     "output_type": "execute_result"
    },
    {
     "data": {
      "image/png": "[encoded data removed]",
      "text/plain": [
       "<Figure size 300x300 with 1 Axes>"
      ]
     },
     "metadata": {},
     "output_type": "display_data"
    }
   ],
   "source": [
    "plt.figure(figsize=(3,3), dpi=100)\n",
    "plt.imshow(imgnoise_2, cmap = 'Greys')\n",
    "plt.xlabel('i', fontsize=12)\n",
    "plt.ylabel('j', fontsize=12)"
   ]
  },
  {
   "cell_type": "code",
   "execution_count": 715,
   "metadata": {},
   "outputs": [],
   "source": [
    "Th_2 = imgnoise_2.copy()\n",
    "Th_prob_2 = imgnoise_2.copy()\n",
    "Q = np.array([0,1,2,3,4,5])\n",
    "L = len(imgnoise_2)\n",
    "T = 0.51\n",
    "p = 0.05\n",
    "e = (5-1)*((1/p)-1)\n",
    "beta = (1/T)/(np.log1p(e))\n",
    "\n",
    "\n",
    "for i in range(2*5000):\n",
    "    pi_c = posteriori(Th_2,imgnoise_2,L,beta,1)\n",
    "    n = np.random.randint(L)\n",
    "    m = np.random.randint(L)\n",
    "    Th_prob_2[n,m] = np.random.choice(Q[Q != Th_prob_2[n,m]]) #Escojemos otro nivel de Gris diferente al del pixel escojido\n",
    "    pi_t = posteriori(Th_prob_2,imgnoise_2,L,beta,1)\n",
    "    if (pi_t/pi_c)>1:\n",
    "        Th_2 = Th_prob_2.copy()\n",
    "    else:\n",
    "        Th_prob_2 = Th_2.copy()\n",
    "        "
   ]
  },
  {
   "cell_type": "code",
   "execution_count": 716,
   "metadata": {},
   "outputs": [
    {
     "data": {
      "image/png": "[encoded data removed]",
      "text/plain": [
       "<Figure size 1000x1000 with 3 Axes>"
      ]
     },
     "metadata": {},
     "output_type": "display_data"
    }
   ],
   "source": [
    "plt.figure(figsize=(10,10), dpi=100)\n",
    "plt.subplot(331)\n",
    "plt.imshow(robot_2, cmap = 'Greys')\n",
    "plt.xlabel('i', fontsize=12)\n",
    "plt.ylabel('j', fontsize=12)\n",
    "plt.title('$\\hat{\\Theta}$')\n",
    "\n",
    "plt.subplot(332)\n",
    "plt.imshow(imgnoise_2, cmap = 'Greys')\n",
    "plt.xlabel('i', fontsize=12)\n",
    "plt.ylabel('j', fontsize=12)\n",
    "plt.title('$X$')\n",
    "\n",
    "plt.subplot(333)\n",
    "plt.imshow(Th_2, cmap = 'Greys')\n",
    "plt.xlabel('i', fontsize=12)\n",
    "plt.ylabel('j', fontsize=12)\n",
    "plt.title('$\\Theta$')\n",
    "plt.savefig('Robor_2.jpg')"
   ]
  },
  {
   "cell_type": "code",
   "execution_count": 698,
   "metadata": {},
   "outputs": [],
   "source": [
    "Th_3 = imgnoise_2.copy()\n",
    "Th_prob_3 = imgnoise_2.copy()\n",
    "Q = np.array([0,1,2,3,4,5])\n",
    "L = len(imgnoise_2)\n",
    "T = 0.051\n",
    "p = 0.05\n",
    "e = (5-1)*((1/p)-1)\n",
    "beta = (1/T)/(np.log1p(e))\n",
    "\n",
    "\n",
    "for i in range(500):\n",
    "    pi_c = posteriori(Th_3,imgnoise_2,L,beta,1)\n",
    "    n = np.random.randint(L)\n",
    "    m = np.random.randint(L)\n",
    "    Th_prob_3[n,m] = np.random.choice(Q[Q != Th_prob_3[n,m]]) #Escojemos otro nivel de Gris al del pixel escojido\n",
    "    pi_t = posteriori(Th_prob_3,imgnoise_2,L,beta,1)\n",
    "    P_hat = pi_t/(pi_t+pi_c) \n",
    "    \n",
    "    eps = np.random.uniform(0,1)\n",
    "    \n",
    "    if eps <= P_hat:\n",
    "        #print('P= ',P_hat)\n",
    "        #print('eps= ',eps)\n",
    "        Th_3 = Th_prob_3.copy()\n",
    "    else:\n",
    "        Th_prob_3 = Th_3.copy()"
   ]
  },
  {
   "cell_type": "code",
   "execution_count": 699,
   "metadata": {},
   "outputs": [
    {
     "data": {
      "image/png": "[encoded data removed]",
      "text/plain": [
       "<Figure size 1000x1000 with 3 Axes>"
      ]
     },
     "metadata": {},
     "output_type": "display_data"
    }
   ],
   "source": [
    "plt.figure(figsize=(10,10), dpi=100)\n",
    "plt.subplot(331)\n",
    "plt.imshow(robot_2, cmap = 'Greys')\n",
    "plt.xlabel('i', fontsize=12)\n",
    "plt.ylabel('j', fontsize=12)\n",
    "plt.title('$\\hat{\\Theta}$')\n",
    "\n",
    "plt.subplot(332)\n",
    "plt.imshow(imgnoise_2, cmap = 'Greys')\n",
    "plt.xlabel('i', fontsize=12)\n",
    "plt.ylabel('j', fontsize=12)\n",
    "plt.title('$X$')\n",
    "\n",
    "plt.subplot(333)\n",
    "plt.imshow(Th_3, cmap = 'Greys')\n",
    "plt.xlabel('i', fontsize=12)\n",
    "plt.ylabel('j', fontsize=12)\n",
    "plt.title('$\\Theta$')\n",
    "plt.savefig('Robor_3.jpg')"
   ]
  },
  {
   "cell_type": "code",
   "execution_count": null,
   "metadata": {},
   "outputs": [],
   "source": []
  }
 ],
 "metadata": {
  "kernelspec": {
   "display_name": "Python 3",
   "language": "python",
   "name": "python3"
  },
  "language_info": {
   "codemirror_mode": {
    "name": "ipython",
    "version": 3
   },
   "file_extension": ".py",
   "mimetype": "text/x-python",
   "name": "python",
   "nbconvert_exporter": "python",
   "pygments_lexer": "ipython3",
   "version": "3.6.9"
  }
 },
 "nbformat": 4,
 "nbformat_minor": 2
}
