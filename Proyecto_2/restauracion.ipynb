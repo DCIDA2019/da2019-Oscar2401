{
 "cells": [
  {
   "cell_type": "markdown",
   "metadata": {},
   "source": [
    "# Restauración de Imágenes Digitales"
   ]
  },
  {
   "cell_type": "code",
   "execution_count": 278,
   "metadata": {},
   "outputs": [],
   "source": [
    "import matplotlib. pyplot as plt\n",
    "import numpy as np\n",
    "import math\n",
    "import pandas as pd\n",
    "import scipy\n",
    "from scipy.signal import convolve2d"
   ]
  },
  {
   "cell_type": "markdown",
   "metadata": {},
   "source": [
    "Creamos la función para cuatificar la distancia entre dos imagenes $\\Theta$ y $X$ definidas en un plano en común. Tomamos la definición de la distancia de Hamming:\n",
    "\n",
    "\\begin{equation}\n",
    "F(\\Theta,X) = \\sum_{i\\in S} I(\\theta_i \\neq x_i)\n",
    "\\end{equation}\n",
    "\n",
    "Donde $I(\\eta) = 1$ si $\\eta$ es verdad y  $I(\\eta) = 0$ si $\\eta$ es falso"
   ]
  },
  {
   "cell_type": "code",
   "execution_count": 1005,
   "metadata": {},
   "outputs": [],
   "source": [
    "def HammDis(Th,X):\n",
    "    return np.sum(np.ones_like((Th-X)[(Th-X) != 0]))"
   ]
  },
  {
   "cell_type": "markdown",
   "metadata": {},
   "source": [
    "El Prior debe reflejar que debería ser la imagen limpia. Además, esperamos que una imagen sea suave. Decimos que un píxel está conectado sin problemas a su vecino si los niveles de gris en ellos son los mismos. Entre menor es la diferencia entre los niveles de gris de los pixeles cercanos, más suave es la conexión.\n",
    "\n",
    "Introduciendo una energía de interacción entre los estados de dos píxeles (nivel de gris) y confinamos la interacción a los píxeles vecinos más cercanos. Así, los estados de un par $i, j$ de píxeles vecinos más cercanos interactúan con una energía denotada por $E_{i,j}$. Tomamos las interacciones como aditivo por pares y definimos una energía de la imagen $\\Theta$ como:\n",
    "\n",
    "\\begin{equation}\n",
    "E(\\Theta) = \\sum_{<i,j>} E_{i,j}(\\Theta)\n",
    "\\end{equation}\n",
    "\n",
    "En lo anterior, el símbolo $<i, j>$ denota que los píxeles $i$ y $j$ son vecinos más cercanos y la suma se toma sobre todos los pares distintos de píxeles vecinos más cercanos en el plano de la imagen. Modelamos $E_{i, j}$ de tal manera que es pequeño cuando los niveles de gris están cerca uno del otro y grande cuando los niveles de gris difieren en gran medida.\n",
    "\n",
    "Gemen y McClure [17] recomendaron un Prior en el que los estados de dos píxeles vecinos interactúan con una energía dada por:\n",
    "\n",
    "\\begin{equation}\n",
    " E_{i,j}(\\Theta) = -\\frac{1}{1 + C(\\theta_i - \\theta_j)^2}\n",
    "\\end{equation}\n",
    "\n",
    "donde C determina el ancho de la distribución. Adelante se crea la función para calcular la energía $E_{i,j}$ entre dos pixeles sercanos: "
   ]
  },
  {
   "cell_type": "code",
   "execution_count": 975,
   "metadata": {},
   "outputs": [],
   "source": [
    "def Energy(Th,C):\n",
    "    N = len(Th)\n",
    "    Eij = []\n",
    "    for i in range(len(Th)):\n",
    "        for j in range(len(Th)):\n",
    "            dTh = []\n",
    "            dTh.append(Th[i,j]-Th[(i+1)%N,j])\n",
    "            dTh.append(Th[i,j]-Th[i,(j+1)%N])\n",
    "            dTh.append(Th[i,j]-Th[(i-1)%N,j])\n",
    "            dTh.append(Th[i,j]-Th[i,(j-1)%N])\n",
    "            Eij.append(-1/(1+(C*np.array(dTh)**2)))\n",
    "    return np.sum(np.sum(Eij,axis=1))"
   ]
  },
  {
   "cell_type": "markdown",
   "metadata": {},
   "source": [
    "Mostramos la energía $E_{i,j}$ de Gemen-McClure para diferentes parametrso C:"
   ]
  },
  {
   "cell_type": "code",
   "execution_count": 947,
   "metadata": {},
   "outputs": [
    {
     "data": {
      "text/plain": [
       "<matplotlib.legend.Legend at 0x7fbb2f24ddd8>"
      ]
     },
     "execution_count": 947,
     "metadata": {},
     "output_type": "execute_result"
    },
    {
     "data": {
      "image/png": "[encoded data removed]",
      "text/plain": [
       "<Figure size 400x250 with 1 Axes>"
      ]
     },
     "metadata": {},
     "output_type": "display_data"
    }
   ],
   "source": [
    "plt.figure(figsize=(8,5), dpi=50)\n",
    "dTh = np.linspace(-10,10,1000)\n",
    "for C in [0.1,1,10]:\n",
    "    plt.plot(dTh,-1/(1+(C*(dTh)**2)),label = C)\n",
    "plt.xlabel('$\\Delta \\\\theta$', fontsize=12)\n",
    "plt.ylabel('Energía de interacción pixel-pixel', fontsize=12)\n",
    "plt.legend(loc='upper right', shadow=True, fontsize='x-large')"
   ]
  },
  {
   "cell_type": "code",
   "execution_count": 876,
   "metadata": {},
   "outputs": [],
   "source": [
    "#p = 1 - (1/Q)\n",
    "#betaL = np.ln((1/p) - 1)"
   ]
  },
  {
   "cell_type": "markdown",
   "metadata": {},
   "source": [
    "## Distribución bayesiana a posteriori:\n",
    "\n",
    "Usando el teorema de Bayes:\n",
    "\n",
    "\\begin{equation}\n",
    "p(\\Theta|X) = \\frac{\\mathscr{L}(X|\\theta)p(\\theta)}{\\sum_{\\Theta}\\mathscr{L}(X|\\theta)p(\\theta) }\n",
    "\\end{equation}\n",
    "\n",
    "La expresión final para el Posteriori que utilizaremos en este algoritmo de restauración de imagen viene dada por:\n",
    "\n",
    "\\begin{equation}\n",
    "p(\\Theta|X) = \\frac{\\exp\\left[ -\\frac{1}{L^2(1+\\beta)}\\left( F(\\Theta,X) + \\frac{1}{2}\\beta E(\\Theta) \\right) \\right]}{\\sum_{\\Theta} \\exp\\left[ -\\frac{1}{L^2(1+\\beta)}\\left( F(\\Theta,X) + \\frac{1}{2}\\beta E(\\Theta) \\right) \\right]}\n",
    "\\end{equation}"
   ]
  },
  {
   "cell_type": "code",
   "execution_count": 895,
   "metadata": {},
   "outputs": [],
   "source": [
    "def posteriori(Th,X,L,beta,C):\n",
    "    a = 1/((1+beta)*L**2)\n",
    "    return np.exp(-a*(HammDis(Th,X) + ((beta/2)*(Energy(Th,C)))))"
   ]
  },
  {
   "cell_type": "markdown",
   "metadata": {},
   "source": [
    "## Imagen Binaria\n",
    "\n",
    "Generamos una imagen Binaria con ruido"
   ]
  },
  {
   "cell_type": "code",
   "execution_count": 878,
   "metadata": {},
   "outputs": [],
   "source": [
    "from PIL import Image\n",
    "from resizeimage import resizeimage"
   ]
  },
  {
   "cell_type": "markdown",
   "metadata": {},
   "source": [
    "Importamos la imagen de un robot y resudimos su tamaño con \"resizeimage\""
   ]
  },
  {
   "cell_type": "code",
   "execution_count": 1035,
   "metadata": {},
   "outputs": [],
   "source": [
    "robot = Image.open(\"robot_1.png\")\n",
    "ratio = float((robot.size[1]) / (robot.size[0]))\n",
    "robot = resizeimage.resize_cover(robot, [30, int(ratio * 30)])\n",
    "robot = np.asarray(robot).copy()\n",
    "robot.setflags(write=1)\n",
    "robot[(robot!=0)&(robot!=255)] = 255\n",
    "robot = robot / 255"
   ]
  },
  {
   "cell_type": "markdown",
   "metadata": {},
   "source": [
    "Generamos la imagen aleatoria para el ruido"
   ]
  },
  {
   "cell_type": "code",
   "execution_count": 1040,
   "metadata": {},
   "outputs": [],
   "source": [
    "Q = 30 # Seleccionamos 9 para hacer menos denso el ruido \n",
    "rand = np.random.randint(Q, size=(robot.shape[0],robot.shape[1]))\n",
    "rand[rand != 1 ] = 0 #solo escojemos los 1's y lo demas lo hacemos cero "
   ]
  },
  {
   "cell_type": "markdown",
   "metadata": {},
   "source": [
    "Mostramos la imagen del robot original y limpia:"
   ]
  },
  {
   "cell_type": "code",
   "execution_count": 1041,
   "metadata": {},
   "outputs": [
    {
     "data": {
      "text/plain": [
       "Text(0,0.5,'j')"
      ]
     },
     "execution_count": 1041,
     "metadata": {},
     "output_type": "execute_result"
    },
    {
     "data": {
      "image/png": "[encoded data removed]",
      "text/plain": [
       "<Figure size 300x300 with 1 Axes>"
      ]
     },
     "metadata": {},
     "output_type": "display_data"
    }
   ],
   "source": [
    "plt.figure(figsize=(3,3), dpi=100)\n",
    "plt.imshow(robot, cmap = 'Greys')\n",
    "plt.xlabel('i', fontsize=12)\n",
    "plt.ylabel('j', fontsize=12)"
   ]
  },
  {
   "cell_type": "markdown",
   "metadata": {},
   "source": [
    "Mostramos el ruido que se le añadirá a la imagen: "
   ]
  },
  {
   "cell_type": "code",
   "execution_count": 1042,
   "metadata": {},
   "outputs": [
    {
     "data": {
      "text/plain": [
       "Text(0,0.5,'j')"
      ]
     },
     "execution_count": 1042,
     "metadata": {},
     "output_type": "execute_result"
    },
    {
     "data": {
      "image/png": "[encoded data removed]",
      "text/plain": [
       "<Figure size 300x300 with 1 Axes>"
      ]
     },
     "metadata": {},
     "output_type": "display_data"
    }
   ],
   "source": [
    "plt.figure(figsize=(3,3), dpi=100)\n",
    "plt.imshow(rand, cmap = 'Greys')\n",
    "plt.xlabel('i', fontsize=12)\n",
    "plt.ylabel('j', fontsize=12)"
   ]
  },
  {
   "cell_type": "markdown",
   "metadata": {},
   "source": [
    "Mostramos la imagen con ruido:"
   ]
  },
  {
   "cell_type": "code",
   "execution_count": 1043,
   "metadata": {},
   "outputs": [
    {
     "data": {
      "text/plain": [
       "Text(0,0.5,'j')"
      ]
     },
     "execution_count": 1043,
     "metadata": {},
     "output_type": "execute_result"
    },
    {
     "data": {
      "image/png": "[encoded data removed]",
      "text/plain": [
       "<Figure size 300x300 with 1 Axes>"
      ]
     },
     "metadata": {},
     "output_type": "display_data"
    }
   ],
   "source": [
    "imgnoise = robot + rand\n",
    "imgnoise[imgnoise == 2] = 0 \n",
    "\n",
    "plt.figure(figsize=(3,3), dpi=100)\n",
    "plt.imshow(imgnoise, cmap = 'Greys')\n",
    "plt.xlabel('i', fontsize=12)\n",
    "plt.ylabel('j', fontsize=12)"
   ]
  },
  {
   "cell_type": "code",
   "execution_count": 1044,
   "metadata": {},
   "outputs": [],
   "source": [
    "Th = imgnoise.copy()\n",
    "Th_prob = imgnoise.copy()\n",
    "Q = 2\n",
    "L = len(imgnoise)\n",
    "T = 0.51\n",
    "\n",
    "for i in range(3000):\n",
    "    pi_c = posteriori(Th,imgnoise,L,1/T,1000)\n",
    "    n = np.random.randint(L)\n",
    "    m = np.random.randint(L)\n",
    "    if Th[n,m] == 0:\n",
    "        Th_prob[n,m] = 1\n",
    "    else:\n",
    "        Th_prob[n,m] = 0\n",
    "    pi_t = posteriori(Th_prob,imgnoise,L,1/T,1000)\n",
    "    if (pi_t/pi_c)>1:\n",
    "        Th = Th_prob.copy()\n",
    "    else:\n",
    "        Th_prob = Th.copy()\n",
    "        "
   ]
  },
  {
   "cell_type": "code",
   "execution_count": 1045,
   "metadata": {},
   "outputs": [
    {
     "data": {
      "text/plain": [
       "Text(0,0.5,'j')"
      ]
     },
     "execution_count": 1045,
     "metadata": {},
     "output_type": "execute_result"
    },
    {
     "data": {
      "image/png": "[encoded data removed]",
      "text/plain": [
       "<Figure size 300x300 with 1 Axes>"
      ]
     },
     "metadata": {},
     "output_type": "display_data"
    }
   ],
   "source": [
    "plt.figure(figsize=(3,3), dpi=100)\n",
    "plt.imshow(Th, cmap = 'Greys')\n",
    "plt.xlabel('i', fontsize=12)\n",
    "plt.ylabel('j', fontsize=12)\n"
   ]
  },
  {
   "cell_type": "code",
   "execution_count": null,
   "metadata": {},
   "outputs": [],
   "source": []
  }
 ],
 "metadata": {
  "kernelspec": {
   "display_name": "Python 3",
   "language": "python",
   "name": "python3"
  },
  "language_info": {
   "codemirror_mode": {
    "name": "ipython",
    "version": 3
   },
   "file_extension": ".py",
   "mimetype": "text/x-python",
   "name": "python",
   "nbconvert_exporter": "python",
   "pygments_lexer": "ipython3",
   "version": "3.6.9"
  }
 },
 "nbformat": 4,
 "nbformat_minor": 2
}
